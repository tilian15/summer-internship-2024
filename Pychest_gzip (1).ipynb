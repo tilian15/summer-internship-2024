{
 "cells": [
  {
   "cell_type": "code",
   "execution_count": 2,
   "id": "479f1240-dac7-46d5-9ee6-778d9f90d624",
   "metadata": {},
   "outputs": [
    {
     "name": "stdout",
     "output_type": "stream",
     "text": [
      "Requirement already satisfied: Cython in /opt/mamba/lib/python3.12/site-packages (3.0.11)\n",
      "Note: you may need to restart the kernel to use updated packages.\n",
      "Requirement already satisfied: PyChest in /opt/mamba/lib/python3.12/site-packages (1.22)\n",
      "Requirement already satisfied: setuptools in /opt/mamba/lib/python3.12/site-packages (from PyChest) (69.5.1)\n",
      "Requirement already satisfied: Cython in /opt/mamba/lib/python3.12/site-packages (from PyChest) (3.0.11)\n",
      "Note: you may need to restart the kernel to use updated packages.\n",
      "Requirement already satisfied: matplotlib in /opt/mamba/lib/python3.12/site-packages (3.9.2)\n",
      "Requirement already satisfied: contourpy>=1.0.1 in /opt/mamba/lib/python3.12/site-packages (from matplotlib) (1.2.1)\n",
      "Requirement already satisfied: cycler>=0.10 in /opt/mamba/lib/python3.12/site-packages (from matplotlib) (0.12.1)\n",
      "Requirement already satisfied: fonttools>=4.22.0 in /opt/mamba/lib/python3.12/site-packages (from matplotlib) (4.53.1)\n",
      "Requirement already satisfied: kiwisolver>=1.3.1 in /opt/mamba/lib/python3.12/site-packages (from matplotlib) (1.4.5)\n",
      "Requirement already satisfied: numpy>=1.23 in /opt/mamba/lib/python3.12/site-packages (from matplotlib) (1.26.4)\n",
      "Requirement already satisfied: packaging>=20.0 in /opt/mamba/lib/python3.12/site-packages (from matplotlib) (24.0)\n",
      "Requirement already satisfied: pillow>=8 in /opt/mamba/lib/python3.12/site-packages (from matplotlib) (10.3.0)\n",
      "Requirement already satisfied: pyparsing>=2.3.1 in /opt/mamba/lib/python3.12/site-packages (from matplotlib) (3.1.4)\n",
      "Requirement already satisfied: python-dateutil>=2.7 in /opt/mamba/lib/python3.12/site-packages (from matplotlib) (2.9.0)\n",
      "Requirement already satisfied: six>=1.5 in /opt/mamba/lib/python3.12/site-packages (from python-dateutil>=2.7->matplotlib) (1.16.0)\n",
      "Note: you may need to restart the kernel to use updated packages.\n"
     ]
    }
   ],
   "source": [
    "%pip install Cython\n",
    "%pip install PyChest\n",
    "%pip install matplotlib\n",
    "import PyChest\n",
    "import numpy as np\n",
    "import matplotlib.pyplot as plt\n",
    "import gzip"
   ]
  },
  {
   "cell_type": "code",
   "execution_count": 2,
   "id": "a1f6f7b5-51b7-480e-af72-3f94d9859d57",
   "metadata": {},
   "outputs": [
    {
     "name": "stdout",
     "output_type": "stream",
     "text": [
      "s_out :  b\"\\x1f\\x8b\\x08\\x00\\xc6\\xf1\\xcdf\\x02\\xffmT\\xcb\\x8e\\xe46\\x0c<\\xe7/x\\xcb.\\xd0\\xe9\\x0f\\xc8m\\x10\\xecan9l>\\x80\\x96\\xd861\\xb2\\xe8P\\x92g\\x9d\\xafO\\xd1\\xdd\\xf3\\xc8\\x03h\\xa0\\x01\\x9b,\\x16\\xab\\x8a\\xfe\\xbe\\x08mnIZ#\\xbb\\xd1\\xb6X\\xb7v\\xd4\\xbeH\\xd3F\\xf8%\\x1fI\\xb9P7*z\\x13\\xb2J\\xdf\\xd8\\xfbr\\xa5\\xdf\\x0b\\xd7\\xde.\\xc4ef\\xc1_\\xcd\\x94\\xc4;k\\xa5\\x89S\\x17W\\xa6\\xd1\\x84\\xfa\\x02\\x98I--\\xb2j\\x02\\xd4\\xdb<@&\\xab;z\\x00=/\\x9d\\xa4\\x8a\\xcf\\x07i\\x8d7o\\xd5\\x8f\\x87\\xad\\x9bK\\xc6;\\x9a\\xcbH\\x06\\xdc\\xd5\\x8a\\xa4Q\\xa4]\\xe9\\xfb\\xe26\\xe6\\xe5_\\xf4/\\x94\\xd8'\\x10\\xcej?4K\\xac\\xc3S3\\x9f\\x00\\x14t\\xed\\xc71K\\x8d\\xc7.E\\xb8I\\xbeP\\x1b-V\\xd0:\\x83\\xb8\\xbc\\x95\\x14\\xd9\\xa54\\xaa\\x12\\xc4\\xd9\\x0f\\xba\\x99\\x13\\x8b\\xdb\\xa4\\t\\xcdmS\\xe7\\xae\\x18\\x05~\\\\u\\xe5r\\xb2\\n\\tkw\\xec\\xd1?d\\xd6\\xba[\\xd9\\x05\\xfb\\xbf\\x1a\\xad!\\x17&\\xce\\xd2~=\\x07\\x9eJ\\xfc\\x92e\\x93\\x9a\\xa5v\\x80CK \\xc3\\x9e\\x94\\x86{\\x10CK\\x94\\xf6\\xe5(\\xfcb\\x9ai\\x95ur\\xaerz\\x98\\x96bn[\\xe1v\\xba\\x83=?p\\xb5\\xfe\\x1f\\xf2\\x97\\xdf\\xb8\\xec\\x00MG*\\xf2\\xf5\\r\\xbeu\\xb7\\x95\\xaf\\xf4\\x07\\xca\\x1d\\x14k\\x8e\\xd9\\xffM\\xc8m\\xd4\\xcc+\\x10aV\\xb5\\x8e\\x84\\x94#\\xbc\\x85\\xe5\\xc5\\xe0\\xdc4:2\\xd2,\\x9e\\xd9p\\x1a\\xff\\xc0\\x0b\\xc2\\x05\\x82A \\x97y\\x94\\xbb\\x8c\\xc1\\xfa\\xe1\\x04OE\\xdeC`e\\x9c\\x94\\xaf\\xf4\\xe4]ozF\\x13\\x12K\\xc1~R\\x93\\xd0\\x97\\xa7\\xe7\\xaf\\x11\\xab\\xaeu\\xc8\\x991\\x97\\xfd\\xd1\\xa6\\x7f\\t\\xed\\xecj#\\\\\\xc8\\xc0w\\x15ht\\xc3\\xa2\\xb4\\x08\\x97\\xbe 1\\x12M7\\x0c\\x0e\\xb8 2\\xc9a5c\\xe4sd\\xdd\\\\\\xfb\\xb2\\xa2k\\xb3W\\x89HN\\x07\\\\L\\x8bV\\x88,\\xecgt\\xa2\\xad\\xca\\xf0\\x90D\\xe0\\xb3\\xbf\\x9cVp9N\\n\\xadS\\xe6\\x8e\\xc0\\xf5\\x93\\xe1\\xa8\\xc9p\\x06\\xb4q\\xc7\\xd9\\xc0\\x90h_\\xf9%2#Y\\xd3c\\xe5\\xe7\\xfa\\x89\\xe4\\xe5\\xa4\\xa396A\\xc0y\\xae\\xd6\\xba\\xa6{\\xef\\x06\\x81\\r\\xd3\\xb0p\\x84\\x03\\x10`w\\xa1\\xd7E\\xa1%\\xea\\x1f\\xdb]Ha\\xd7\\xd6uE!\\x988\\x9f\\x96@\\x16\\xd81C\\x9a\\x13\\xcc\\xb5\\xbd\\x80MEF\\xc3\\xe5+}\\xc3E\\xc7eB\\xe5\\x86\\xb3\\xba'\\xbf\\xc1/\\xc7\\x15\\xde]}z\\xfe\\x19\\xc4\\xd6\\r\\t\\x8b/\\x86\\xac[\\xb1#\\xba\\xef\\xf4\\\\wN\\x07\\x85\\xd6Vg;\\x8f\\xcd\\xb6`\\x8f8d\\x990\\x1er\\xb7X\\xb1KZ\\xea=H\\x9c\\xf7`\\xdd\\x82\\xf6yX2\\xbf_\\x1dT\\xc4\\x89\\xfa\\x91\\xf9\\xb8\\x7f\\xa7\\x9c\\xb5a\\x81?\\x11\\x82;=\\x9el\\xf4O\\x19\\xbb\\xc4\\xbe\\xb5m Q\\xd3\\xf1q(\\xcd\\x92Jd\\x19\\xf4K\\\\\\xee\\xfd\\xf8n\\xef&\\x7f\\x8e\\xdb\\xf5\\xa7\\xbf\\x01\\xcc\\x00p\\x0bA\\x05\\x00\\x00\"\n",
      "s_out_octet :  [31, 139, 8, 0, 198, 241, 205, 102, 2, 255, 109, 84, 203, 142, 228, 54, 12, 60, 231, 47, 120, 203, 46, 208, 233, 15, 200, 109, 16, 236, 97, 110, 57, 108, 62, 128, 150, 216, 54, 49, 178, 232, 80, 146, 103, 157, 175, 79, 209, 221, 243, 200, 3, 104, 160, 1, 155, 44, 22, 171, 138, 254, 190, 8, 109, 110, 73, 90, 35, 187, 209, 182, 88, 183, 118, 212, 190, 72, 211, 70, 248, 37, 31, 73, 185, 80, 55, 42, 122, 19, 178, 74, 223, 216, 251, 114, 165, 223, 11, 215, 222, 46, 196, 101, 102, 193, 95, 205, 148, 196, 59, 107, 165, 137, 83, 23, 87, 166, 209, 132, 250, 2, 152, 73, 45, 45, 178, 106, 2, 212, 219, 60, 64, 38, 171, 59, 122, 0, 61, 47, 157, 164, 138, 207, 7, 105, 141, 55, 111, 213, 143, 135, 173, 155, 75, 198, 59, 154, 203, 72, 6, 220, 213, 138, 164, 81, 164, 93, 233, 251, 226, 54, 230, 229, 95, 244, 47, 148, 216, 39, 16, 206, 106, 63, 52, 75, 172, 195, 83, 51, 159, 0, 20, 116, 237, 199, 49, 75, 141, 199, 46, 69, 184, 73, 190, 80, 27, 45, 86, 208, 58, 131, 184, 188, 149, 20, 217, 165, 52, 170, 18, 196, 217, 15, 186, 153, 19, 139, 219, 164, 9, 205, 109, 83, 231, 174, 24, 5, 126, 92, 117, 229, 114, 178, 10, 9, 107, 119, 236, 209, 63, 100, 214, 186, 91, 217, 5, 251, 191, 26, 173, 33, 23, 38, 206, 210, 126, 61, 7, 158, 74, 252, 146, 101, 147, 154, 165, 118, 128, 67, 75, 32, 195, 158, 148, 134, 123, 16, 67, 75, 148, 246, 229, 40, 252, 98, 154, 105, 149, 117, 114, 174, 114, 122, 152, 150, 98, 110, 91, 225, 118, 186, 131, 61, 63, 112, 181, 254, 31, 242, 151, 223, 184, 236, 0, 77, 71, 42, 242, 245, 13, 190, 117, 183, 149, 175, 244, 7, 202, 29, 20, 107, 142, 217, 255, 77, 200, 109, 212, 204, 43, 16, 97, 86, 181, 142, 132, 148, 35, 188, 133, 229, 197, 224, 220, 52, 58, 50, 210, 44, 158, 217, 112, 26, 255, 192, 11, 194, 5, 130, 65, 32, 151, 121, 148, 187, 140, 193, 250, 225, 4, 79, 69, 222, 67, 96, 101, 156, 148, 175, 244, 228, 93, 111, 122, 70, 19, 18, 75, 193, 126, 82, 147, 208, 151, 167, 231, 175, 17, 171, 174, 117, 200, 153, 49, 151, 253, 209, 166, 127, 9, 237, 236, 106, 35, 92, 200, 192, 119, 21, 104, 116, 195, 162, 180, 8, 151, 190, 32, 49, 18, 77, 55, 12, 14, 184, 32, 50, 201, 97, 53, 99, 228, 115, 100, 221, 92, 251, 178, 162, 107, 179, 87, 137, 72, 78, 7, 92, 76, 139, 86, 136, 44, 236, 103, 116, 162, 173, 202, 240, 144, 68, 224, 179, 191, 156, 86, 112, 57, 78, 10, 173, 83, 230, 142, 192, 245, 147, 225, 168, 201, 112, 6, 180, 113, 199, 217, 192, 144, 104, 95, 249, 37, 50, 35, 89, 211, 99, 229, 231, 250, 137, 228, 229, 164, 163, 57, 54, 65, 192, 121, 174, 214, 186, 166, 123, 239, 6, 129, 13, 211, 176, 112, 132, 3, 16, 96, 119, 161, 215, 69, 161, 37, 234, 31, 219, 93, 72, 97, 215, 214, 117, 69, 33, 152, 56, 159, 150, 64, 22, 216, 49, 67, 154, 19, 204, 181, 189, 128, 77, 69, 70, 195, 229, 43, 125, 195, 69, 199, 101, 66, 229, 134, 179, 186, 39, 191, 193, 47, 199, 21, 222, 93, 125, 122, 254, 25, 196, 214, 13, 9, 139, 47, 134, 172, 91, 177, 35, 186, 239, 244, 92, 119, 78, 7, 133, 214, 86, 103, 59, 143, 205, 182, 96, 143, 56, 100, 153, 48, 30, 114, 183, 88, 177, 75, 90, 234, 61, 72, 156, 247, 96, 221, 130, 246, 121, 88, 50, 191, 95, 29, 84, 196, 137, 250, 145, 249, 184, 127, 167, 156, 181, 97, 129, 63, 17, 130, 59, 61, 158, 108, 244, 79, 25, 187, 196, 190, 181, 109, 32, 81, 211, 241, 113, 40, 205, 146, 74, 100, 25, 244, 75, 92, 238, 253, 248, 110, 239, 38, 127, 142, 219, 245, 167, 191, 1, 204, 0, 112, 11, 65, 5, 0, 0]\n",
      "text1_octet :  [31, 139, 8, 0, 198, 241, 205, 102, 2, 255, 109, 146, 65, 110, 220, 48, 12, 69, 175, 194, 101, 11, 76, 231, 0, 221, 22, 217, 119, 145, 30, 128, 150, 56, 146, 16, 154, 52, 72, 201, 137, 111, 95, 202, 201, 52, 72, 82, 192, 128, 1, 137, 122, 252, 252, 159, 143, 149, 96, 51, 77, 228, 14, 122, 131, 173, 106, 87, 63, 164, 87, 242, 230, 16, 95, 178, 145, 26, 50, 116, 5, 110, 55, 2, 21, 120, 64, 235, 245, 10, 191, 25, 165, 251, 5, 144, 11, 82, 252, 36, 67, 34, 235, 216, 4, 22, 76, 157, 172, 33, 12, 39, 232, 53, 48, 75, 211, 84, 105, 109, 41, 80, 247, 126, 129, 76, 42, 123, 188, 9, 116, 169, 29, 72, 200, 202, 1, 77, 230, 205, 189, 250, 237, 208, 187, 26, 229, 184, 131, 194, 35, 105, 112, 87, 101, 74, 131, 201, 175, 240, 88, 77, 71, 169, 159, 228, 95, 32, 161, 45, 33, 56, 55, 125, 105, 153, 230, 56, 184, 184, 218, 18, 160, 41, 87, 95, 142, 66, 50, 143, 141, 152, 208, 41, 95, 192, 135, 207, 17, 154, 148, 16, 78, 247, 18, 166, 157, 216, 65, 104, 10, 71, 59, 224, 166, 6, 72, 166, 75, 75, 241, 216, 183, 102, 216, 91, 180, 10, 125, 40, 109, 69, 62, 85, 77, 11, 165, 91, 204, 209, 223, 109, 110, 178, 43, 239, 20, 243, 63, 43, 172, 211, 174, 232, 88, 200, 127, 158, 13, 79, 39, 126, 100, 218, 72, 50, 73, 15, 120, 120, 25, 228, 136, 39, 165, 97, 54, 133, 197, 147, 89, 218, 235, 193, 248, 164, 45, 195, 74, 235, 98, 40, 116, 102, 152, 42, 171, 233, 198, 232, 103, 58, 49, 231, 59, 183, 201, 255, 200, 223, 126, 33, 239, 1, 77, 71, 98, 250, 126, 199, 123, 55, 93, 241, 10, 127, 162, 220, 66, 162, 228, 217, 251, 235, 134, 220, 134, 100, 92, 131, 24, 97, 137, 246, 216, 16, 62, 102, 182, 17, 57, 107, 36, 183, 140, 30, 59, 226, 58, 207, 116, 24, 140, 15, 188, 41, 152, 195, 176, 48, 200, 168, 12, 126, 181, 113, 170, 126, 75, 2, 23, 166, 127, 75, 160, 60, 78, 201, 215, 191, 104, 121, 160, 216, 184, 2, 0, 0]\n",
      "l :  [0, 0, 0, 0, 0, 0, 0, 0, 0, 0, 0, (146, 84), (65, 203), (110, 142), (220, 228), (48, 54), 0, (69, 60), (175, 231), (194, 47), (101, 120), (11, 203), (76, 46), (231, 208), (0, 233), (221, 15), (22, 200), (217, 109), (119, 16), (145, 236), (30, 97), (128, 110), (150, 57), (56, 108), (146, 62), (16, 128), (154, 150), (52, 216), (72, 54), (201, 49), (137, 178), (111, 232), (95, 80), (202, 146), (201, 103), (52, 157), (72, 175), (82, 79), (192, 209), (128, 221), (1, 243), (137, 200), (122, 3), (252, 104), (252, 160), (159, 1), (143, 155), (149, 44), (96, 22), (51, 171), (77, 138), (228, 254), (14, 190), (122, 8), (131, 109), (173, 110), (106, 73), (87, 90), (63, 35), (164, 187), (87, 209), (242, 182), (230, 88), (16, 183), (95, 118), (178, 212), (145, 190), (26, 72), (50, 211), (116, 70), (5, 248), (110, 37), (55, 31), (2, 73), (21, 185), (120, 80), (64, 55), (235, 42), (245, 122), (10, 19), (191, 178), (25, 74), (165, 223), (251, 216), (5, 251), (144, 114), (11, 165), (82, 223), (252, 11), (36, 215), (67, 222), (34, 46), (235, 196), (216, 101), (4, 102), (22, 193), (76, 95), (157, 205), (172, 148), (33, 196), (12, 59), (39, 107), (232, 165), (53, 137), (48, 83), (75, 23), (211, 87), (84, 166), (105, 209), (109, 132), (41, 250), (80, 2), (247, 152), (126, 73), (129, 45), (76, 45), (42, 178), (123, 106), (188, 2), (9, 212), (116, 219), (169, 60), (29, 64), (72, 38), (200, 171), (202, 59), (1, 122), (77, 0), (230, 61), (205, 47), (189, 157), (250, 164), (237, 138), (208, 207), (187, 7), (26, 105), (229, 141), (184, 55), (131, 111), (194, 213), (35, 143), (105, 135), (112, 173), (87, 155), (101, 75), (74, 198), (131, 59), (201, 154), (175, 203), (240, 72), (88, 6), (77, 220), (71, 213), (169, 138), (159, 164), (228, 81), (95, 164), (32, 93), (161, 233), (45, 251), (33, 226), (56, 54), (55, 230), (125, 229), (105, 95), (153, 244), (230, 47), (56, 148), (184, 216), (184, 39), (218, 16), (18, 206), (160, 106), (41, 63), (87, 52), (95, 75), (142, 172), (66, 195), (50, 83), (143, 51), (141, 159), (152, 0), (208, 20), (41, 116), (95, 237), (192, 199), (135, 49), (207, 75), (17, 141), (154, 199), (148, 46), (16, 69), (78, 184), (247, 73), (18, 190), (166, 80), (157, 27), (216, 45), (65, 86), (104, 208), (10, 58), (71, 131), (59, 184), (224, 188), (166, 149), (6, 20), (72, 217), (166, 165), (75, 52), (75, 170), (241, 18), (216, 196), (183, 217), (102, 15), (216, 186), (91, 153), (180, 19), (10, 139), (125, 219), (40, 164), (109, 9), (69, 205), (62, 109), (85, 83), (77, 231), (11, 174), (165, 24), (91, 5), (204, 126), (209, 92), (223, 117), (109, 229), (110, 114), 0, (43, 10), (239, 9), (20, 107), (243, 119), (63, 236), (43, 209), (172, 63), (211, 100), (174, 214), (232, 186), (88, 91), (200, 217), (127, 5), (158, 251), (13, 191), (79, 26), (39, 173), (126, 33), (100, 23), (218, 38), (72, 206), (50, 210), (73, 126), (15, 61), (120, 7), (120, 158), (25, 74), (228, 252), (136, 146), (39, 101), (165, 147), (97, 154), (54, 165), (133, 118), (197, 128), (147, 67), (89, 75), (218, 32), (235, 195), (193, 158), (248, 148), (164, 134), (45, 123), (195, 16), (74, 67), (235, 75), (98, 148), (40, 246), (116, 229), (102, 40), (152, 252), (42, 98), (171, 154), (233, 105), (198, 149), (232, 117), (103, 114), (58, 174), (49, 114), (231, 122), (59, 152), (183, 150), (201, 98), (255, 110), (200, 91), (223, 225), (126, 118), (33, 186), (239, 131), (1, 61), (77, 63), (71, 112), (98, 181), (250, 254), (126, 31), (199, 242), (123, 151), (55, 223), (93, 184), (241, 236), (10, 0), (127, 77), (162, 71), (220, 42), (66, 242), (162, 245), (228, 13), (217, 190), (251, 117), (235, 183), (134, 149), (220, 175), (134, 244), (100, 7), (92, 202), (131, 29), (24, 20), (97, 107), (137, 142), (246, 217), (216, 255), (16, 77), (62, 200), (102, 109), (182, 212), (17, 204), (57, 43), (107, 16), (36, 97), (183, 86), (140, 181), (30, 142), (59, 132), (226, 148), (58, 35), (207, 188), (116, 133), (24, 229), (140, 197), (15, 224), (188, 220), (41, 52), (152, 58), (195, 50), (176, 210), (48, 44), (200, 158), (168, 217), (12, 112), (126, 26), (181, 255), (113, 192), (170, 11), (126, 194), (75, 5), (2, 130), (23, 65), (166, 32), (127, 151), (75, 121), (160, 148), (60, 187), (78, 140), (201, 193), (215, 250), (191, 225), (104, 4), (121, 79), (160, 69), (216, 222), (184, 67), (2, 96), (0, 101), (0, 156)]\n"
     ]
    }
   ],
   "source": [
    "text = \"The process of photosynthesis is crucial to life on Earth. Plants, algae, and certain bacteria use this biochemical process to convert light energy into chemical energy stored in glucose molecules. Through photosynthesis, carbon dioxide is absorbed and oxygen is released, sustaining the oxygen levels necessary for aerobic respiration in animals. This intricate process involves two main stages: the light-dependent reactions occurring in the thylakoid membranes of chloroplasts, and the light-independent reactions (Calvin cycle) in the stroma. Understanding photosynthesis is fundamental not only to biology but also to our understanding of climate regulation and sustainable energy solutions. Artificial intelligence (AI) continues to revolutionize various industries, from healthcare to finance and beyond. AI algorithms, powered by machine learning and neural networks, analyze vast datasets to uncover patterns and make predictions. In healthcare, AI aids in diagnostics and personalized medicine, while in finance, it optimizes trading strategies and risk management. Ethical considerations surrounding AI's impact on employment and privacy are ongoing topics of debate. As AI technology advances, its integration into everyday life raises questions about regulation, transparency, and the societal implications of machine intelligence.\t\"\n",
    "\n",
    "text1 = \"The process of photosynthesis is crucial to life on Earth. Plants, algae, and certain bacteria use this biochemical process to convert light energy into chemical energy stored in glucose molecules. Through photosynthesis, carbon dioxide is absorbed and oxygen is released, sustaining the oxygen levels necessary for aerobic respiration in animals. This intricate process involves two main stages: the light-dependent reactions occurring in the thylakoid membranes of chloroplasts, and the light-independent reactions (Calvin cycle) in the stroma. Understanding photosynthesis is fundamental not only to biology but also to our understanding of climate regulation and sustainable energy solutions.\"\n",
    "\n",
    "s_out = gzip.compress(text.encode())\n",
    "print( \"s_out : \" , s_out)\n",
    "\n",
    "s_out_octet = list(s_out)\n",
    "text1_octet = list(gzip.compress(text1.encode()))\n",
    "\n",
    "l = []\n",
    "for i in range(len(text1_octet)):\n",
    "    if text1_octet[i] == s_out_octet[i] : \n",
    "        l.append(0)\n",
    "    else : \n",
    "        l.append((text1_octet[i],s_out_octet[i]))\n",
    "\n",
    "\n",
    "print(\"s_out_octet : \", s_out_octet)\n",
    "print( \"text1_octet : \",text1_octet)\n",
    "print(\"l : \", l ) "
   ]
  },
  {
   "cell_type": "code",
   "execution_count": 13,
   "id": "7dc8ad2e-29c5-4e3f-8714-903b7e93f9fd",
   "metadata": {},
   "outputs": [
    {
     "name": "stdout",
     "output_type": "stream",
     "text": [
      "len(utile) :  709\n",
      "[109, 84, 203, 142, 228, 54, 12, 60, 231, 47, 120, 203, 46, 208, 233, 15, 200, 109, 16, 236, 97, 110, 57, 108, 62, 128, 150, 216, 54, 49, 178, 232, 80, 146, 103, 157, 175, 79, 209, 221, 243, 200, 3, 104, 160, 1, 155, 44, 22, 171, 138, 254, 190, 8, 109, 110, 73, 90, 35, 187, 209, 182, 88, 183, 118, 212, 190, 72, 211, 70, 248, 37, 31, 73, 185, 80, 55, 42, 122, 19, 178, 74, 223, 216, 251, 114, 165, 223, 11, 215, 222, 46, 196, 101, 102, 193, 95, 205, 148, 196, 59, 107, 165, 137, 83, 23, 87, 166, 209, 132, 250, 2, 152, 73, 45, 45, 178, 106, 2, 212, 219, 60, 64, 38, 171, 59, 122, 0, 61, 47, 157, 164, 138, 207, 7, 105, 141, 55, 111, 213, 143, 135, 173, 155, 75, 198, 59, 154, 203, 72, 6, 220, 213, 138, 164, 81, 164, 93, 233, 251, 226, 54, 230, 229, 95, 244, 47, 148, 216, 39, 16, 206, 106, 63, 52, 75, 172, 195, 83, 51, 159, 0, 20, 116, 237, 199, 49, 75, 141, 199, 46, 69, 184, 73, 190, 80, 27, 45, 86, 208, 58, 131, 184, 188, 149, 20, 217, 165, 52, 170, 18, 196, 217, 15, 186, 153, 19, 139, 219, 164, 9, 205, 109, 83, 231, 174, 24, 5, 126, 92, 117, 229, 114, 178, 10, 9, 107, 119, 236, 209, 63, 100, 214, 186, 91, 217, 5, 251, 191, 26, 173, 33, 23, 38, 206, 210, 126, 61, 7, 158, 74, 252, 146, 101, 147, 154, 165, 118, 128, 67, 75, 32, 195, 158, 148, 134, 123, 16, 67, 75, 148, 246, 229, 40, 252, 98, 154, 105, 149, 117, 114, 174, 114, 122, 152, 150, 98, 110, 91, 225, 118, 186, 131, 61, 63, 112, 181, 254, 31, 242, 151, 223, 184, 236, 0, 77, 71, 42, 242, 245, 13, 190, 117, 183, 149, 175, 244, 7, 202, 29, 20, 107, 142, 217, 255, 77, 200, 109, 212, 204, 43, 16, 97, 86, 181, 142, 132, 148, 35, 188, 133, 229, 197, 224, 220, 52, 58, 50, 210, 44, 158, 217, 112, 26, 255, 192, 11, 194, 5, 130, 65, 32, 151, 121, 148, 187, 140, 193, 250, 225, 4, 79, 69, 222, 67, 96, 101, 156, 148, 175, 244, 228, 93, 111, 122, 70, 19, 18, 75, 193, 126, 82, 147, 208, 151, 167, 231, 175, 17, 171, 174, 117, 200, 153, 49, 151, 253, 209, 166, 127, 9, 237, 236, 106, 35, 92, 200, 192, 119, 21, 104, 116, 195, 162, 180, 8, 151, 190, 32, 49, 18, 77, 55, 12, 14, 184, 32, 50, 201, 97, 53, 99, 228, 115, 100, 221, 92, 251, 178, 162, 107, 179, 87, 137, 72, 78, 7, 92, 76, 139, 86, 136, 44, 236, 103, 116, 162, 173, 202, 240, 144, 68, 224, 179, 191, 156, 86, 112, 57, 78, 10, 173, 83, 230, 142, 192, 245, 147, 225, 168, 201, 112, 6, 180, 113, 199, 217, 192, 144, 104, 95, 249, 37, 50, 35, 89, 211, 99, 229, 231, 250, 137, 228, 229, 164, 163, 57, 54, 65, 192, 121, 174, 214, 186, 166, 123, 239, 6, 129, 13, 211, 176, 112, 132, 3, 16, 96, 119, 161, 215, 69, 161, 37, 234, 31, 219, 93, 72, 97, 215, 214, 117, 69, 33, 152, 56, 159, 150, 64, 22, 216, 49, 67, 154, 19, 204, 181, 189, 128, 77, 69, 70, 195, 229, 43, 125, 195, 69, 199, 101, 66, 229, 134, 179, 186, 39, 191, 193, 47, 199, 21, 222, 93, 125, 122, 254, 25, 196, 214, 13, 9, 139, 47, 134, 172, 91, 177, 35, 186, 239, 244, 92, 119, 78, 7, 133, 214, 86, 103, 59, 143, 205, 182, 96, 143, 56, 100, 153, 48, 30, 114, 183, 88, 177, 75, 90, 234, 61, 72, 156, 247, 96, 221, 130, 246, 121, 88, 50, 191, 95, 29, 84, 196, 137, 250, 145, 249, 184, 127, 167, 156, 181, 97, 129, 63, 17, 130, 59, 61, 158, 108, 244, 79, 25, 187, 196, 190, 181, 109, 32, 81, 211, 241, 113, 40, 205, 146, 74, 100, 25, 244, 75, 92, 238, 253, 248, 110, 239, 38]\n",
      "avec le text initial en enlevant les octets inutiles de début et de fin :  [413]\n",
      "avec le text initial :  [422]\n",
      "[422]\n"
     ]
    },
    {
     "name": "stderr",
     "output_type": "stream",
     "text": [
      "Computing Segment Scores:  100% |█████████████████████| (6/6, 854 it/s)\n",
      "Finding Exact Changepoints:  100% |██████████████| (119/119, 3107 it/s)\n",
      "Computing Segment Scores:  100% |█████████████████████| (6/6, 648 it/s)\n",
      "Finding Exact Changepoints:  100% |██████████████| (123/123, 3299 it/s)\n"
     ]
    }
   ],
   "source": [
    "utile = s_out_octet [10: -15 ]\n",
    "print( \"len(utile) : \", len(utile))\n",
    "print(utile)\n",
    "\n",
    "\n",
    "min_distance = 0.5\n",
    "process_count = 2\n",
    "\n",
    "print(\"avec le text initial en enlevant les octets inutiles de début et de fin : \", PyChest.find_changepoints(utile, min_distance, process_count))\n",
    "\n",
    "print(\"avec le text initial : \", PyChest.find_changepoints(gzip.compress(text.encode()), min_distance, process_count))\n",
    "\n",
    "\n",
    "# print(estimates)"
   ]
  },
  {
   "cell_type": "markdown",
   "id": "203a92f9-629f-480c-a0aa-bcfe2e6134b1",
   "metadata": {},
   "source": [
    "### Interprétation des Octets\n",
    "Octets 0-1 : Signature du fichier GZIP, toujours 1f 8b en hexadécimal, qui correspond à [31, 139] en décimal. Cela identifie le fichier comme un fichier GZIP.\n",
    "\n",
    "Octet 2 : Version de la compression, toujours 08 (qui correspond à [8]), indiquant que le format de compression est \"deflate\".\n",
    "\n",
    "Octet 3 : Flags indiquant les options utilisées (souvent 00 si aucune option n'est activée).\n",
    "\n",
    "Octets 4-7 : Horodatage de la création du fichier, représenté en format UNIX (le nombre de secondes depuis le 1er janvier 1970). Dans votre exemple, cela correspond aux valeurs [216, 165, 205, 102].\n",
    "\n",
    "Octet 8 : Drapeau supplémentaire (souvent 02, ce qui signifie que la compression \"deflate\" est utilisée).\n",
    "\n",
    "Octet 9 : Indique le système de fichiers d'origine, par exemple, [255] peut indiquer un système de fichiers non spécifié.\n",
    "\n",
    "Octets 10 et suivants : Données compressées.\n",
    "\n",
    "[31, 139] : Signature du fichier GZIP (0x1F 0x8B).\n",
    "\n",
    "[8] : Compression avec \"deflate\".\n",
    "\n",
    "[0] : Aucun flag activé (pas de nom de fichier original, pas de commentaire, etc.).\n",
    "\n",
    "[216, 165, 205, 102] : Timestamp en hexadécimal (0x66cda5d8), qui est l'heure à laquelle la compression a été effectuée.\n",
    "\n",
    "[2] : Indique que la compression \"deflate\" est utilisée.\n",
    "\n",
    "[255] : Indique que le système de fichiers d'origine n'est pas spécifié.\n",
    "\n",
    "[243, 201, 47, ... , 45, 74, 5] : Contenu des données compressées. Ces octets représentent les données \"deflate\".\n",
    "\n",
    "[126, 117, 32, 142, 20, 0, 0, 0] : Pied de page contenant le CRC32 et la taille des données non compressées.\n",
    "\n"
   ]
  },
  {
   "cell_type": "markdown",
   "id": "9dfcf5ad-b9e2-4d00-908c-b968242d986e",
   "metadata": {},
   "source": [
    "## On remarque que le change point detecté change uniquement de 10 mots magré les octets de début et de fin enlevé donc on garde le text entier initial"
   ]
  },
  {
   "cell_type": "markdown",
   "id": "1724596b-1212-4223-ab5d-5627854aabea",
   "metadata": {},
   "source": [
    "## Test pour plusieurs min_distances"
   ]
  },
  {
   "cell_type": "code",
   "execution_count": 14,
   "id": "9a04f0ed-0e50-44fc-8eeb-7d974477037e",
   "metadata": {},
   "outputs": [
    {
     "name": "stdout",
     "output_type": "stream",
     "text": [
      "734\n"
     ]
    },
    {
     "name": "stderr",
     "output_type": "stream",
     "text": [
      "Computing Segment Scores:  100% |██████████████████| (54/54, 7538 it/s)\n",
      "Finding Exact Changepoints:  100% |██████████████| (288/288, 2251 it/s)        \n",
      "                                                                               \r"
     ]
    },
    {
     "name": "stdout",
     "output_type": "stream",
     "text": [
      "min_distance 0.1 :  [39]\n",
      "min_distance 0.15000000000000002 :  [85]\n"
     ]
    },
    {
     "name": "stderr",
     "output_type": "stream",
     "text": [
      "Computing Segment Scores:  100% |██████████████████| (34/34, 3923 it/s)\n",
      "Finding Exact Changepoints:  100% |██████████████| (259/259, 2602 it/s)        \n",
      "Computing Segment Scores:  100% |██████████████████| (24/24, 2695 it/s)        \n",
      "Finding Exact Changepoints:  100% |██████████████| (245/245, 2746 it/s)        \n",
      "Computing Segment Scores:  100% |██████████████████| (18/18, 1719 it/s)        \n",
      "Finding Exact Changepoints:  100% |██████████████| (186/186, 3131 it/s)\n"
     ]
    },
    {
     "name": "stdout",
     "output_type": "stream",
     "text": [
      "min_distance 0.20000000000000004 :  [66]\n",
      "min_distance 0.25000000000000006 :  [213]\n"
     ]
    },
    {
     "name": "stderr",
     "output_type": "stream",
     "text": [
      "Computing Segment Scores:  100% |██████████████████| (14/14, 1579 it/s)\n",
      "Finding Exact Changepoints:  100% |██████████████| (296/296, 3587 it/s)        \n",
      "Computing Segment Scores:  100% |██████████████████| (12/12, 1371 it/s)        \n"
     ]
    },
    {
     "name": "stdout",
     "output_type": "stream",
     "text": [
      "min_distance 0.30000000000000004 :  [98]\n",
      "min_distance 0.3500000000000001 :  [639]\n"
     ]
    },
    {
     "name": "stderr",
     "output_type": "stream",
     "text": [
      "Finding Exact Changepoints:  100% |██████████████| (258/258, 3246 it/s)        \n",
      "Computing Segment Scores:  100% |█████████████████████| (9/9, 982 it/s)        \n",
      "Finding Exact Changepoints:  100% |██████████████| (294/294, 3237 it/s)        \n",
      "                                                                               \r"
     ]
    },
    {
     "name": "stdout",
     "output_type": "stream",
     "text": [
      "min_distance 0.40000000000000013 :  [137]\n",
      "min_distance 0.45000000000000007 :  [387]\n",
      "min_distance 0.5000000000000001 :  [422]\n",
      "min_distance 0.5500000000000002 :  [434]\n"
     ]
    },
    {
     "name": "stderr",
     "output_type": "stream",
     "text": [
      "Computing Segment Scores:  100% |████████████████████| (8/8, 1024 it/s)\n",
      "Finding Exact Changepoints:  100% |██████████████| (220/220, 3067 it/s)        \n",
      "Computing Segment Scores:  100% |█████████████████████| (6/6, 682 it/s)        \n",
      "Finding Exact Changepoints:  100% |██████████████| (123/123, 3634 it/s)\n",
      "Computing Segment Scores:  100% |█████████████████████| (5/5, 371 it/s)\n",
      "Finding Exact Changepoints:  100% |██████████████| (135/135, 2545 it/s)\n"
     ]
    }
   ],
   "source": [
    "text = \"The process of photosynthesis is crucial to life on Earth. Plants, algae, and certain bacteria use this biochemical process to convert light energy into chemical energy stored in glucose molecules. Through photosynthesis, carbon dioxide is absorbed and oxygen is released, sustaining the oxygen levels necessary for aerobic respiration in animals. This intricate process involves two main stages: the light-dependent reactions occurring in the thylakoid membranes of chloroplasts, and the light-independent reactions (Calvin cycle) in the stroma. Understanding photosynthesis is fundamental not only to biology but also to our understanding of climate regulation and sustainable energy solutions. Artificial intelligence (AI) continues to revolutionize various industries, from healthcare to finance and beyond. AI algorithms, powered by machine learning and neural networks, analyze vast datasets to uncover patterns and make predictions. In healthcare, AI aids in diagnostics and personalized medicine, while in finance, it optimizes trading strategies and risk management. Ethical considerations surrounding AI's impact on employment and privacy are ongoing topics of debate. As AI technology advances, its integration into everyday life raises questions about regulation, transparency, and the societal implications of machine intelligence.\t\"\n",
    "\n",
    "taille_echantillon = 10\n",
    "\n",
    "\n",
    "\n",
    "a = len(text) // taille_echantillon\n",
    "\n",
    "# print(a)\n",
    "# for i in range(a):\n",
    "#     text_test = text[0:i*taille_echantillon]\n",
    "#     print(text_test)\n",
    "#     text_test_octet = list(gzip.compress(text_test.encode()))\n",
    "#     print(len(text_test_octet))\n",
    "    \n",
    "print(len(list(gzip.compress(text.encode()))))\n",
    "\n",
    "\n",
    "# min_distance = 0.3\n",
    "process_count = 2\n",
    "\n",
    "for i in np.arange(0.1, 0.6, 0.05):\n",
    "    print(f\"min_distance {i} : \", PyChest.find_changepoints(gzip.compress(text.encode()), i, process_count))\n",
    "\n",
    "\n",
    "\n",
    "# estimates = PyChest.find_changepoints(utile, i, process_count)\n",
    "# print(estimates)"
   ]
  },
  {
   "cell_type": "code",
   "execution_count": null,
   "id": "6fdcae14-df8a-4ef4-aa94-199d8ba61751",
   "metadata": {},
   "outputs": [],
   "source": [
    "text = \"The process of photosynthesis is crucial to life on Earth. Plants, algae, and certain bacteria use this biochemical process to convert light energy into chemical energy stored in glucose molecules. Through photosynthesis, carbon dioxide is absorbed and oxygen is released, sustaining the oxygen levels necessary for aerobic respiration in animals. This intricate process involves two main stages: the light-dependent reactions occurring in the thylakoid membranes of chloroplasts, and the light-independent reactions (Calvin cycle) in the stroma. Understanding photosynthesis is fundamental not only to biology but also to our understanding of climate regulation and sustainable energy solutions. Artificial intelligence (AI) continues to revolutionize various industries, from healthcare to finance and beyond. AI algorithms, powered by machine learning and neural networks, analyze vast datasets to uncover patterns and make predictions. In healthcare, AI aids in diagnostics and personalized medicine, while in finance, it optimizes trading strategies and risk management. Ethical considerations surrounding AI's impact on employment and privacy are ongoing topics of debate. As AI technology advances, its integration into everyday life raises questions about regulation, transparency, and the societal implications of machine intelligence.\t\"\n",
    "\n",
    "text_octet = gzip.compress(tex.encode())\n",
    "\n",
    "\n",
    "\n",
    "\n",
    "estimates = PyChest.find_changepoints(text_octet, , process_count)\n",
    "print(estimates)"
   ]
  },
  {
   "cell_type": "markdown",
   "id": "309edbca-ef85-4bf8-99c1-1b725e81fb88",
   "metadata": {},
   "source": [
    "## Verification du change points avec celui estimé"
   ]
  },
  {
   "cell_type": "code",
   "execution_count": 3,
   "id": "49803d32-73c0-48b9-9e18-d5f80e48b87f",
   "metadata": {},
   "outputs": [
    {
     "name": "stdout",
     "output_type": "stream",
     "text": [
      "134\n",
      "\n",
      "20\n",
      "The proces\n",
      "30\n",
      "The process of photo\n",
      "40\n",
      "The process of photosynthesis \n",
      "50\n",
      "The process of photosynthesis is crucial\n",
      "58\n",
      "The process of photosynthesis is crucial to life o\n",
      "68\n",
      "The process of photosynthesis is crucial to life on Earth. P\n",
      "78\n",
      "The process of photosynthesis is crucial to life on Earth. Plants, alg\n",
      "84\n",
      "The process of photosynthesis is crucial to life on Earth. Plants, algae, and ce\n",
      "90\n",
      "The process of photosynthesis is crucial to life on Earth. Plants, algae, and certain bact\n",
      "95\n",
      "The process of photosynthesis is crucial to life on Earth. Plants, algae, and certain bacteria use t\n",
      "100\n",
      "The process of photosynthesis is crucial to life on Earth. Plants, algae, and certain bacteria use this bioche\n",
      "108\n",
      "The process of photosynthesis is crucial to life on Earth. Plants, algae, and certain bacteria use this biochemical proc\n",
      "114\n",
      "The process of photosynthesis is crucial to life on Earth. Plants, algae, and certain bacteria use this biochemical process to con\n",
      "118\n",
      "The process of photosynthesis is crucial to life on Earth. Plants, algae, and certain bacteria use this biochemical process to convert light\n",
      "124\n",
      "The process of photosynthesis is crucial to life on Earth. Plants, algae, and certain bacteria use this biochemical process to convert light energy in\n",
      "130\n",
      "The process of photosynthesis is crucial to life on Earth. Plants, algae, and certain bacteria use this biochemical process to convert light energy into chemica\n",
      "134\n",
      "The process of photosynthesis is crucial to life on Earth. Plants, algae, and certain bacteria use this biochemical process to convert light energy into chemical energy s\n",
      "136\n",
      "The process of photosynthesis is crucial to life on Earth. Plants, algae, and certain bacteria use this biochemical process to convert light energy into chemical energy stored in g\n",
      "142\n",
      "The process of photosynthesis is crucial to life on Earth. Plants, algae, and certain bacteria use this biochemical process to convert light energy into chemical energy stored in glucose mol\n",
      "148\n",
      "The process of photosynthesis is crucial to life on Earth. Plants, algae, and certain bacteria use this biochemical process to convert light energy into chemical energy stored in glucose molecules. Th\n",
      "154\n",
      "The process of photosynthesis is crucial to life on Earth. Plants, algae, and certain bacteria use this biochemical process to convert light energy into chemical energy stored in glucose molecules. Through phot\n",
      "160\n",
      "The process of photosynthesis is crucial to life on Earth. Plants, algae, and certain bacteria use this biochemical process to convert light energy into chemical energy stored in glucose molecules. Through photosynthesis\n",
      "161\n",
      "The process of photosynthesis is crucial to life on Earth. Plants, algae, and certain bacteria use this biochemical process to convert light energy into chemical energy stored in glucose molecules. Through photosynthesis, carbon d\n",
      "166\n",
      "The process of photosynthesis is crucial to life on Earth. Plants, algae, and certain bacteria use this biochemical process to convert light energy into chemical energy stored in glucose molecules. Through photosynthesis, carbon dioxide is \n",
      "172\n",
      "The process of photosynthesis is crucial to life on Earth. Plants, algae, and certain bacteria use this biochemical process to convert light energy into chemical energy stored in glucose molecules. Through photosynthesis, carbon dioxide is absorbed a\n",
      "179\n",
      "The process of photosynthesis is crucial to life on Earth. Plants, algae, and certain bacteria use this biochemical process to convert light energy into chemical energy stored in glucose molecules. Through photosynthesis, carbon dioxide is absorbed and oxygen \n",
      "185\n",
      "The process of photosynthesis is crucial to life on Earth. Plants, algae, and certain bacteria use this biochemical process to convert light energy into chemical energy stored in glucose molecules. Through photosynthesis, carbon dioxide is absorbed and oxygen is release\n",
      "190\n",
      "The process of photosynthesis is crucial to life on Earth. Plants, algae, and certain bacteria use this biochemical process to convert light energy into chemical energy stored in glucose molecules. Through photosynthesis, carbon dioxide is absorbed and oxygen is released, sustain\n",
      "196\n",
      "The process of photosynthesis is crucial to life on Earth. Plants, algae, and certain bacteria use this biochemical process to convert light energy into chemical energy stored in glucose molecules. Through photosynthesis, carbon dioxide is absorbed and oxygen is released, sustaining the ox\n",
      "201\n",
      "The process of photosynthesis is crucial to life on Earth. Plants, algae, and certain bacteria use this biochemical process to convert light energy into chemical energy stored in glucose molecules. Through photosynthesis, carbon dioxide is absorbed and oxygen is released, sustaining the oxygen level\n",
      "205\n",
      "The process of photosynthesis is crucial to life on Earth. Plants, algae, and certain bacteria use this biochemical process to convert light energy into chemical energy stored in glucose molecules. Through photosynthesis, carbon dioxide is absorbed and oxygen is released, sustaining the oxygen levels necessar\n",
      "209\n",
      "The process of photosynthesis is crucial to life on Earth. Plants, algae, and certain bacteria use this biochemical process to convert light energy into chemical energy stored in glucose molecules. Through photosynthesis, carbon dioxide is absorbed and oxygen is released, sustaining the oxygen levels necessary for aero\n",
      "215\n",
      "The process of photosynthesis is crucial to life on Earth. Plants, algae, and certain bacteria use this biochemical process to convert light energy into chemical energy stored in glucose molecules. Through photosynthesis, carbon dioxide is absorbed and oxygen is released, sustaining the oxygen levels necessary for aerobic respir\n",
      "220\n",
      "The process of photosynthesis is crucial to life on Earth. Plants, algae, and certain bacteria use this biochemical process to convert light energy into chemical energy stored in glucose molecules. Through photosynthesis, carbon dioxide is absorbed and oxygen is released, sustaining the oxygen levels necessary for aerobic respiration in a\n",
      "226\n",
      "The process of photosynthesis is crucial to life on Earth. Plants, algae, and certain bacteria use this biochemical process to convert light energy into chemical energy stored in glucose molecules. Through photosynthesis, carbon dioxide is absorbed and oxygen is released, sustaining the oxygen levels necessary for aerobic respiration in animals. Th\n",
      "230\n",
      "The process of photosynthesis is crucial to life on Earth. Plants, algae, and certain bacteria use this biochemical process to convert light energy into chemical energy stored in glucose molecules. Through photosynthesis, carbon dioxide is absorbed and oxygen is released, sustaining the oxygen levels necessary for aerobic respiration in animals. This intrica\n",
      "236\n",
      "The process of photosynthesis is crucial to life on Earth. Plants, algae, and certain bacteria use this biochemical process to convert light energy into chemical energy stored in glucose molecules. Through photosynthesis, carbon dioxide is absorbed and oxygen is released, sustaining the oxygen levels necessary for aerobic respiration in animals. This intricate process\n",
      "240\n",
      "The process of photosynthesis is crucial to life on Earth. Plants, algae, and certain bacteria use this biochemical process to convert light energy into chemical energy stored in glucose molecules. Through photosynthesis, carbon dioxide is absorbed and oxygen is released, sustaining the oxygen levels necessary for aerobic respiration in animals. This intricate process involves \n",
      "245\n",
      "The process of photosynthesis is crucial to life on Earth. Plants, algae, and certain bacteria use this biochemical process to convert light energy into chemical energy stored in glucose molecules. Through photosynthesis, carbon dioxide is absorbed and oxygen is released, sustaining the oxygen levels necessary for aerobic respiration in animals. This intricate process involves two main s\n",
      "252\n",
      "The process of photosynthesis is crucial to life on Earth. Plants, algae, and certain bacteria use this biochemical process to convert light energy into chemical energy stored in glucose molecules. Through photosynthesis, carbon dioxide is absorbed and oxygen is released, sustaining the oxygen levels necessary for aerobic respiration in animals. This intricate process involves two main stages: the\n",
      "259\n",
      "The process of photosynthesis is crucial to life on Earth. Plants, algae, and certain bacteria use this biochemical process to convert light energy into chemical energy stored in glucose molecules. Through photosynthesis, carbon dioxide is absorbed and oxygen is released, sustaining the oxygen levels necessary for aerobic respiration in animals. This intricate process involves two main stages: the light-dep\n",
      "265\n",
      "The process of photosynthesis is crucial to life on Earth. Plants, algae, and certain bacteria use this biochemical process to convert light energy into chemical energy stored in glucose molecules. Through photosynthesis, carbon dioxide is absorbed and oxygen is released, sustaining the oxygen levels necessary for aerobic respiration in animals. This intricate process involves two main stages: the light-dependent rea\n",
      "270\n",
      "The process of photosynthesis is crucial to life on Earth. Plants, algae, and certain bacteria use this biochemical process to convert light energy into chemical energy stored in glucose molecules. Through photosynthesis, carbon dioxide is absorbed and oxygen is released, sustaining the oxygen levels necessary for aerobic respiration in animals. This intricate process involves two main stages: the light-dependent reactions occ\n",
      "277\n",
      "The process of photosynthesis is crucial to life on Earth. Plants, algae, and certain bacteria use this biochemical process to convert light energy into chemical energy stored in glucose molecules. Through photosynthesis, carbon dioxide is absorbed and oxygen is released, sustaining the oxygen levels necessary for aerobic respiration in animals. This intricate process involves two main stages: the light-dependent reactions occurring in \n",
      "282\n",
      "The process of photosynthesis is crucial to life on Earth. Plants, algae, and certain bacteria use this biochemical process to convert light energy into chemical energy stored in glucose molecules. Through photosynthesis, carbon dioxide is absorbed and oxygen is released, sustaining the oxygen levels necessary for aerobic respiration in animals. This intricate process involves two main stages: the light-dependent reactions occurring in the thylak\n",
      "287\n",
      "The process of photosynthesis is crucial to life on Earth. Plants, algae, and certain bacteria use this biochemical process to convert light energy into chemical energy stored in glucose molecules. Through photosynthesis, carbon dioxide is absorbed and oxygen is released, sustaining the oxygen levels necessary for aerobic respiration in animals. This intricate process involves two main stages: the light-dependent reactions occurring in the thylakoid membra\n",
      "293\n",
      "The process of photosynthesis is crucial to life on Earth. Plants, algae, and certain bacteria use this biochemical process to convert light energy into chemical energy stored in glucose molecules. Through photosynthesis, carbon dioxide is absorbed and oxygen is released, sustaining the oxygen levels necessary for aerobic respiration in animals. This intricate process involves two main stages: the light-dependent reactions occurring in the thylakoid membranes of chl\n",
      "296\n",
      "The process of photosynthesis is crucial to life on Earth. Plants, algae, and certain bacteria use this biochemical process to convert light energy into chemical energy stored in glucose molecules. Through photosynthesis, carbon dioxide is absorbed and oxygen is released, sustaining the oxygen levels necessary for aerobic respiration in animals. This intricate process involves two main stages: the light-dependent reactions occurring in the thylakoid membranes of chloroplasts,\n",
      "302\n",
      "The process of photosynthesis is crucial to life on Earth. Plants, algae, and certain bacteria use this biochemical process to convert light energy into chemical energy stored in glucose molecules. Through photosynthesis, carbon dioxide is absorbed and oxygen is released, sustaining the oxygen levels necessary for aerobic respiration in animals. This intricate process involves two main stages: the light-dependent reactions occurring in the thylakoid membranes of chloroplasts, and the l\n",
      "308\n",
      "The process of photosynthesis is crucial to life on Earth. Plants, algae, and certain bacteria use this biochemical process to convert light energy into chemical energy stored in glucose molecules. Through photosynthesis, carbon dioxide is absorbed and oxygen is released, sustaining the oxygen levels necessary for aerobic respiration in animals. This intricate process involves two main stages: the light-dependent reactions occurring in the thylakoid membranes of chloroplasts, and the light-indep\n",
      "310\n",
      "The process of photosynthesis is crucial to life on Earth. Plants, algae, and certain bacteria use this biochemical process to convert light energy into chemical energy stored in glucose molecules. Through photosynthesis, carbon dioxide is absorbed and oxygen is released, sustaining the oxygen levels necessary for aerobic respiration in animals. This intricate process involves two main stages: the light-dependent reactions occurring in the thylakoid membranes of chloroplasts, and the light-independent rea\n",
      "311\n",
      "The process of photosynthesis is crucial to life on Earth. Plants, algae, and certain bacteria use this biochemical process to convert light energy into chemical energy stored in glucose molecules. Through photosynthesis, carbon dioxide is absorbed and oxygen is released, sustaining the oxygen levels necessary for aerobic respiration in animals. This intricate process involves two main stages: the light-dependent reactions occurring in the thylakoid membranes of chloroplasts, and the light-independent reactions (Ca\n",
      "316\n",
      "The process of photosynthesis is crucial to life on Earth. Plants, algae, and certain bacteria use this biochemical process to convert light energy into chemical energy stored in glucose molecules. Through photosynthesis, carbon dioxide is absorbed and oxygen is released, sustaining the oxygen levels necessary for aerobic respiration in animals. This intricate process involves two main stages: the light-dependent reactions occurring in the thylakoid membranes of chloroplasts, and the light-independent reactions (Calvin cycle\n",
      "323\n",
      "The process of photosynthesis is crucial to life on Earth. Plants, algae, and certain bacteria use this biochemical process to convert light energy into chemical energy stored in glucose molecules. Through photosynthesis, carbon dioxide is absorbed and oxygen is released, sustaining the oxygen levels necessary for aerobic respiration in animals. This intricate process involves two main stages: the light-dependent reactions occurring in the thylakoid membranes of chloroplasts, and the light-independent reactions (Calvin cycle) in the s\n",
      "327\n",
      "The process of photosynthesis is crucial to life on Earth. Plants, algae, and certain bacteria use this biochemical process to convert light energy into chemical energy stored in glucose molecules. Through photosynthesis, carbon dioxide is absorbed and oxygen is released, sustaining the oxygen levels necessary for aerobic respiration in animals. This intricate process involves two main stages: the light-dependent reactions occurring in the thylakoid membranes of chloroplasts, and the light-independent reactions (Calvin cycle) in the stroma. Und\n",
      "334\n",
      "The process of photosynthesis is crucial to life on Earth. Plants, algae, and certain bacteria use this biochemical process to convert light energy into chemical energy stored in glucose molecules. Through photosynthesis, carbon dioxide is absorbed and oxygen is released, sustaining the oxygen levels necessary for aerobic respiration in animals. This intricate process involves two main stages: the light-dependent reactions occurring in the thylakoid membranes of chloroplasts, and the light-independent reactions (Calvin cycle) in the stroma. Understanding\n",
      "339\n",
      "The process of photosynthesis is crucial to life on Earth. Plants, algae, and certain bacteria use this biochemical process to convert light energy into chemical energy stored in glucose molecules. Through photosynthesis, carbon dioxide is absorbed and oxygen is released, sustaining the oxygen levels necessary for aerobic respiration in animals. This intricate process involves two main stages: the light-dependent reactions occurring in the thylakoid membranes of chloroplasts, and the light-independent reactions (Calvin cycle) in the stroma. Understanding photosynt\n",
      "342\n",
      "The process of photosynthesis is crucial to life on Earth. Plants, algae, and certain bacteria use this biochemical process to convert light energy into chemical energy stored in glucose molecules. Through photosynthesis, carbon dioxide is absorbed and oxygen is released, sustaining the oxygen levels necessary for aerobic respiration in animals. This intricate process involves two main stages: the light-dependent reactions occurring in the thylakoid membranes of chloroplasts, and the light-independent reactions (Calvin cycle) in the stroma. Understanding photosynthesis is f\n",
      "344\n",
      "The process of photosynthesis is crucial to life on Earth. Plants, algae, and certain bacteria use this biochemical process to convert light energy into chemical energy stored in glucose molecules. Through photosynthesis, carbon dioxide is absorbed and oxygen is released, sustaining the oxygen levels necessary for aerobic respiration in animals. This intricate process involves two main stages: the light-dependent reactions occurring in the thylakoid membranes of chloroplasts, and the light-independent reactions (Calvin cycle) in the stroma. Understanding photosynthesis is fundamental\n",
      "350\n",
      "The process of photosynthesis is crucial to life on Earth. Plants, algae, and certain bacteria use this biochemical process to convert light energy into chemical energy stored in glucose molecules. Through photosynthesis, carbon dioxide is absorbed and oxygen is released, sustaining the oxygen levels necessary for aerobic respiration in animals. This intricate process involves two main stages: the light-dependent reactions occurring in the thylakoid membranes of chloroplasts, and the light-independent reactions (Calvin cycle) in the stroma. Understanding photosynthesis is fundamental not only \n",
      "356\n",
      "The process of photosynthesis is crucial to life on Earth. Plants, algae, and certain bacteria use this biochemical process to convert light energy into chemical energy stored in glucose molecules. Through photosynthesis, carbon dioxide is absorbed and oxygen is released, sustaining the oxygen levels necessary for aerobic respiration in animals. This intricate process involves two main stages: the light-dependent reactions occurring in the thylakoid membranes of chloroplasts, and the light-independent reactions (Calvin cycle) in the stroma. Understanding photosynthesis is fundamental not only to biology\n",
      "362\n",
      "The process of photosynthesis is crucial to life on Earth. Plants, algae, and certain bacteria use this biochemical process to convert light energy into chemical energy stored in glucose molecules. Through photosynthesis, carbon dioxide is absorbed and oxygen is released, sustaining the oxygen levels necessary for aerobic respiration in animals. This intricate process involves two main stages: the light-dependent reactions occurring in the thylakoid membranes of chloroplasts, and the light-independent reactions (Calvin cycle) in the stroma. Understanding photosynthesis is fundamental not only to biology but also \n",
      "367\n",
      "The process of photosynthesis is crucial to life on Earth. Plants, algae, and certain bacteria use this biochemical process to convert light energy into chemical energy stored in glucose molecules. Through photosynthesis, carbon dioxide is absorbed and oxygen is released, sustaining the oxygen levels necessary for aerobic respiration in animals. This intricate process involves two main stages: the light-dependent reactions occurring in the thylakoid membranes of chloroplasts, and the light-independent reactions (Calvin cycle) in the stroma. Understanding photosynthesis is fundamental not only to biology but also to our und\n",
      "372\n",
      "The process of photosynthesis is crucial to life on Earth. Plants, algae, and certain bacteria use this biochemical process to convert light energy into chemical energy stored in glucose molecules. Through photosynthesis, carbon dioxide is absorbed and oxygen is released, sustaining the oxygen levels necessary for aerobic respiration in animals. This intricate process involves two main stages: the light-dependent reactions occurring in the thylakoid membranes of chloroplasts, and the light-independent reactions (Calvin cycle) in the stroma. Understanding photosynthesis is fundamental not only to biology but also to our understanding\n",
      "373\n",
      "The process of photosynthesis is crucial to life on Earth. Plants, algae, and certain bacteria use this biochemical process to convert light energy into chemical energy stored in glucose molecules. Through photosynthesis, carbon dioxide is absorbed and oxygen is released, sustaining the oxygen levels necessary for aerobic respiration in animals. This intricate process involves two main stages: the light-dependent reactions occurring in the thylakoid membranes of chloroplasts, and the light-independent reactions (Calvin cycle) in the stroma. Understanding photosynthesis is fundamental not only to biology but also to our understanding of climat\n",
      "377\n",
      "The process of photosynthesis is crucial to life on Earth. Plants, algae, and certain bacteria use this biochemical process to convert light energy into chemical energy stored in glucose molecules. Through photosynthesis, carbon dioxide is absorbed and oxygen is released, sustaining the oxygen levels necessary for aerobic respiration in animals. This intricate process involves two main stages: the light-dependent reactions occurring in the thylakoid membranes of chloroplasts, and the light-independent reactions (Calvin cycle) in the stroma. Understanding photosynthesis is fundamental not only to biology but also to our understanding of climate regulati\n",
      "384\n",
      "The process of photosynthesis is crucial to life on Earth. Plants, algae, and certain bacteria use this biochemical process to convert light energy into chemical energy stored in glucose molecules. Through photosynthesis, carbon dioxide is absorbed and oxygen is released, sustaining the oxygen levels necessary for aerobic respiration in animals. This intricate process involves two main stages: the light-dependent reactions occurring in the thylakoid membranes of chloroplasts, and the light-independent reactions (Calvin cycle) in the stroma. Understanding photosynthesis is fundamental not only to biology but also to our understanding of climate regulation and sus\n",
      "388\n",
      "The process of photosynthesis is crucial to life on Earth. Plants, algae, and certain bacteria use this biochemical process to convert light energy into chemical energy stored in glucose molecules. Through photosynthesis, carbon dioxide is absorbed and oxygen is released, sustaining the oxygen levels necessary for aerobic respiration in animals. This intricate process involves two main stages: the light-dependent reactions occurring in the thylakoid membranes of chloroplasts, and the light-independent reactions (Calvin cycle) in the stroma. Understanding photosynthesis is fundamental not only to biology but also to our understanding of climate regulation and sustainable e\n",
      "392\n",
      "The process of photosynthesis is crucial to life on Earth. Plants, algae, and certain bacteria use this biochemical process to convert light energy into chemical energy stored in glucose molecules. Through photosynthesis, carbon dioxide is absorbed and oxygen is released, sustaining the oxygen levels necessary for aerobic respiration in animals. This intricate process involves two main stages: the light-dependent reactions occurring in the thylakoid membranes of chloroplasts, and the light-independent reactions (Calvin cycle) in the stroma. Understanding photosynthesis is fundamental not only to biology but also to our understanding of climate regulation and sustainable energy solu\n",
      "396\n",
      "The process of photosynthesis is crucial to life on Earth. Plants, algae, and certain bacteria use this biochemical process to convert light energy into chemical energy stored in glucose molecules. Through photosynthesis, carbon dioxide is absorbed and oxygen is released, sustaining the oxygen levels necessary for aerobic respiration in animals. This intricate process involves two main stages: the light-dependent reactions occurring in the thylakoid membranes of chloroplasts, and the light-independent reactions (Calvin cycle) in the stroma. Understanding photosynthesis is fundamental not only to biology but also to our understanding of climate regulation and sustainable energy solutions. Art\n",
      "402\n",
      "The process of photosynthesis is crucial to life on Earth. Plants, algae, and certain bacteria use this biochemical process to convert light energy into chemical energy stored in glucose molecules. Through photosynthesis, carbon dioxide is absorbed and oxygen is released, sustaining the oxygen levels necessary for aerobic respiration in animals. This intricate process involves two main stages: the light-dependent reactions occurring in the thylakoid membranes of chloroplasts, and the light-independent reactions (Calvin cycle) in the stroma. Understanding photosynthesis is fundamental not only to biology but also to our understanding of climate regulation and sustainable energy solutions. Artificial in\n",
      "407\n",
      "The process of photosynthesis is crucial to life on Earth. Plants, algae, and certain bacteria use this biochemical process to convert light energy into chemical energy stored in glucose molecules. Through photosynthesis, carbon dioxide is absorbed and oxygen is released, sustaining the oxygen levels necessary for aerobic respiration in animals. This intricate process involves two main stages: the light-dependent reactions occurring in the thylakoid membranes of chloroplasts, and the light-independent reactions (Calvin cycle) in the stroma. Understanding photosynthesis is fundamental not only to biology but also to our understanding of climate regulation and sustainable energy solutions. Artificial intelligence\n",
      "413\n",
      "The process of photosynthesis is crucial to life on Earth. Plants, algae, and certain bacteria use this biochemical process to convert light energy into chemical energy stored in glucose molecules. Through photosynthesis, carbon dioxide is absorbed and oxygen is released, sustaining the oxygen levels necessary for aerobic respiration in animals. This intricate process involves two main stages: the light-dependent reactions occurring in the thylakoid membranes of chloroplasts, and the light-independent reactions (Calvin cycle) in the stroma. Understanding photosynthesis is fundamental not only to biology but also to our understanding of climate regulation and sustainable energy solutions. Artificial intelligence (AI) cont\n",
      "422\n",
      "The process of photosynthesis is crucial to life on Earth. Plants, algae, and certain bacteria use this biochemical process to convert light energy into chemical energy stored in glucose molecules. Through photosynthesis, carbon dioxide is absorbed and oxygen is released, sustaining the oxygen levels necessary for aerobic respiration in animals. This intricate process involves two main stages: the light-dependent reactions occurring in the thylakoid membranes of chloroplasts, and the light-independent reactions (Calvin cycle) in the stroma. Understanding photosynthesis is fundamental not only to biology but also to our understanding of climate regulation and sustainable energy solutions. Artificial intelligence (AI) continues to r\n",
      "426\n",
      "The process of photosynthesis is crucial to life on Earth. Plants, algae, and certain bacteria use this biochemical process to convert light energy into chemical energy stored in glucose molecules. Through photosynthesis, carbon dioxide is absorbed and oxygen is released, sustaining the oxygen levels necessary for aerobic respiration in animals. This intricate process involves two main stages: the light-dependent reactions occurring in the thylakoid membranes of chloroplasts, and the light-independent reactions (Calvin cycle) in the stroma. Understanding photosynthesis is fundamental not only to biology but also to our understanding of climate regulation and sustainable energy solutions. Artificial intelligence (AI) continues to revolutioni\n",
      "429\n",
      "The process of photosynthesis is crucial to life on Earth. Plants, algae, and certain bacteria use this biochemical process to convert light energy into chemical energy stored in glucose molecules. Through photosynthesis, carbon dioxide is absorbed and oxygen is released, sustaining the oxygen levels necessary for aerobic respiration in animals. This intricate process involves two main stages: the light-dependent reactions occurring in the thylakoid membranes of chloroplasts, and the light-independent reactions (Calvin cycle) in the stroma. Understanding photosynthesis is fundamental not only to biology but also to our understanding of climate regulation and sustainable energy solutions. Artificial intelligence (AI) continues to revolutionize various\n",
      "436\n",
      "The process of photosynthesis is crucial to life on Earth. Plants, algae, and certain bacteria use this biochemical process to convert light energy into chemical energy stored in glucose molecules. Through photosynthesis, carbon dioxide is absorbed and oxygen is released, sustaining the oxygen levels necessary for aerobic respiration in animals. This intricate process involves two main stages: the light-dependent reactions occurring in the thylakoid membranes of chloroplasts, and the light-independent reactions (Calvin cycle) in the stroma. Understanding photosynthesis is fundamental not only to biology but also to our understanding of climate regulation and sustainable energy solutions. Artificial intelligence (AI) continues to revolutionize various industrie\n",
      "442\n",
      "The process of photosynthesis is crucial to life on Earth. Plants, algae, and certain bacteria use this biochemical process to convert light energy into chemical energy stored in glucose molecules. Through photosynthesis, carbon dioxide is absorbed and oxygen is released, sustaining the oxygen levels necessary for aerobic respiration in animals. This intricate process involves two main stages: the light-dependent reactions occurring in the thylakoid membranes of chloroplasts, and the light-independent reactions (Calvin cycle) in the stroma. Understanding photosynthesis is fundamental not only to biology but also to our understanding of climate regulation and sustainable energy solutions. Artificial intelligence (AI) continues to revolutionize various industries, from he\n",
      "448\n",
      "The process of photosynthesis is crucial to life on Earth. Plants, algae, and certain bacteria use this biochemical process to convert light energy into chemical energy stored in glucose molecules. Through photosynthesis, carbon dioxide is absorbed and oxygen is released, sustaining the oxygen levels necessary for aerobic respiration in animals. This intricate process involves two main stages: the light-dependent reactions occurring in the thylakoid membranes of chloroplasts, and the light-independent reactions (Calvin cycle) in the stroma. Understanding photosynthesis is fundamental not only to biology but also to our understanding of climate regulation and sustainable energy solutions. Artificial intelligence (AI) continues to revolutionize various industries, from healthcare t\n",
      "453\n",
      "The process of photosynthesis is crucial to life on Earth. Plants, algae, and certain bacteria use this biochemical process to convert light energy into chemical energy stored in glucose molecules. Through photosynthesis, carbon dioxide is absorbed and oxygen is released, sustaining the oxygen levels necessary for aerobic respiration in animals. This intricate process involves two main stages: the light-dependent reactions occurring in the thylakoid membranes of chloroplasts, and the light-independent reactions (Calvin cycle) in the stroma. Understanding photosynthesis is fundamental not only to biology but also to our understanding of climate regulation and sustainable energy solutions. Artificial intelligence (AI) continues to revolutionize various industries, from healthcare to finance \n",
      "458\n",
      "The process of photosynthesis is crucial to life on Earth. Plants, algae, and certain bacteria use this biochemical process to convert light energy into chemical energy stored in glucose molecules. Through photosynthesis, carbon dioxide is absorbed and oxygen is released, sustaining the oxygen levels necessary for aerobic respiration in animals. This intricate process involves two main stages: the light-dependent reactions occurring in the thylakoid membranes of chloroplasts, and the light-independent reactions (Calvin cycle) in the stroma. Understanding photosynthesis is fundamental not only to biology but also to our understanding of climate regulation and sustainable energy solutions. Artificial intelligence (AI) continues to revolutionize various industries, from healthcare to finance and beyond\n",
      "463\n",
      "The process of photosynthesis is crucial to life on Earth. Plants, algae, and certain bacteria use this biochemical process to convert light energy into chemical energy stored in glucose molecules. Through photosynthesis, carbon dioxide is absorbed and oxygen is released, sustaining the oxygen levels necessary for aerobic respiration in animals. This intricate process involves two main stages: the light-dependent reactions occurring in the thylakoid membranes of chloroplasts, and the light-independent reactions (Calvin cycle) in the stroma. Understanding photosynthesis is fundamental not only to biology but also to our understanding of climate regulation and sustainable energy solutions. Artificial intelligence (AI) continues to revolutionize various industries, from healthcare to finance and beyond. AI algor\n",
      "468\n",
      "The process of photosynthesis is crucial to life on Earth. Plants, algae, and certain bacteria use this biochemical process to convert light energy into chemical energy stored in glucose molecules. Through photosynthesis, carbon dioxide is absorbed and oxygen is released, sustaining the oxygen levels necessary for aerobic respiration in animals. This intricate process involves two main stages: the light-dependent reactions occurring in the thylakoid membranes of chloroplasts, and the light-independent reactions (Calvin cycle) in the stroma. Understanding photosynthesis is fundamental not only to biology but also to our understanding of climate regulation and sustainable energy solutions. Artificial intelligence (AI) continues to revolutionize various industries, from healthcare to finance and beyond. AI algorithms, pow\n",
      "474\n",
      "The process of photosynthesis is crucial to life on Earth. Plants, algae, and certain bacteria use this biochemical process to convert light energy into chemical energy stored in glucose molecules. Through photosynthesis, carbon dioxide is absorbed and oxygen is released, sustaining the oxygen levels necessary for aerobic respiration in animals. This intricate process involves two main stages: the light-dependent reactions occurring in the thylakoid membranes of chloroplasts, and the light-independent reactions (Calvin cycle) in the stroma. Understanding photosynthesis is fundamental not only to biology but also to our understanding of climate regulation and sustainable energy solutions. Artificial intelligence (AI) continues to revolutionize various industries, from healthcare to finance and beyond. AI algorithms, powered by ma\n",
      "480\n",
      "The process of photosynthesis is crucial to life on Earth. Plants, algae, and certain bacteria use this biochemical process to convert light energy into chemical energy stored in glucose molecules. Through photosynthesis, carbon dioxide is absorbed and oxygen is released, sustaining the oxygen levels necessary for aerobic respiration in animals. This intricate process involves two main stages: the light-dependent reactions occurring in the thylakoid membranes of chloroplasts, and the light-independent reactions (Calvin cycle) in the stroma. Understanding photosynthesis is fundamental not only to biology but also to our understanding of climate regulation and sustainable energy solutions. Artificial intelligence (AI) continues to revolutionize various industries, from healthcare to finance and beyond. AI algorithms, powered by machine lear\n",
      "486\n",
      "The process of photosynthesis is crucial to life on Earth. Plants, algae, and certain bacteria use this biochemical process to convert light energy into chemical energy stored in glucose molecules. Through photosynthesis, carbon dioxide is absorbed and oxygen is released, sustaining the oxygen levels necessary for aerobic respiration in animals. This intricate process involves two main stages: the light-dependent reactions occurring in the thylakoid membranes of chloroplasts, and the light-independent reactions (Calvin cycle) in the stroma. Understanding photosynthesis is fundamental not only to biology but also to our understanding of climate regulation and sustainable energy solutions. Artificial intelligence (AI) continues to revolutionize various industries, from healthcare to finance and beyond. AI algorithms, powered by machine learning and n\n",
      "490\n",
      "The process of photosynthesis is crucial to life on Earth. Plants, algae, and certain bacteria use this biochemical process to convert light energy into chemical energy stored in glucose molecules. Through photosynthesis, carbon dioxide is absorbed and oxygen is released, sustaining the oxygen levels necessary for aerobic respiration in animals. This intricate process involves two main stages: the light-dependent reactions occurring in the thylakoid membranes of chloroplasts, and the light-independent reactions (Calvin cycle) in the stroma. Understanding photosynthesis is fundamental not only to biology but also to our understanding of climate regulation and sustainable energy solutions. Artificial intelligence (AI) continues to revolutionize various industries, from healthcare to finance and beyond. AI algorithms, powered by machine learning and neural netw\n",
      "495\n",
      "The process of photosynthesis is crucial to life on Earth. Plants, algae, and certain bacteria use this biochemical process to convert light energy into chemical energy stored in glucose molecules. Through photosynthesis, carbon dioxide is absorbed and oxygen is released, sustaining the oxygen levels necessary for aerobic respiration in animals. This intricate process involves two main stages: the light-dependent reactions occurring in the thylakoid membranes of chloroplasts, and the light-independent reactions (Calvin cycle) in the stroma. Understanding photosynthesis is fundamental not only to biology but also to our understanding of climate regulation and sustainable energy solutions. Artificial intelligence (AI) continues to revolutionize various industries, from healthcare to finance and beyond. AI algorithms, powered by machine learning and neural networks, anal\n",
      "500\n",
      "The process of photosynthesis is crucial to life on Earth. Plants, algae, and certain bacteria use this biochemical process to convert light energy into chemical energy stored in glucose molecules. Through photosynthesis, carbon dioxide is absorbed and oxygen is released, sustaining the oxygen levels necessary for aerobic respiration in animals. This intricate process involves two main stages: the light-dependent reactions occurring in the thylakoid membranes of chloroplasts, and the light-independent reactions (Calvin cycle) in the stroma. Understanding photosynthesis is fundamental not only to biology but also to our understanding of climate regulation and sustainable energy solutions. Artificial intelligence (AI) continues to revolutionize various industries, from healthcare to finance and beyond. AI algorithms, powered by machine learning and neural networks, analyze vast d\n",
      "505\n",
      "The process of photosynthesis is crucial to life on Earth. Plants, algae, and certain bacteria use this biochemical process to convert light energy into chemical energy stored in glucose molecules. Through photosynthesis, carbon dioxide is absorbed and oxygen is released, sustaining the oxygen levels necessary for aerobic respiration in animals. This intricate process involves two main stages: the light-dependent reactions occurring in the thylakoid membranes of chloroplasts, and the light-independent reactions (Calvin cycle) in the stroma. Understanding photosynthesis is fundamental not only to biology but also to our understanding of climate regulation and sustainable energy solutions. Artificial intelligence (AI) continues to revolutionize various industries, from healthcare to finance and beyond. AI algorithms, powered by machine learning and neural networks, analyze vast datasets to\n",
      "510\n",
      "The process of photosynthesis is crucial to life on Earth. Plants, algae, and certain bacteria use this biochemical process to convert light energy into chemical energy stored in glucose molecules. Through photosynthesis, carbon dioxide is absorbed and oxygen is released, sustaining the oxygen levels necessary for aerobic respiration in animals. This intricate process involves two main stages: the light-dependent reactions occurring in the thylakoid membranes of chloroplasts, and the light-independent reactions (Calvin cycle) in the stroma. Understanding photosynthesis is fundamental not only to biology but also to our understanding of climate regulation and sustainable energy solutions. Artificial intelligence (AI) continues to revolutionize various industries, from healthcare to finance and beyond. AI algorithms, powered by machine learning and neural networks, analyze vast datasets to uncover p\n",
      "517\n",
      "The process of photosynthesis is crucial to life on Earth. Plants, algae, and certain bacteria use this biochemical process to convert light energy into chemical energy stored in glucose molecules. Through photosynthesis, carbon dioxide is absorbed and oxygen is released, sustaining the oxygen levels necessary for aerobic respiration in animals. This intricate process involves two main stages: the light-dependent reactions occurring in the thylakoid membranes of chloroplasts, and the light-independent reactions (Calvin cycle) in the stroma. Understanding photosynthesis is fundamental not only to biology but also to our understanding of climate regulation and sustainable energy solutions. Artificial intelligence (AI) continues to revolutionize various industries, from healthcare to finance and beyond. AI algorithms, powered by machine learning and neural networks, analyze vast datasets to uncover patterns an\n",
      "523\n",
      "The process of photosynthesis is crucial to life on Earth. Plants, algae, and certain bacteria use this biochemical process to convert light energy into chemical energy stored in glucose molecules. Through photosynthesis, carbon dioxide is absorbed and oxygen is released, sustaining the oxygen levels necessary for aerobic respiration in animals. This intricate process involves two main stages: the light-dependent reactions occurring in the thylakoid membranes of chloroplasts, and the light-independent reactions (Calvin cycle) in the stroma. Understanding photosynthesis is fundamental not only to biology but also to our understanding of climate regulation and sustainable energy solutions. Artificial intelligence (AI) continues to revolutionize various industries, from healthcare to finance and beyond. AI algorithms, powered by machine learning and neural networks, analyze vast datasets to uncover patterns and make pre\n",
      "528\n",
      "The process of photosynthesis is crucial to life on Earth. Plants, algae, and certain bacteria use this biochemical process to convert light energy into chemical energy stored in glucose molecules. Through photosynthesis, carbon dioxide is absorbed and oxygen is released, sustaining the oxygen levels necessary for aerobic respiration in animals. This intricate process involves two main stages: the light-dependent reactions occurring in the thylakoid membranes of chloroplasts, and the light-independent reactions (Calvin cycle) in the stroma. Understanding photosynthesis is fundamental not only to biology but also to our understanding of climate regulation and sustainable energy solutions. Artificial intelligence (AI) continues to revolutionize various industries, from healthcare to finance and beyond. AI algorithms, powered by machine learning and neural networks, analyze vast datasets to uncover patterns and make predictions. \n",
      "532\n",
      "The process of photosynthesis is crucial to life on Earth. Plants, algae, and certain bacteria use this biochemical process to convert light energy into chemical energy stored in glucose molecules. Through photosynthesis, carbon dioxide is absorbed and oxygen is released, sustaining the oxygen levels necessary for aerobic respiration in animals. This intricate process involves two main stages: the light-dependent reactions occurring in the thylakoid membranes of chloroplasts, and the light-independent reactions (Calvin cycle) in the stroma. Understanding photosynthesis is fundamental not only to biology but also to our understanding of climate regulation and sustainable energy solutions. Artificial intelligence (AI) continues to revolutionize various industries, from healthcare to finance and beyond. AI algorithms, powered by machine learning and neural networks, analyze vast datasets to uncover patterns and make predictions. In healthc\n",
      "536\n",
      "The process of photosynthesis is crucial to life on Earth. Plants, algae, and certain bacteria use this biochemical process to convert light energy into chemical energy stored in glucose molecules. Through photosynthesis, carbon dioxide is absorbed and oxygen is released, sustaining the oxygen levels necessary for aerobic respiration in animals. This intricate process involves two main stages: the light-dependent reactions occurring in the thylakoid membranes of chloroplasts, and the light-independent reactions (Calvin cycle) in the stroma. Understanding photosynthesis is fundamental not only to biology but also to our understanding of climate regulation and sustainable energy solutions. Artificial intelligence (AI) continues to revolutionize various industries, from healthcare to finance and beyond. AI algorithms, powered by machine learning and neural networks, analyze vast datasets to uncover patterns and make predictions. In healthcare, AI ai\n",
      "539\n",
      "The process of photosynthesis is crucial to life on Earth. Plants, algae, and certain bacteria use this biochemical process to convert light energy into chemical energy stored in glucose molecules. Through photosynthesis, carbon dioxide is absorbed and oxygen is released, sustaining the oxygen levels necessary for aerobic respiration in animals. This intricate process involves two main stages: the light-dependent reactions occurring in the thylakoid membranes of chloroplasts, and the light-independent reactions (Calvin cycle) in the stroma. Understanding photosynthesis is fundamental not only to biology but also to our understanding of climate regulation and sustainable energy solutions. Artificial intelligence (AI) continues to revolutionize various industries, from healthcare to finance and beyond. AI algorithms, powered by machine learning and neural networks, analyze vast datasets to uncover patterns and make predictions. In healthcare, AI aids in diag\n",
      "543\n",
      "The process of photosynthesis is crucial to life on Earth. Plants, algae, and certain bacteria use this biochemical process to convert light energy into chemical energy stored in glucose molecules. Through photosynthesis, carbon dioxide is absorbed and oxygen is released, sustaining the oxygen levels necessary for aerobic respiration in animals. This intricate process involves two main stages: the light-dependent reactions occurring in the thylakoid membranes of chloroplasts, and the light-independent reactions (Calvin cycle) in the stroma. Understanding photosynthesis is fundamental not only to biology but also to our understanding of climate regulation and sustainable energy solutions. Artificial intelligence (AI) continues to revolutionize various industries, from healthcare to finance and beyond. AI algorithms, powered by machine learning and neural networks, analyze vast datasets to uncover patterns and make predictions. In healthcare, AI aids in diagnostics an\n",
      "548\n",
      "The process of photosynthesis is crucial to life on Earth. Plants, algae, and certain bacteria use this biochemical process to convert light energy into chemical energy stored in glucose molecules. Through photosynthesis, carbon dioxide is absorbed and oxygen is released, sustaining the oxygen levels necessary for aerobic respiration in animals. This intricate process involves two main stages: the light-dependent reactions occurring in the thylakoid membranes of chloroplasts, and the light-independent reactions (Calvin cycle) in the stroma. Understanding photosynthesis is fundamental not only to biology but also to our understanding of climate regulation and sustainable energy solutions. Artificial intelligence (AI) continues to revolutionize various industries, from healthcare to finance and beyond. AI algorithms, powered by machine learning and neural networks, analyze vast datasets to uncover patterns and make predictions. In healthcare, AI aids in diagnostics and personal\n",
      "554\n",
      "The process of photosynthesis is crucial to life on Earth. Plants, algae, and certain bacteria use this biochemical process to convert light energy into chemical energy stored in glucose molecules. Through photosynthesis, carbon dioxide is absorbed and oxygen is released, sustaining the oxygen levels necessary for aerobic respiration in animals. This intricate process involves two main stages: the light-dependent reactions occurring in the thylakoid membranes of chloroplasts, and the light-independent reactions (Calvin cycle) in the stroma. Understanding photosynthesis is fundamental not only to biology but also to our understanding of climate regulation and sustainable energy solutions. Artificial intelligence (AI) continues to revolutionize various industries, from healthcare to finance and beyond. AI algorithms, powered by machine learning and neural networks, analyze vast datasets to uncover patterns and make predictions. In healthcare, AI aids in diagnostics and personalized medic\n",
      "559\n",
      "The process of photosynthesis is crucial to life on Earth. Plants, algae, and certain bacteria use this biochemical process to convert light energy into chemical energy stored in glucose molecules. Through photosynthesis, carbon dioxide is absorbed and oxygen is released, sustaining the oxygen levels necessary for aerobic respiration in animals. This intricate process involves two main stages: the light-dependent reactions occurring in the thylakoid membranes of chloroplasts, and the light-independent reactions (Calvin cycle) in the stroma. Understanding photosynthesis is fundamental not only to biology but also to our understanding of climate regulation and sustainable energy solutions. Artificial intelligence (AI) continues to revolutionize various industries, from healthcare to finance and beyond. AI algorithms, powered by machine learning and neural networks, analyze vast datasets to uncover patterns and make predictions. In healthcare, AI aids in diagnostics and personalized medicine, while\n",
      "565\n",
      "The process of photosynthesis is crucial to life on Earth. Plants, algae, and certain bacteria use this biochemical process to convert light energy into chemical energy stored in glucose molecules. Through photosynthesis, carbon dioxide is absorbed and oxygen is released, sustaining the oxygen levels necessary for aerobic respiration in animals. This intricate process involves two main stages: the light-dependent reactions occurring in the thylakoid membranes of chloroplasts, and the light-independent reactions (Calvin cycle) in the stroma. Understanding photosynthesis is fundamental not only to biology but also to our understanding of climate regulation and sustainable energy solutions. Artificial intelligence (AI) continues to revolutionize various industries, from healthcare to finance and beyond. AI algorithms, powered by machine learning and neural networks, analyze vast datasets to uncover patterns and make predictions. In healthcare, AI aids in diagnostics and personalized medicine, while in financ\n",
      "569\n",
      "The process of photosynthesis is crucial to life on Earth. Plants, algae, and certain bacteria use this biochemical process to convert light energy into chemical energy stored in glucose molecules. Through photosynthesis, carbon dioxide is absorbed and oxygen is released, sustaining the oxygen levels necessary for aerobic respiration in animals. This intricate process involves two main stages: the light-dependent reactions occurring in the thylakoid membranes of chloroplasts, and the light-independent reactions (Calvin cycle) in the stroma. Understanding photosynthesis is fundamental not only to biology but also to our understanding of climate regulation and sustainable energy solutions. Artificial intelligence (AI) continues to revolutionize various industries, from healthcare to finance and beyond. AI algorithms, powered by machine learning and neural networks, analyze vast datasets to uncover patterns and make predictions. In healthcare, AI aids in diagnostics and personalized medicine, while in finance, it opti\n",
      "575\n",
      "The process of photosynthesis is crucial to life on Earth. Plants, algae, and certain bacteria use this biochemical process to convert light energy into chemical energy stored in glucose molecules. Through photosynthesis, carbon dioxide is absorbed and oxygen is released, sustaining the oxygen levels necessary for aerobic respiration in animals. This intricate process involves two main stages: the light-dependent reactions occurring in the thylakoid membranes of chloroplasts, and the light-independent reactions (Calvin cycle) in the stroma. Understanding photosynthesis is fundamental not only to biology but also to our understanding of climate regulation and sustainable energy solutions. Artificial intelligence (AI) continues to revolutionize various industries, from healthcare to finance and beyond. AI algorithms, powered by machine learning and neural networks, analyze vast datasets to uncover patterns and make predictions. In healthcare, AI aids in diagnostics and personalized medicine, while in finance, it optimizes trad\n",
      "580\n",
      "The process of photosynthesis is crucial to life on Earth. Plants, algae, and certain bacteria use this biochemical process to convert light energy into chemical energy stored in glucose molecules. Through photosynthesis, carbon dioxide is absorbed and oxygen is released, sustaining the oxygen levels necessary for aerobic respiration in animals. This intricate process involves two main stages: the light-dependent reactions occurring in the thylakoid membranes of chloroplasts, and the light-independent reactions (Calvin cycle) in the stroma. Understanding photosynthesis is fundamental not only to biology but also to our understanding of climate regulation and sustainable energy solutions. Artificial intelligence (AI) continues to revolutionize various industries, from healthcare to finance and beyond. AI algorithms, powered by machine learning and neural networks, analyze vast datasets to uncover patterns and make predictions. In healthcare, AI aids in diagnostics and personalized medicine, while in finance, it optimizes trading strate\n",
      "585\n",
      "The process of photosynthesis is crucial to life on Earth. Plants, algae, and certain bacteria use this biochemical process to convert light energy into chemical energy stored in glucose molecules. Through photosynthesis, carbon dioxide is absorbed and oxygen is released, sustaining the oxygen levels necessary for aerobic respiration in animals. This intricate process involves two main stages: the light-dependent reactions occurring in the thylakoid membranes of chloroplasts, and the light-independent reactions (Calvin cycle) in the stroma. Understanding photosynthesis is fundamental not only to biology but also to our understanding of climate regulation and sustainable energy solutions. Artificial intelligence (AI) continues to revolutionize various industries, from healthcare to finance and beyond. AI algorithms, powered by machine learning and neural networks, analyze vast datasets to uncover patterns and make predictions. In healthcare, AI aids in diagnostics and personalized medicine, while in finance, it optimizes trading strategies and r\n",
      "589\n",
      "The process of photosynthesis is crucial to life on Earth. Plants, algae, and certain bacteria use this biochemical process to convert light energy into chemical energy stored in glucose molecules. Through photosynthesis, carbon dioxide is absorbed and oxygen is released, sustaining the oxygen levels necessary for aerobic respiration in animals. This intricate process involves two main stages: the light-dependent reactions occurring in the thylakoid membranes of chloroplasts, and the light-independent reactions (Calvin cycle) in the stroma. Understanding photosynthesis is fundamental not only to biology but also to our understanding of climate regulation and sustainable energy solutions. Artificial intelligence (AI) continues to revolutionize various industries, from healthcare to finance and beyond. AI algorithms, powered by machine learning and neural networks, analyze vast datasets to uncover patterns and make predictions. In healthcare, AI aids in diagnostics and personalized medicine, while in finance, it optimizes trading strategies and risk manage\n",
      "595\n",
      "The process of photosynthesis is crucial to life on Earth. Plants, algae, and certain bacteria use this biochemical process to convert light energy into chemical energy stored in glucose molecules. Through photosynthesis, carbon dioxide is absorbed and oxygen is released, sustaining the oxygen levels necessary for aerobic respiration in animals. This intricate process involves two main stages: the light-dependent reactions occurring in the thylakoid membranes of chloroplasts, and the light-independent reactions (Calvin cycle) in the stroma. Understanding photosynthesis is fundamental not only to biology but also to our understanding of climate regulation and sustainable energy solutions. Artificial intelligence (AI) continues to revolutionize various industries, from healthcare to finance and beyond. AI algorithms, powered by machine learning and neural networks, analyze vast datasets to uncover patterns and make predictions. In healthcare, AI aids in diagnostics and personalized medicine, while in finance, it optimizes trading strategies and risk management. Ethi\n",
      "602\n",
      "The process of photosynthesis is crucial to life on Earth. Plants, algae, and certain bacteria use this biochemical process to convert light energy into chemical energy stored in glucose molecules. Through photosynthesis, carbon dioxide is absorbed and oxygen is released, sustaining the oxygen levels necessary for aerobic respiration in animals. This intricate process involves two main stages: the light-dependent reactions occurring in the thylakoid membranes of chloroplasts, and the light-independent reactions (Calvin cycle) in the stroma. Understanding photosynthesis is fundamental not only to biology but also to our understanding of climate regulation and sustainable energy solutions. Artificial intelligence (AI) continues to revolutionize various industries, from healthcare to finance and beyond. AI algorithms, powered by machine learning and neural networks, analyze vast datasets to uncover patterns and make predictions. In healthcare, AI aids in diagnostics and personalized medicine, while in finance, it optimizes trading strategies and risk management. Ethical consid\n",
      "607\n",
      "The process of photosynthesis is crucial to life on Earth. Plants, algae, and certain bacteria use this biochemical process to convert light energy into chemical energy stored in glucose molecules. Through photosynthesis, carbon dioxide is absorbed and oxygen is released, sustaining the oxygen levels necessary for aerobic respiration in animals. This intricate process involves two main stages: the light-dependent reactions occurring in the thylakoid membranes of chloroplasts, and the light-independent reactions (Calvin cycle) in the stroma. Understanding photosynthesis is fundamental not only to biology but also to our understanding of climate regulation and sustainable energy solutions. Artificial intelligence (AI) continues to revolutionize various industries, from healthcare to finance and beyond. AI algorithms, powered by machine learning and neural networks, analyze vast datasets to uncover patterns and make predictions. In healthcare, AI aids in diagnostics and personalized medicine, while in finance, it optimizes trading strategies and risk management. Ethical considerations s\n",
      "613\n",
      "The process of photosynthesis is crucial to life on Earth. Plants, algae, and certain bacteria use this biochemical process to convert light energy into chemical energy stored in glucose molecules. Through photosynthesis, carbon dioxide is absorbed and oxygen is released, sustaining the oxygen levels necessary for aerobic respiration in animals. This intricate process involves two main stages: the light-dependent reactions occurring in the thylakoid membranes of chloroplasts, and the light-independent reactions (Calvin cycle) in the stroma. Understanding photosynthesis is fundamental not only to biology but also to our understanding of climate regulation and sustainable energy solutions. Artificial intelligence (AI) continues to revolutionize various industries, from healthcare to finance and beyond. AI algorithms, powered by machine learning and neural networks, analyze vast datasets to uncover patterns and make predictions. In healthcare, AI aids in diagnostics and personalized medicine, while in finance, it optimizes trading strategies and risk management. Ethical considerations surrounding\n",
      "618\n",
      "The process of photosynthesis is crucial to life on Earth. Plants, algae, and certain bacteria use this biochemical process to convert light energy into chemical energy stored in glucose molecules. Through photosynthesis, carbon dioxide is absorbed and oxygen is released, sustaining the oxygen levels necessary for aerobic respiration in animals. This intricate process involves two main stages: the light-dependent reactions occurring in the thylakoid membranes of chloroplasts, and the light-independent reactions (Calvin cycle) in the stroma. Understanding photosynthesis is fundamental not only to biology but also to our understanding of climate regulation and sustainable energy solutions. Artificial intelligence (AI) continues to revolutionize various industries, from healthcare to finance and beyond. AI algorithms, powered by machine learning and neural networks, analyze vast datasets to uncover patterns and make predictions. In healthcare, AI aids in diagnostics and personalized medicine, while in finance, it optimizes trading strategies and risk management. Ethical considerations surrounding AI's impa\n",
      "626\n",
      "The process of photosynthesis is crucial to life on Earth. Plants, algae, and certain bacteria use this biochemical process to convert light energy into chemical energy stored in glucose molecules. Through photosynthesis, carbon dioxide is absorbed and oxygen is released, sustaining the oxygen levels necessary for aerobic respiration in animals. This intricate process involves two main stages: the light-dependent reactions occurring in the thylakoid membranes of chloroplasts, and the light-independent reactions (Calvin cycle) in the stroma. Understanding photosynthesis is fundamental not only to biology but also to our understanding of climate regulation and sustainable energy solutions. Artificial intelligence (AI) continues to revolutionize various industries, from healthcare to finance and beyond. AI algorithms, powered by machine learning and neural networks, analyze vast datasets to uncover patterns and make predictions. In healthcare, AI aids in diagnostics and personalized medicine, while in finance, it optimizes trading strategies and risk management. Ethical considerations surrounding AI's impact on empl\n",
      "633\n",
      "The process of photosynthesis is crucial to life on Earth. Plants, algae, and certain bacteria use this biochemical process to convert light energy into chemical energy stored in glucose molecules. Through photosynthesis, carbon dioxide is absorbed and oxygen is released, sustaining the oxygen levels necessary for aerobic respiration in animals. This intricate process involves two main stages: the light-dependent reactions occurring in the thylakoid membranes of chloroplasts, and the light-independent reactions (Calvin cycle) in the stroma. Understanding photosynthesis is fundamental not only to biology but also to our understanding of climate regulation and sustainable energy solutions. Artificial intelligence (AI) continues to revolutionize various industries, from healthcare to finance and beyond. AI algorithms, powered by machine learning and neural networks, analyze vast datasets to uncover patterns and make predictions. In healthcare, AI aids in diagnostics and personalized medicine, while in finance, it optimizes trading strategies and risk management. Ethical considerations surrounding AI's impact on employment and\n",
      "637\n",
      "The process of photosynthesis is crucial to life on Earth. Plants, algae, and certain bacteria use this biochemical process to convert light energy into chemical energy stored in glucose molecules. Through photosynthesis, carbon dioxide is absorbed and oxygen is released, sustaining the oxygen levels necessary for aerobic respiration in animals. This intricate process involves two main stages: the light-dependent reactions occurring in the thylakoid membranes of chloroplasts, and the light-independent reactions (Calvin cycle) in the stroma. Understanding photosynthesis is fundamental not only to biology but also to our understanding of climate regulation and sustainable energy solutions. Artificial intelligence (AI) continues to revolutionize various industries, from healthcare to finance and beyond. AI algorithms, powered by machine learning and neural networks, analyze vast datasets to uncover patterns and make predictions. In healthcare, AI aids in diagnostics and personalized medicine, while in finance, it optimizes trading strategies and risk management. Ethical considerations surrounding AI's impact on employment and privacy a\n",
      "642\n",
      "The process of photosynthesis is crucial to life on Earth. Plants, algae, and certain bacteria use this biochemical process to convert light energy into chemical energy stored in glucose molecules. Through photosynthesis, carbon dioxide is absorbed and oxygen is released, sustaining the oxygen levels necessary for aerobic respiration in animals. This intricate process involves two main stages: the light-dependent reactions occurring in the thylakoid membranes of chloroplasts, and the light-independent reactions (Calvin cycle) in the stroma. Understanding photosynthesis is fundamental not only to biology but also to our understanding of climate regulation and sustainable energy solutions. Artificial intelligence (AI) continues to revolutionize various industries, from healthcare to finance and beyond. AI algorithms, powered by machine learning and neural networks, analyze vast datasets to uncover patterns and make predictions. In healthcare, AI aids in diagnostics and personalized medicine, while in finance, it optimizes trading strategies and risk management. Ethical considerations surrounding AI's impact on employment and privacy are ongoing\n",
      "647\n",
      "The process of photosynthesis is crucial to life on Earth. Plants, algae, and certain bacteria use this biochemical process to convert light energy into chemical energy stored in glucose molecules. Through photosynthesis, carbon dioxide is absorbed and oxygen is released, sustaining the oxygen levels necessary for aerobic respiration in animals. This intricate process involves two main stages: the light-dependent reactions occurring in the thylakoid membranes of chloroplasts, and the light-independent reactions (Calvin cycle) in the stroma. Understanding photosynthesis is fundamental not only to biology but also to our understanding of climate regulation and sustainable energy solutions. Artificial intelligence (AI) continues to revolutionize various industries, from healthcare to finance and beyond. AI algorithms, powered by machine learning and neural networks, analyze vast datasets to uncover patterns and make predictions. In healthcare, AI aids in diagnostics and personalized medicine, while in finance, it optimizes trading strategies and risk management. Ethical considerations surrounding AI's impact on employment and privacy are ongoing topics of\n",
      "652\n",
      "The process of photosynthesis is crucial to life on Earth. Plants, algae, and certain bacteria use this biochemical process to convert light energy into chemical energy stored in glucose molecules. Through photosynthesis, carbon dioxide is absorbed and oxygen is released, sustaining the oxygen levels necessary for aerobic respiration in animals. This intricate process involves two main stages: the light-dependent reactions occurring in the thylakoid membranes of chloroplasts, and the light-independent reactions (Calvin cycle) in the stroma. Understanding photosynthesis is fundamental not only to biology but also to our understanding of climate regulation and sustainable energy solutions. Artificial intelligence (AI) continues to revolutionize various industries, from healthcare to finance and beyond. AI algorithms, powered by machine learning and neural networks, analyze vast datasets to uncover patterns and make predictions. In healthcare, AI aids in diagnostics and personalized medicine, while in finance, it optimizes trading strategies and risk management. Ethical considerations surrounding AI's impact on employment and privacy are ongoing topics of debate. A\n",
      "658\n",
      "The process of photosynthesis is crucial to life on Earth. Plants, algae, and certain bacteria use this biochemical process to convert light energy into chemical energy stored in glucose molecules. Through photosynthesis, carbon dioxide is absorbed and oxygen is released, sustaining the oxygen levels necessary for aerobic respiration in animals. This intricate process involves two main stages: the light-dependent reactions occurring in the thylakoid membranes of chloroplasts, and the light-independent reactions (Calvin cycle) in the stroma. Understanding photosynthesis is fundamental not only to biology but also to our understanding of climate regulation and sustainable energy solutions. Artificial intelligence (AI) continues to revolutionize various industries, from healthcare to finance and beyond. AI algorithms, powered by machine learning and neural networks, analyze vast datasets to uncover patterns and make predictions. In healthcare, AI aids in diagnostics and personalized medicine, while in finance, it optimizes trading strategies and risk management. Ethical considerations surrounding AI's impact on employment and privacy are ongoing topics of debate. As AI techn\n",
      "663\n",
      "The process of photosynthesis is crucial to life on Earth. Plants, algae, and certain bacteria use this biochemical process to convert light energy into chemical energy stored in glucose molecules. Through photosynthesis, carbon dioxide is absorbed and oxygen is released, sustaining the oxygen levels necessary for aerobic respiration in animals. This intricate process involves two main stages: the light-dependent reactions occurring in the thylakoid membranes of chloroplasts, and the light-independent reactions (Calvin cycle) in the stroma. Understanding photosynthesis is fundamental not only to biology but also to our understanding of climate regulation and sustainable energy solutions. Artificial intelligence (AI) continues to revolutionize various industries, from healthcare to finance and beyond. AI algorithms, powered by machine learning and neural networks, analyze vast datasets to uncover patterns and make predictions. In healthcare, AI aids in diagnostics and personalized medicine, while in finance, it optimizes trading strategies and risk management. Ethical considerations surrounding AI's impact on employment and privacy are ongoing topics of debate. As AI technology adva\n",
      "669\n",
      "The process of photosynthesis is crucial to life on Earth. Plants, algae, and certain bacteria use this biochemical process to convert light energy into chemical energy stored in glucose molecules. Through photosynthesis, carbon dioxide is absorbed and oxygen is released, sustaining the oxygen levels necessary for aerobic respiration in animals. This intricate process involves two main stages: the light-dependent reactions occurring in the thylakoid membranes of chloroplasts, and the light-independent reactions (Calvin cycle) in the stroma. Understanding photosynthesis is fundamental not only to biology but also to our understanding of climate regulation and sustainable energy solutions. Artificial intelligence (AI) continues to revolutionize various industries, from healthcare to finance and beyond. AI algorithms, powered by machine learning and neural networks, analyze vast datasets to uncover patterns and make predictions. In healthcare, AI aids in diagnostics and personalized medicine, while in finance, it optimizes trading strategies and risk management. Ethical considerations surrounding AI's impact on employment and privacy are ongoing topics of debate. As AI technology advances, its \n",
      "674\n",
      "The process of photosynthesis is crucial to life on Earth. Plants, algae, and certain bacteria use this biochemical process to convert light energy into chemical energy stored in glucose molecules. Through photosynthesis, carbon dioxide is absorbed and oxygen is released, sustaining the oxygen levels necessary for aerobic respiration in animals. This intricate process involves two main stages: the light-dependent reactions occurring in the thylakoid membranes of chloroplasts, and the light-independent reactions (Calvin cycle) in the stroma. Understanding photosynthesis is fundamental not only to biology but also to our understanding of climate regulation and sustainable energy solutions. Artificial intelligence (AI) continues to revolutionize various industries, from healthcare to finance and beyond. AI algorithms, powered by machine learning and neural networks, analyze vast datasets to uncover patterns and make predictions. In healthcare, AI aids in diagnostics and personalized medicine, while in finance, it optimizes trading strategies and risk management. Ethical considerations surrounding AI's impact on employment and privacy are ongoing topics of debate. As AI technology advances, its integratio\n",
      "678\n",
      "The process of photosynthesis is crucial to life on Earth. Plants, algae, and certain bacteria use this biochemical process to convert light energy into chemical energy stored in glucose molecules. Through photosynthesis, carbon dioxide is absorbed and oxygen is released, sustaining the oxygen levels necessary for aerobic respiration in animals. This intricate process involves two main stages: the light-dependent reactions occurring in the thylakoid membranes of chloroplasts, and the light-independent reactions (Calvin cycle) in the stroma. Understanding photosynthesis is fundamental not only to biology but also to our understanding of climate regulation and sustainable energy solutions. Artificial intelligence (AI) continues to revolutionize various industries, from healthcare to finance and beyond. AI algorithms, powered by machine learning and neural networks, analyze vast datasets to uncover patterns and make predictions. In healthcare, AI aids in diagnostics and personalized medicine, while in finance, it optimizes trading strategies and risk management. Ethical considerations surrounding AI's impact on employment and privacy are ongoing topics of debate. As AI technology advances, its integration into eve\n",
      "683\n",
      "The process of photosynthesis is crucial to life on Earth. Plants, algae, and certain bacteria use this biochemical process to convert light energy into chemical energy stored in glucose molecules. Through photosynthesis, carbon dioxide is absorbed and oxygen is released, sustaining the oxygen levels necessary for aerobic respiration in animals. This intricate process involves two main stages: the light-dependent reactions occurring in the thylakoid membranes of chloroplasts, and the light-independent reactions (Calvin cycle) in the stroma. Understanding photosynthesis is fundamental not only to biology but also to our understanding of climate regulation and sustainable energy solutions. Artificial intelligence (AI) continues to revolutionize various industries, from healthcare to finance and beyond. AI algorithms, powered by machine learning and neural networks, analyze vast datasets to uncover patterns and make predictions. In healthcare, AI aids in diagnostics and personalized medicine, while in finance, it optimizes trading strategies and risk management. Ethical considerations surrounding AI's impact on employment and privacy are ongoing topics of debate. As AI technology advances, its integration into everyday life\n",
      "689\n",
      "The process of photosynthesis is crucial to life on Earth. Plants, algae, and certain bacteria use this biochemical process to convert light energy into chemical energy stored in glucose molecules. Through photosynthesis, carbon dioxide is absorbed and oxygen is released, sustaining the oxygen levels necessary for aerobic respiration in animals. This intricate process involves two main stages: the light-dependent reactions occurring in the thylakoid membranes of chloroplasts, and the light-independent reactions (Calvin cycle) in the stroma. Understanding photosynthesis is fundamental not only to biology but also to our understanding of climate regulation and sustainable energy solutions. Artificial intelligence (AI) continues to revolutionize various industries, from healthcare to finance and beyond. AI algorithms, powered by machine learning and neural networks, analyze vast datasets to uncover patterns and make predictions. In healthcare, AI aids in diagnostics and personalized medicine, while in finance, it optimizes trading strategies and risk management. Ethical considerations surrounding AI's impact on employment and privacy are ongoing topics of debate. As AI technology advances, its integration into everyday life raises qu\n",
      "694\n",
      "The process of photosynthesis is crucial to life on Earth. Plants, algae, and certain bacteria use this biochemical process to convert light energy into chemical energy stored in glucose molecules. Through photosynthesis, carbon dioxide is absorbed and oxygen is released, sustaining the oxygen levels necessary for aerobic respiration in animals. This intricate process involves two main stages: the light-dependent reactions occurring in the thylakoid membranes of chloroplasts, and the light-independent reactions (Calvin cycle) in the stroma. Understanding photosynthesis is fundamental not only to biology but also to our understanding of climate regulation and sustainable energy solutions. Artificial intelligence (AI) continues to revolutionize various industries, from healthcare to finance and beyond. AI algorithms, powered by machine learning and neural networks, analyze vast datasets to uncover patterns and make predictions. In healthcare, AI aids in diagnostics and personalized medicine, while in finance, it optimizes trading strategies and risk management. Ethical considerations surrounding AI's impact on employment and privacy are ongoing topics of debate. As AI technology advances, its integration into everyday life raises questions ab\n",
      "699\n",
      "The process of photosynthesis is crucial to life on Earth. Plants, algae, and certain bacteria use this biochemical process to convert light energy into chemical energy stored in glucose molecules. Through photosynthesis, carbon dioxide is absorbed and oxygen is released, sustaining the oxygen levels necessary for aerobic respiration in animals. This intricate process involves two main stages: the light-dependent reactions occurring in the thylakoid membranes of chloroplasts, and the light-independent reactions (Calvin cycle) in the stroma. Understanding photosynthesis is fundamental not only to biology but also to our understanding of climate regulation and sustainable energy solutions. Artificial intelligence (AI) continues to revolutionize various industries, from healthcare to finance and beyond. AI algorithms, powered by machine learning and neural networks, analyze vast datasets to uncover patterns and make predictions. In healthcare, AI aids in diagnostics and personalized medicine, while in finance, it optimizes trading strategies and risk management. Ethical considerations surrounding AI's impact on employment and privacy are ongoing topics of debate. As AI technology advances, its integration into everyday life raises questions about regula\n",
      "703\n",
      "The process of photosynthesis is crucial to life on Earth. Plants, algae, and certain bacteria use this biochemical process to convert light energy into chemical energy stored in glucose molecules. Through photosynthesis, carbon dioxide is absorbed and oxygen is released, sustaining the oxygen levels necessary for aerobic respiration in animals. This intricate process involves two main stages: the light-dependent reactions occurring in the thylakoid membranes of chloroplasts, and the light-independent reactions (Calvin cycle) in the stroma. Understanding photosynthesis is fundamental not only to biology but also to our understanding of climate regulation and sustainable energy solutions. Artificial intelligence (AI) continues to revolutionize various industries, from healthcare to finance and beyond. AI algorithms, powered by machine learning and neural networks, analyze vast datasets to uncover patterns and make predictions. In healthcare, AI aids in diagnostics and personalized medicine, while in finance, it optimizes trading strategies and risk management. Ethical considerations surrounding AI's impact on employment and privacy are ongoing topics of debate. As AI technology advances, its integration into everyday life raises questions about regulation, tran\n",
      "706\n",
      "The process of photosynthesis is crucial to life on Earth. Plants, algae, and certain bacteria use this biochemical process to convert light energy into chemical energy stored in glucose molecules. Through photosynthesis, carbon dioxide is absorbed and oxygen is released, sustaining the oxygen levels necessary for aerobic respiration in animals. This intricate process involves two main stages: the light-dependent reactions occurring in the thylakoid membranes of chloroplasts, and the light-independent reactions (Calvin cycle) in the stroma. Understanding photosynthesis is fundamental not only to biology but also to our understanding of climate regulation and sustainable energy solutions. Artificial intelligence (AI) continues to revolutionize various industries, from healthcare to finance and beyond. AI algorithms, powered by machine learning and neural networks, analyze vast datasets to uncover patterns and make predictions. In healthcare, AI aids in diagnostics and personalized medicine, while in finance, it optimizes trading strategies and risk management. Ethical considerations surrounding AI's impact on employment and privacy are ongoing topics of debate. As AI technology advances, its integration into everyday life raises questions about regulation, transparency, \n",
      "712\n",
      "The process of photosynthesis is crucial to life on Earth. Plants, algae, and certain bacteria use this biochemical process to convert light energy into chemical energy stored in glucose molecules. Through photosynthesis, carbon dioxide is absorbed and oxygen is released, sustaining the oxygen levels necessary for aerobic respiration in animals. This intricate process involves two main stages: the light-dependent reactions occurring in the thylakoid membranes of chloroplasts, and the light-independent reactions (Calvin cycle) in the stroma. Understanding photosynthesis is fundamental not only to biology but also to our understanding of climate regulation and sustainable energy solutions. Artificial intelligence (AI) continues to revolutionize various industries, from healthcare to finance and beyond. AI algorithms, powered by machine learning and neural networks, analyze vast datasets to uncover patterns and make predictions. In healthcare, AI aids in diagnostics and personalized medicine, while in finance, it optimizes trading strategies and risk management. Ethical considerations surrounding AI's impact on employment and privacy are ongoing topics of debate. As AI technology advances, its integration into everyday life raises questions about regulation, transparency, and the so\n",
      "715\n",
      "The process of photosynthesis is crucial to life on Earth. Plants, algae, and certain bacteria use this biochemical process to convert light energy into chemical energy stored in glucose molecules. Through photosynthesis, carbon dioxide is absorbed and oxygen is released, sustaining the oxygen levels necessary for aerobic respiration in animals. This intricate process involves two main stages: the light-dependent reactions occurring in the thylakoid membranes of chloroplasts, and the light-independent reactions (Calvin cycle) in the stroma. Understanding photosynthesis is fundamental not only to biology but also to our understanding of climate regulation and sustainable energy solutions. Artificial intelligence (AI) continues to revolutionize various industries, from healthcare to finance and beyond. AI algorithms, powered by machine learning and neural networks, analyze vast datasets to uncover patterns and make predictions. In healthcare, AI aids in diagnostics and personalized medicine, while in finance, it optimizes trading strategies and risk management. Ethical considerations surrounding AI's impact on employment and privacy are ongoing topics of debate. As AI technology advances, its integration into everyday life raises questions about regulation, transparency, and the societal imp\n",
      "720\n",
      "The process of photosynthesis is crucial to life on Earth. Plants, algae, and certain bacteria use this biochemical process to convert light energy into chemical energy stored in glucose molecules. Through photosynthesis, carbon dioxide is absorbed and oxygen is released, sustaining the oxygen levels necessary for aerobic respiration in animals. This intricate process involves two main stages: the light-dependent reactions occurring in the thylakoid membranes of chloroplasts, and the light-independent reactions (Calvin cycle) in the stroma. Understanding photosynthesis is fundamental not only to biology but also to our understanding of climate regulation and sustainable energy solutions. Artificial intelligence (AI) continues to revolutionize various industries, from healthcare to finance and beyond. AI algorithms, powered by machine learning and neural networks, analyze vast datasets to uncover patterns and make predictions. In healthcare, AI aids in diagnostics and personalized medicine, while in finance, it optimizes trading strategies and risk management. Ethical considerations surrounding AI's impact on employment and privacy are ongoing topics of debate. As AI technology advances, its integration into everyday life raises questions about regulation, transparency, and the societal implications \n",
      "724\n",
      "The process of photosynthesis is crucial to life on Earth. Plants, algae, and certain bacteria use this biochemical process to convert light energy into chemical energy stored in glucose molecules. Through photosynthesis, carbon dioxide is absorbed and oxygen is released, sustaining the oxygen levels necessary for aerobic respiration in animals. This intricate process involves two main stages: the light-dependent reactions occurring in the thylakoid membranes of chloroplasts, and the light-independent reactions (Calvin cycle) in the stroma. Understanding photosynthesis is fundamental not only to biology but also to our understanding of climate regulation and sustainable energy solutions. Artificial intelligence (AI) continues to revolutionize various industries, from healthcare to finance and beyond. AI algorithms, powered by machine learning and neural networks, analyze vast datasets to uncover patterns and make predictions. In healthcare, AI aids in diagnostics and personalized medicine, while in finance, it optimizes trading strategies and risk management. Ethical considerations surrounding AI's impact on employment and privacy are ongoing topics of debate. As AI technology advances, its integration into everyday life raises questions about regulation, transparency, and the societal implications of machine\n",
      "728\n",
      "734\n",
      "[422]\n"
     ]
    },
    {
     "name": "stderr",
     "output_type": "stream",
     "text": [
      "Computing Segment Scores:  100% |█████████████████████| (6/6, 503 it/s)\n",
      "Finding Exact Changepoints:  100% |██████████████| (123/123, 1561 it/s)        \n",
      "                                                                               \r"
     ]
    }
   ],
   "source": [
    "text = \"The process of photosynthesis is crucial to life on Earth. Plants, algae, and certain bacteria use this biochemical process to convert light energy into chemical energy stored in glucose molecules. Through photosynthesis, carbon dioxide is absorbed and oxygen is released, sustaining the oxygen levels necessary for aerobic respiration in animals. This intricate process involves two main stages: the light-dependent reactions occurring in the thylakoid membranes of chloroplasts, and the light-independent reactions (Calvin cycle) in the stroma. Understanding photosynthesis is fundamental not only to biology but also to our understanding of climate regulation and sustainable energy solutions. Artificial intelligence (AI) continues to revolutionize various industries, from healthcare to finance and beyond. AI algorithms, powered by machine learning and neural networks, analyze vast datasets to uncover patterns and make predictions. In healthcare, AI aids in diagnostics and personalized medicine, while in finance, it optimizes trading strategies and risk management. Ethical considerations surrounding AI's impact on employment and privacy are ongoing topics of debate. As AI technology advances, its integration into everyday life raises questions about regulation, transparency, and the societal implications of machine intelligence.\t\"\n",
    "\n",
    "taille_echantillon = 10\n",
    "\n",
    "a = len(text) // taille_echantillon\n",
    "\n",
    "print(a)\n",
    "for i in range(a):\n",
    "    text_test = text[0:i*taille_echantillon]\n",
    "    print(text_test)\n",
    "    text_test_octet = list(gzip.compress(text_test.encode()))\n",
    "    print(len(text_test_octet))\n",
    "    \n",
    "print(len(list(gzip.compress(text.encode()))))\n",
    "\n",
    "\n",
    "min_distance = 0.5\n",
    "process_count = 2\n",
    "\n",
    "# for i in np.arange(0.1, 1, 0.05):\n",
    "#     print(f\"min_distance {i} : \", PyChest.find_changepoints(utile, i, process_count))\n",
    "\n",
    "\n",
    "\n",
    "estimates = PyChest.find_changepoints(gzip.compress(text.encode()), min_distance, process_count)\n",
    "print(estimates)"
   ]
  },
  {
   "cell_type": "markdown",
   "id": "c91e50ca-e555-4050-8a03-8bba2eb58d3b",
   "metadata": {},
   "source": [
    "## Les résultats sont plutot satisfaisants, le change points estimé (422) correspond à peu près à la position, dans le text compressé, du change points. "
   ]
  },
  {
   "cell_type": "markdown",
   "id": "03183b6f-4629-44e1-9329-765638f945b7",
   "metadata": {},
   "source": [
    "# Nouveau test avec le meme texte mais rallongé plus grand"
   ]
  },
  {
   "cell_type": "code",
   "execution_count": 42,
   "id": "52d45943-64a5-45a0-9d3a-ee1e2450a874",
   "metadata": {},
   "outputs": [
    {
     "name": "stderr",
     "output_type": "stream",
     "text": [
      "Computing Segment Scores:  100% |█████████████████████| (9/9, 623 it/s)\n",
      "Finding Exact Changepoints:  100% |██████████████| (278/278, 2737 it/s)        \n",
      "Computing Segment Scores:  100% |█████████████████████| (9/9, 384 it/s)        \n"
     ]
    },
    {
     "name": "stdout",
     "output_type": "stream",
     "text": [
      "[626]\n",
      "19\n",
      "\n",
      "20\n",
      " The process of photosynthesis is crucial to life on Earth. Plants, algae, and certain bacteria use \n",
      "100\n",
      " The process of photosynthesis is crucial to life on Earth. Plants, algae, and certain bacteria use this biochemical process to convert light energy into chemical energy stored in glucose molecules. T\n",
      "154\n",
      " The process of photosynthesis is crucial to life on Earth. Plants, algae, and certain bacteria use this biochemical process to convert light energy into chemical energy stored in glucose molecules. Through photosynthesis, carbon dioxide is absorbed and oxygen is released, sustaining the oxygen leve\n",
      "205\n",
      " The process of photosynthesis is crucial to life on Earth. Plants, algae, and certain bacteria use this biochemical process to convert light energy into chemical energy stored in glucose molecules. Through photosynthesis, carbon dioxide is absorbed and oxygen is released, sustaining the oxygen levels necessary for aerobic respiration in animals. This intricate process involves two main stages: th\n",
      "259\n",
      " The process of photosynthesis is crucial to life on Earth. Plants, algae, and certain bacteria use this biochemical process to convert light energy into chemical energy stored in glucose molecules. Through photosynthesis, carbon dioxide is absorbed and oxygen is released, sustaining the oxygen levels necessary for aerobic respiration in animals. This intricate process involves two main stages: the light-dependent reactions occurring in the thylakoid membranes of chloroplasts, and the light-inde\n",
      "310\n",
      " The process of photosynthesis is crucial to life on Earth. Plants, algae, and certain bacteria use this biochemical process to convert light energy into chemical energy stored in glucose molecules. Through photosynthesis, carbon dioxide is absorbed and oxygen is released, sustaining the oxygen levels necessary for aerobic respiration in animals. This intricate process involves two main stages: the light-dependent reactions occurring in the thylakoid membranes of chloroplasts, and the light-independent reactions (Calvin cycle) in the stroma. Understanding photosynthesis is fundamental not only\n",
      "356\n",
      " The process of photosynthesis is crucial to life on Earth. Plants, algae, and certain bacteria use this biochemical process to convert light energy into chemical energy stored in glucose molecules. Through photosynthesis, carbon dioxide is absorbed and oxygen is released, sustaining the oxygen levels necessary for aerobic respiration in animals. This intricate process involves two main stages: the light-dependent reactions occurring in the thylakoid membranes of chloroplasts, and the light-independent reactions (Calvin cycle) in the stroma. Understanding photosynthesis is fundamental not only to biology but also to our understanding of climate regulation and sustainable energy solutions. Ph\n",
      "401\n",
      " The process of photosynthesis is crucial to life on Earth. Plants, algae, and certain bacteria use this biochemical process to convert light energy into chemical energy stored in glucose molecules. Through photosynthesis, carbon dioxide is absorbed and oxygen is released, sustaining the oxygen levels necessary for aerobic respiration in animals. This intricate process involves two main stages: the light-dependent reactions occurring in the thylakoid membranes of chloroplasts, and the light-independent reactions (Calvin cycle) in the stroma. Understanding photosynthesis is fundamental not only to biology but also to our understanding of climate regulation and sustainable energy solutions. Photosynthesis research continues to evolve, revealing more about how plants adapt to changing environ\n",
      "447\n",
      " The process of photosynthesis is crucial to life on Earth. Plants, algae, and certain bacteria use this biochemical process to convert light energy into chemical energy stored in glucose molecules. Through photosynthesis, carbon dioxide is absorbed and oxygen is released, sustaining the oxygen levels necessary for aerobic respiration in animals. This intricate process involves two main stages: the light-dependent reactions occurring in the thylakoid membranes of chloroplasts, and the light-independent reactions (Calvin cycle) in the stroma. Understanding photosynthesis is fundamental not only to biology but also to our understanding of climate regulation and sustainable energy solutions. Photosynthesis research continues to evolve, revealing more about how plants adapt to changing environments and how we might harness this knowledge to improve crop yields and develop biofuels. Moreover,\n",
      "502\n",
      " The process of photosynthesis is crucial to life on Earth. Plants, algae, and certain bacteria use this biochemical process to convert light energy into chemical energy stored in glucose molecules. Through photosynthesis, carbon dioxide is absorbed and oxygen is released, sustaining the oxygen levels necessary for aerobic respiration in animals. This intricate process involves two main stages: the light-dependent reactions occurring in the thylakoid membranes of chloroplasts, and the light-independent reactions (Calvin cycle) in the stroma. Understanding photosynthesis is fundamental not only to biology but also to our understanding of climate regulation and sustainable energy solutions. Photosynthesis research continues to evolve, revealing more about how plants adapt to changing environments and how we might harness this knowledge to improve crop yields and develop biofuels. Moreover, the study of photosynthetic mechanisms offers insights into addressing global challenges such as fo\n",
      "549\n",
      " The process of photosynthesis is crucial to life on Earth. Plants, algae, and certain bacteria use this biochemical process to convert light energy into chemical energy stored in glucose molecules. Through photosynthesis, carbon dioxide is absorbed and oxygen is released, sustaining the oxygen levels necessary for aerobic respiration in animals. This intricate process involves two main stages: the light-dependent reactions occurring in the thylakoid membranes of chloroplasts, and the light-independent reactions (Calvin cycle) in the stroma. Understanding photosynthesis is fundamental not only to biology but also to our understanding of climate regulation and sustainable energy solutions. Photosynthesis research continues to evolve, revealing more about how plants adapt to changing environments and how we might harness this knowledge to improve crop yields and develop biofuels. Moreover, the study of photosynthetic mechanisms offers insights into addressing global challenges such as food security and renewable energy. Artificial intelligence (AI) continues to revolutionize various in\n",
      "600\n",
      " The process of photosynthesis is crucial to life on Earth. Plants, algae, and certain bacteria use this biochemical process to convert light energy into chemical energy stored in glucose molecules. Through photosynthesis, carbon dioxide is absorbed and oxygen is released, sustaining the oxygen levels necessary for aerobic respiration in animals. This intricate process involves two main stages: the light-dependent reactions occurring in the thylakoid membranes of chloroplasts, and the light-independent reactions (Calvin cycle) in the stroma. Understanding photosynthesis is fundamental not only to biology but also to our understanding of climate regulation and sustainable energy solutions. Photosynthesis research continues to evolve, revealing more about how plants adapt to changing environments and how we might harness this knowledge to improve crop yields and develop biofuels. Moreover, the study of photosynthetic mechanisms offers insights into addressing global challenges such as food security and renewable energy. Artificial intelligence (AI) continues to revolutionize various industries, from healthcare to finance and beyond. AI algorithms, powered by machine learning and neur\n",
      "655\n",
      " The process of photosynthesis is crucial to life on Earth. Plants, algae, and certain bacteria use this biochemical process to convert light energy into chemical energy stored in glucose molecules. Through photosynthesis, carbon dioxide is absorbed and oxygen is released, sustaining the oxygen levels necessary for aerobic respiration in animals. This intricate process involves two main stages: the light-dependent reactions occurring in the thylakoid membranes of chloroplasts, and the light-independent reactions (Calvin cycle) in the stroma. Understanding photosynthesis is fundamental not only to biology but also to our understanding of climate regulation and sustainable energy solutions. Photosynthesis research continues to evolve, revealing more about how plants adapt to changing environments and how we might harness this knowledge to improve crop yields and develop biofuels. Moreover, the study of photosynthetic mechanisms offers insights into addressing global challenges such as food security and renewable energy. Artificial intelligence (AI) continues to revolutionize various industries, from healthcare to finance and beyond. AI algorithms, powered by machine learning and neural networks, analyze vast datasets to uncover patterns and make predictions. In healthcare, AI aids \n",
      "706\n",
      " The process of photosynthesis is crucial to life on Earth. Plants, algae, and certain bacteria use this biochemical process to convert light energy into chemical energy stored in glucose molecules. Through photosynthesis, carbon dioxide is absorbed and oxygen is released, sustaining the oxygen levels necessary for aerobic respiration in animals. This intricate process involves two main stages: the light-dependent reactions occurring in the thylakoid membranes of chloroplasts, and the light-independent reactions (Calvin cycle) in the stroma. Understanding photosynthesis is fundamental not only to biology but also to our understanding of climate regulation and sustainable energy solutions. Photosynthesis research continues to evolve, revealing more about how plants adapt to changing environments and how we might harness this knowledge to improve crop yields and develop biofuels. Moreover, the study of photosynthetic mechanisms offers insights into addressing global challenges such as food security and renewable energy. Artificial intelligence (AI) continues to revolutionize various industries, from healthcare to finance and beyond. AI algorithms, powered by machine learning and neural networks, analyze vast datasets to uncover patterns and make predictions. In healthcare, AI aids in diagnostics and personalized medicine, enhancing the accuracy and efficiency of treatments. In fi\n",
      "754\n",
      " The process of photosynthesis is crucial to life on Earth. Plants, algae, and certain bacteria use this biochemical process to convert light energy into chemical energy stored in glucose molecules. Through photosynthesis, carbon dioxide is absorbed and oxygen is released, sustaining the oxygen levels necessary for aerobic respiration in animals. This intricate process involves two main stages: the light-dependent reactions occurring in the thylakoid membranes of chloroplasts, and the light-independent reactions (Calvin cycle) in the stroma. Understanding photosynthesis is fundamental not only to biology but also to our understanding of climate regulation and sustainable energy solutions. Photosynthesis research continues to evolve, revealing more about how plants adapt to changing environments and how we might harness this knowledge to improve crop yields and develop biofuels. Moreover, the study of photosynthetic mechanisms offers insights into addressing global challenges such as food security and renewable energy. Artificial intelligence (AI) continues to revolutionize various industries, from healthcare to finance and beyond. AI algorithms, powered by machine learning and neural networks, analyze vast datasets to uncover patterns and make predictions. In healthcare, AI aids in diagnostics and personalized medicine, enhancing the accuracy and efficiency of treatments. In finance, AI optimizes trading strategies, improves risk management, and even helps in detecting fraudu\n",
      "802\n",
      " The process of photosynthesis is crucial to life on Earth. Plants, algae, and certain bacteria use this biochemical process to convert light energy into chemical energy stored in glucose molecules. Through photosynthesis, carbon dioxide is absorbed and oxygen is released, sustaining the oxygen levels necessary for aerobic respiration in animals. This intricate process involves two main stages: the light-dependent reactions occurring in the thylakoid membranes of chloroplasts, and the light-independent reactions (Calvin cycle) in the stroma. Understanding photosynthesis is fundamental not only to biology but also to our understanding of climate regulation and sustainable energy solutions. Photosynthesis research continues to evolve, revealing more about how plants adapt to changing environments and how we might harness this knowledge to improve crop yields and develop biofuels. Moreover, the study of photosynthetic mechanisms offers insights into addressing global challenges such as food security and renewable energy. Artificial intelligence (AI) continues to revolutionize various industries, from healthcare to finance and beyond. AI algorithms, powered by machine learning and neural networks, analyze vast datasets to uncover patterns and make predictions. In healthcare, AI aids in diagnostics and personalized medicine, enhancing the accuracy and efficiency of treatments. In finance, AI optimizes trading strategies, improves risk management, and even helps in detecting fraudulent activities. The rapid advancement of AI technology raises important ethical questions about its\n",
      "854\n",
      " The process of photosynthesis is crucial to life on Earth. Plants, algae, and certain bacteria use this biochemical process to convert light energy into chemical energy stored in glucose molecules. Through photosynthesis, carbon dioxide is absorbed and oxygen is released, sustaining the oxygen levels necessary for aerobic respiration in animals. This intricate process involves two main stages: the light-dependent reactions occurring in the thylakoid membranes of chloroplasts, and the light-independent reactions (Calvin cycle) in the stroma. Understanding photosynthesis is fundamental not only to biology but also to our understanding of climate regulation and sustainable energy solutions. Photosynthesis research continues to evolve, revealing more about how plants adapt to changing environments and how we might harness this knowledge to improve crop yields and develop biofuels. Moreover, the study of photosynthetic mechanisms offers insights into addressing global challenges such as food security and renewable energy. Artificial intelligence (AI) continues to revolutionize various industries, from healthcare to finance and beyond. AI algorithms, powered by machine learning and neural networks, analyze vast datasets to uncover patterns and make predictions. In healthcare, AI aids in diagnostics and personalized medicine, enhancing the accuracy and efficiency of treatments. In finance, AI optimizes trading strategies, improves risk management, and even helps in detecting fraudulent activities. The rapid advancement of AI technology raises important ethical questions about its impact on employment, privacy, and decision-making. As AI becomes increasingly integrated into ever\n",
      "904\n",
      " The process of photosynthesis is crucial to life on Earth. Plants, algae, and certain bacteria use this biochemical process to convert light energy into chemical energy stored in glucose molecules. Through photosynthesis, carbon dioxide is absorbed and oxygen is released, sustaining the oxygen levels necessary for aerobic respiration in animals. This intricate process involves two main stages: the light-dependent reactions occurring in the thylakoid membranes of chloroplasts, and the light-independent reactions (Calvin cycle) in the stroma. Understanding photosynthesis is fundamental not only to biology but also to our understanding of climate regulation and sustainable energy solutions. Photosynthesis research continues to evolve, revealing more about how plants adapt to changing environments and how we might harness this knowledge to improve crop yields and develop biofuels. Moreover, the study of photosynthetic mechanisms offers insights into addressing global challenges such as food security and renewable energy. Artificial intelligence (AI) continues to revolutionize various industries, from healthcare to finance and beyond. AI algorithms, powered by machine learning and neural networks, analyze vast datasets to uncover patterns and make predictions. In healthcare, AI aids in diagnostics and personalized medicine, enhancing the accuracy and efficiency of treatments. In finance, AI optimizes trading strategies, improves risk management, and even helps in detecting fraudulent activities. The rapid advancement of AI technology raises important ethical questions about its impact on employment, privacy, and decision-making. As AI becomes increasingly integrated into everyday life, society must grapple with issues of regulation, transparency, and the long-term implicati\n",
      "955\n",
      "1044\n",
      "[626]\n"
     ]
    },
    {
     "name": "stderr",
     "output_type": "stream",
     "text": [
      "Finding Exact Changepoints:  100% |██████████████| (278/278, 2639 it/s)        \n",
      "                                                                               \r"
     ]
    }
   ],
   "source": [
    "text =\" The process of photosynthesis is crucial to life on Earth. Plants, algae, and certain bacteria use this biochemical process to convert light energy into chemical energy stored in glucose molecules. Through photosynthesis, carbon dioxide is absorbed and oxygen is released, sustaining the oxygen levels necessary for aerobic respiration in animals. This intricate process involves two main stages: the light-dependent reactions occurring in the thylakoid membranes of chloroplasts, and the light-independent reactions (Calvin cycle) in the stroma. Understanding photosynthesis is fundamental not only to biology but also to our understanding of climate regulation and sustainable energy solutions. Photosynthesis research continues to evolve, revealing more about how plants adapt to changing environments and how we might harness this knowledge to improve crop yields and develop biofuels. Moreover, the study of photosynthetic mechanisms offers insights into addressing global challenges such as food security and renewable energy. Artificial intelligence (AI) continues to revolutionize various industries, from healthcare to finance and beyond. AI algorithms, powered by machine learning and neural networks, analyze vast datasets to uncover patterns and make predictions. In healthcare, AI aids in diagnostics and personalized medicine, enhancing the accuracy and efficiency of treatments. In finance, AI optimizes trading strategies, improves risk management, and even helps in detecting fraudulent activities. The rapid advancement of AI technology raises important ethical questions about its impact on employment, privacy, and decision-making. As AI becomes increasingly integrated into everyday life, society must grapple with issues of regulation, transparency, and the long-term implications of machine intelligence. The potential for AI to reshape industries and human experiences is vast, but it also requires careful consideration of how these technologies are developed and deployed.\"\n",
    "\n",
    "min_distance = 0.4\n",
    "process_count = 2\n",
    "\n",
    "taille_echantillon = 100\n",
    "\n",
    "estimates = PyChest.find_changepoints(gzip.compress(text.encode()), min_distance, process_count)\n",
    "print(estimates)\n",
    "\n",
    "a = len(text) // taille_echantillon\n",
    "\n",
    "print(a)\n",
    "for i in range(a):\n",
    "    text_test = text[0:i*taille_echantillon]\n",
    "    print(text_test)\n",
    "    text_test_octet = list(gzip.compress(text_test.encode()))\n",
    "    print(len(text_test_octet))\n",
    "    \n",
    "print(len(list(gzip.compress(text.encode()))))\n",
    "\n",
    "\n",
    "\n",
    "\n",
    "# for i in np.arange(0.1, 1, 0.05):\n",
    "#     print(f\"min_distance {i} : \", PyChest.find_changepoints(utile, i, process_count))\n",
    "\n",
    "\n",
    "\n",
    "estimates = PyChest.find_changepoints(gzip.compress(text.encode()), min_distance, process_count)\n",
    "print(estimates)"
   ]
  },
  {
   "cell_type": "code",
   "execution_count": 15,
   "id": "6ff87a97-2807-4a8d-b24d-dc1575ffff3b",
   "metadata": {},
   "outputs": [
    {
     "name": "stdout",
     "output_type": "stream",
     "text": [
      "1044\n"
     ]
    },
    {
     "name": "stderr",
     "output_type": "stream",
     "text": [
      "Computing Segment Scores:  100% |██████████████████| (54/54, 5318 it/s)\n",
      "Finding Exact Changepoints:  100% |██████████████| (442/442, 2183 it/s)        \n",
      "Computing Segment Scores:  100% |██████████████████| (34/34, 2643 it/s)        \n"
     ]
    },
    {
     "name": "stdout",
     "output_type": "stream",
     "text": [
      "min_distance 0.1 :  [400, 603, 852, 959]\n"
     ]
    },
    {
     "name": "stderr",
     "output_type": "stream",
     "text": [
      "Finding Exact Changepoints:  100% |██████████████| (371/371, 2740 it/s)        \n",
      "Computing Segment Scores:  100% |██████████████████| (24/24, 2015 it/s)        \n"
     ]
    },
    {
     "name": "stdout",
     "output_type": "stream",
     "text": [
      "min_distance 0.15000000000000002 :  [70]\n"
     ]
    },
    {
     "name": "stderr",
     "output_type": "stream",
     "text": [
      "Finding Exact Changepoints:  100% |██████████████| (350/350, 2848 it/s)        \n",
      "Computing Segment Scores:  100% |██████████████████| (18/18, 1585 it/s)        \n"
     ]
    },
    {
     "name": "stdout",
     "output_type": "stream",
     "text": [
      "min_distance 0.20000000000000004 :  [510]\n",
      "min_distance 0.25000000000000006 :  [912]\n"
     ]
    },
    {
     "name": "stderr",
     "output_type": "stream",
     "text": [
      "Finding Exact Changepoints:  100% |██████████████| (348/348, 3188 it/s)        \n",
      "Computing Segment Scores:  100% |██████████████████| (14/14, 1038 it/s)        \n",
      "Finding Exact Changepoints:  100% |██████████████| (416/416, 3039 it/s)        \n",
      "Computing Segment Scores:  100% |██████████████████| (12/12, 1130 it/s)        \n",
      "Finding Exact Changepoints:  100% |██████████████| (366/366, 3235 it/s)        \n",
      "Computing Segment Scores:  100% |█████████████████████| (9/9, 878 it/s)        \n"
     ]
    },
    {
     "name": "stdout",
     "output_type": "stream",
     "text": [
      "min_distance 0.30000000000000004 :  [239]\n",
      "min_distance 0.3500000000000001 :  [654]\n"
     ]
    },
    {
     "name": "stderr",
     "output_type": "stream",
     "text": [
      "Finding Exact Changepoints:  100% |██████████████| (278/278, 2865 it/s)        \n",
      "Computing Segment Scores:  100% |█████████████████████| (8/8, 715 it/s)        \n",
      "Finding Exact Changepoints:  100% |██████████████| (314/314, 3325 it/s)        \n",
      "Computing Segment Scores:  100% |█████████████████████| (6/6, 713 it/s)        \n"
     ]
    },
    {
     "name": "stdout",
     "output_type": "stream",
     "text": [
      "min_distance 0.40000000000000013 :  [626]\n",
      "min_distance 0.45000000000000007 :  [521]\n",
      "min_distance 0.5000000000000001 :  [768]\n",
      "min_distance 0.5500000000000002 :  [437]\n"
     ]
    },
    {
     "name": "stderr",
     "output_type": "stream",
     "text": [
      "Finding Exact Changepoints:  100% |██████████████| (348/348, 2881 it/s)        \n",
      "Computing Segment Scores:  100% |█████████████████████| (5/5, 559 it/s)        \n",
      "Finding Exact Changepoints:  100% |██████████████| (382/382, 2974 it/s)        \n",
      "                                                                               \r"
     ]
    }
   ],
   "source": [
    "taille_echantillon = 10\n",
    "\n",
    "\n",
    "\n",
    "a = len(text) // taille_echantillon\n",
    "\n",
    "# print(a)\n",
    "# for i in range(a):\n",
    "#     text_test = text[0:i*taille_echantillon]\n",
    "#     print(text_test)\n",
    "#     text_test_octet = list(gzip.compress(text_test.encode()))\n",
    "#     print(len(text_test_octet))\n",
    "    \n",
    "print(len(list(gzip.compress(text.encode()))))\n",
    "\n",
    "\n",
    "# min_distance = 0.3\n",
    "process_count = 2\n",
    "\n",
    "for i in np.arange(0.1, 0.6, 0.05):\n",
    "    print(f\"min_distance {i} : \", PyChest.find_changepoints(gzip.compress(text.encode()), i, process_count))\n",
    "\n",
    "\n",
    "\n",
    "# estimates = PyChest.find_changepoints(utile, i, process_count)\n",
    "# print(estimates)"
   ]
  },
  {
   "cell_type": "markdown",
   "id": "4118c252-8a41-4437-96d5-3ed3a99658bf",
   "metadata": {},
   "source": [
    "## Nouveau text sur d'autres sujets "
   ]
  },
  {
   "cell_type": "code",
   "execution_count": 44,
   "id": "04c13b7b-5a82-495f-8217-3e66e0edc357",
   "metadata": {},
   "outputs": [],
   "source": [
    "text = \"The history of ancient Egypt is a fascinating journey through one of the most advanced civilizations of the ancient world. From the construction of the colossal pyramids to the complex religious beliefs centered around the gods and the afterlife, Egypt's contributions to art, architecture, and governance were monumental. The pharaohs, regarded as both divine rulers and political leaders, played a crucial role in maintaining the kingdom's stability and prosperity. Hieroglyphics, the ancient writing system, not only recorded historical events but also provided insights into the daily lives, culture, and spirituality of the Egyptians. The Nile River was the lifeblood of the civilization, providing water, fertile land, and a means of transport that enabled trade and communication. The discovery of the Rosetta Stone in 1799 was pivotal in deciphering Egyptian scripts, opening a window into understanding this ancient civilization more profoundly. The phenomenon of black holes continues to intrigue scientists and astronomers around the world. These mysterious regions in space, where gravity is so intense that nothing, not even light, can escape, challenge our understanding of physics. Black holes are formed when massive stars collapse under their own gravity, creating a singularity—a point of infinite density. The event horizon marks the boundary beyond which nothing can return, making black holes invisible to direct observation. However, their presence can be inferred through the effects on nearby stars and the bending of light, known as gravitational lensing. Recent advancements in technology, such as the Event Horizon Telescope, have allowed scientists to capture the first-ever image of a black hole, further deepening our understanding of these cosmic phenomena. Despite these advances, many questions remain about the nature of black holes, their role in the universe, and what happens inside them—questions that continue to push the boundaries of human knowledge.\""
   ]
  },
  {
   "cell_type": "code",
   "execution_count": 45,
   "id": "b7082733-7ad0-44e9-a1be-3b59054dacc8",
   "metadata": {},
   "outputs": [
    {
     "name": "stdout",
     "output_type": "stream",
     "text": [
      "[514]\n",
      "19\n",
      "\n",
      "20\n",
      "The history of ancient Egypt is a fascinating journey through one of the most advanced civilizations\n",
      "99\n",
      "The history of ancient Egypt is a fascinating journey through one of the most advanced civilizations of the ancient world. From the construction of the colossal pyramids to the complex religious belie\n",
      "151\n",
      "The history of ancient Egypt is a fascinating journey through one of the most advanced civilizations of the ancient world. From the construction of the colossal pyramids to the complex religious beliefs centered around the gods and the afterlife, Egypt's contributions to art, architecture, and gover\n",
      "205\n",
      "The history of ancient Egypt is a fascinating journey through one of the most advanced civilizations of the ancient world. From the construction of the colossal pyramids to the complex religious beliefs centered around the gods and the afterlife, Egypt's contributions to art, architecture, and governance were monumental. The pharaohs, regarded as both divine rulers and political leaders, played a \n",
      "258\n",
      "The history of ancient Egypt is a fascinating journey through one of the most advanced civilizations of the ancient world. From the construction of the colossal pyramids to the complex religious beliefs centered around the gods and the afterlife, Egypt's contributions to art, architecture, and governance were monumental. The pharaohs, regarded as both divine rulers and political leaders, played a crucial role in maintaining the kingdom's stability and prosperity. Hieroglyphics, the ancient writi\n",
      "311\n",
      "The history of ancient Egypt is a fascinating journey through one of the most advanced civilizations of the ancient world. From the construction of the colossal pyramids to the complex religious beliefs centered around the gods and the afterlife, Egypt's contributions to art, architecture, and governance were monumental. The pharaohs, regarded as both divine rulers and political leaders, played a crucial role in maintaining the kingdom's stability and prosperity. Hieroglyphics, the ancient writing system, not only recorded historical events but also provided insights into the daily lives, cult\n",
      "364\n",
      "The history of ancient Egypt is a fascinating journey through one of the most advanced civilizations of the ancient world. From the construction of the colossal pyramids to the complex religious beliefs centered around the gods and the afterlife, Egypt's contributions to art, architecture, and governance were monumental. The pharaohs, regarded as both divine rulers and political leaders, played a crucial role in maintaining the kingdom's stability and prosperity. Hieroglyphics, the ancient writing system, not only recorded historical events but also provided insights into the daily lives, culture, and spirituality of the Egyptians. The Nile River was the lifeblood of the civilization, provid\n",
      "409\n",
      "The history of ancient Egypt is a fascinating journey through one of the most advanced civilizations of the ancient world. From the construction of the colossal pyramids to the complex religious beliefs centered around the gods and the afterlife, Egypt's contributions to art, architecture, and governance were monumental. The pharaohs, regarded as both divine rulers and political leaders, played a crucial role in maintaining the kingdom's stability and prosperity. Hieroglyphics, the ancient writing system, not only recorded historical events but also provided insights into the daily lives, culture, and spirituality of the Egyptians. The Nile River was the lifeblood of the civilization, providing water, fertile land, and a means of transport that enabled trade and communication. The discover\n",
      "457\n",
      "The history of ancient Egypt is a fascinating journey through one of the most advanced civilizations of the ancient world. From the construction of the colossal pyramids to the complex religious beliefs centered around the gods and the afterlife, Egypt's contributions to art, architecture, and governance were monumental. The pharaohs, regarded as both divine rulers and political leaders, played a crucial role in maintaining the kingdom's stability and prosperity. Hieroglyphics, the ancient writing system, not only recorded historical events but also provided insights into the daily lives, culture, and spirituality of the Egyptians. The Nile River was the lifeblood of the civilization, providing water, fertile land, and a means of transport that enabled trade and communication. The discovery of the Rosetta Stone in 1799 was pivotal in deciphering Egyptian scripts, opening a window into un\n",
      "511\n",
      "The history of ancient Egypt is a fascinating journey through one of the most advanced civilizations of the ancient world. From the construction of the colossal pyramids to the complex religious beliefs centered around the gods and the afterlife, Egypt's contributions to art, architecture, and governance were monumental. The pharaohs, regarded as both divine rulers and political leaders, played a crucial role in maintaining the kingdom's stability and prosperity. Hieroglyphics, the ancient writing system, not only recorded historical events but also provided insights into the daily lives, culture, and spirituality of the Egyptians. The Nile River was the lifeblood of the civilization, providing water, fertile land, and a means of transport that enabled trade and communication. The discovery of the Rosetta Stone in 1799 was pivotal in deciphering Egyptian scripts, opening a window into understanding this ancient civilization more profoundly. The phenomenon of black holes continues to in\n",
      "559\n",
      "The history of ancient Egypt is a fascinating journey through one of the most advanced civilizations of the ancient world. From the construction of the colossal pyramids to the complex religious beliefs centered around the gods and the afterlife, Egypt's contributions to art, architecture, and governance were monumental. The pharaohs, regarded as both divine rulers and political leaders, played a crucial role in maintaining the kingdom's stability and prosperity. Hieroglyphics, the ancient writing system, not only recorded historical events but also provided insights into the daily lives, culture, and spirituality of the Egyptians. The Nile River was the lifeblood of the civilization, providing water, fertile land, and a means of transport that enabled trade and communication. The discovery of the Rosetta Stone in 1799 was pivotal in deciphering Egyptian scripts, opening a window into understanding this ancient civilization more profoundly. The phenomenon of black holes continues to intrigue scientists and astronomers around the world. These mysterious regions in space, where gravity\n",
      "608\n",
      "The history of ancient Egypt is a fascinating journey through one of the most advanced civilizations of the ancient world. From the construction of the colossal pyramids to the complex religious beliefs centered around the gods and the afterlife, Egypt's contributions to art, architecture, and governance were monumental. The pharaohs, regarded as both divine rulers and political leaders, played a crucial role in maintaining the kingdom's stability and prosperity. Hieroglyphics, the ancient writing system, not only recorded historical events but also provided insights into the daily lives, culture, and spirituality of the Egyptians. The Nile River was the lifeblood of the civilization, providing water, fertile land, and a means of transport that enabled trade and communication. The discovery of the Rosetta Stone in 1799 was pivotal in deciphering Egyptian scripts, opening a window into understanding this ancient civilization more profoundly. The phenomenon of black holes continues to intrigue scientists and astronomers around the world. These mysterious regions in space, where gravity is so intense that nothing, not even light, can escape, challenge our understanding of physics. Bla\n",
      "658\n",
      "The history of ancient Egypt is a fascinating journey through one of the most advanced civilizations of the ancient world. From the construction of the colossal pyramids to the complex religious beliefs centered around the gods and the afterlife, Egypt's contributions to art, architecture, and governance were monumental. The pharaohs, regarded as both divine rulers and political leaders, played a crucial role in maintaining the kingdom's stability and prosperity. Hieroglyphics, the ancient writing system, not only recorded historical events but also provided insights into the daily lives, culture, and spirituality of the Egyptians. The Nile River was the lifeblood of the civilization, providing water, fertile land, and a means of transport that enabled trade and communication. The discovery of the Rosetta Stone in 1799 was pivotal in deciphering Egyptian scripts, opening a window into understanding this ancient civilization more profoundly. The phenomenon of black holes continues to intrigue scientists and astronomers around the world. These mysterious regions in space, where gravity is so intense that nothing, not even light, can escape, challenge our understanding of physics. Black holes are formed when massive stars collapse under their own gravity, creating a singularity—a po\n",
      "713\n",
      "The history of ancient Egypt is a fascinating journey through one of the most advanced civilizations of the ancient world. From the construction of the colossal pyramids to the complex religious beliefs centered around the gods and the afterlife, Egypt's contributions to art, architecture, and governance were monumental. The pharaohs, regarded as both divine rulers and political leaders, played a crucial role in maintaining the kingdom's stability and prosperity. Hieroglyphics, the ancient writing system, not only recorded historical events but also provided insights into the daily lives, culture, and spirituality of the Egyptians. The Nile River was the lifeblood of the civilization, providing water, fertile land, and a means of transport that enabled trade and communication. The discovery of the Rosetta Stone in 1799 was pivotal in deciphering Egyptian scripts, opening a window into understanding this ancient civilization more profoundly. The phenomenon of black holes continues to intrigue scientists and astronomers around the world. These mysterious regions in space, where gravity is so intense that nothing, not even light, can escape, challenge our understanding of physics. Black holes are formed when massive stars collapse under their own gravity, creating a singularity—a point of infinite density. The event horizon marks the boundary beyond which nothing can return, makin\n",
      "763\n",
      "The history of ancient Egypt is a fascinating journey through one of the most advanced civilizations of the ancient world. From the construction of the colossal pyramids to the complex religious beliefs centered around the gods and the afterlife, Egypt's contributions to art, architecture, and governance were monumental. The pharaohs, regarded as both divine rulers and political leaders, played a crucial role in maintaining the kingdom's stability and prosperity. Hieroglyphics, the ancient writing system, not only recorded historical events but also provided insights into the daily lives, culture, and spirituality of the Egyptians. The Nile River was the lifeblood of the civilization, providing water, fertile land, and a means of transport that enabled trade and communication. The discovery of the Rosetta Stone in 1799 was pivotal in deciphering Egyptian scripts, opening a window into understanding this ancient civilization more profoundly. The phenomenon of black holes continues to intrigue scientists and astronomers around the world. These mysterious regions in space, where gravity is so intense that nothing, not even light, can escape, challenge our understanding of physics. Black holes are formed when massive stars collapse under their own gravity, creating a singularity—a point of infinite density. The event horizon marks the boundary beyond which nothing can return, making black holes invisible to direct observation. However, their presence can be inferred through the e\n",
      "810\n",
      "The history of ancient Egypt is a fascinating journey through one of the most advanced civilizations of the ancient world. From the construction of the colossal pyramids to the complex religious beliefs centered around the gods and the afterlife, Egypt's contributions to art, architecture, and governance were monumental. The pharaohs, regarded as both divine rulers and political leaders, played a crucial role in maintaining the kingdom's stability and prosperity. Hieroglyphics, the ancient writing system, not only recorded historical events but also provided insights into the daily lives, culture, and spirituality of the Egyptians. The Nile River was the lifeblood of the civilization, providing water, fertile land, and a means of transport that enabled trade and communication. The discovery of the Rosetta Stone in 1799 was pivotal in deciphering Egyptian scripts, opening a window into understanding this ancient civilization more profoundly. The phenomenon of black holes continues to intrigue scientists and astronomers around the world. These mysterious regions in space, where gravity is so intense that nothing, not even light, can escape, challenge our understanding of physics. Black holes are formed when massive stars collapse under their own gravity, creating a singularity—a point of infinite density. The event horizon marks the boundary beyond which nothing can return, making black holes invisible to direct observation. However, their presence can be inferred through the effects on nearby stars and the bending of light, known as gravitational lensing. Recent advancements\n",
      "853\n",
      "The history of ancient Egypt is a fascinating journey through one of the most advanced civilizations of the ancient world. From the construction of the colossal pyramids to the complex religious beliefs centered around the gods and the afterlife, Egypt's contributions to art, architecture, and governance were monumental. The pharaohs, regarded as both divine rulers and political leaders, played a crucial role in maintaining the kingdom's stability and prosperity. Hieroglyphics, the ancient writing system, not only recorded historical events but also provided insights into the daily lives, culture, and spirituality of the Egyptians. The Nile River was the lifeblood of the civilization, providing water, fertile land, and a means of transport that enabled trade and communication. The discovery of the Rosetta Stone in 1799 was pivotal in deciphering Egyptian scripts, opening a window into understanding this ancient civilization more profoundly. The phenomenon of black holes continues to intrigue scientists and astronomers around the world. These mysterious regions in space, where gravity is so intense that nothing, not even light, can escape, challenge our understanding of physics. Black holes are formed when massive stars collapse under their own gravity, creating a singularity—a point of infinite density. The event horizon marks the boundary beyond which nothing can return, making black holes invisible to direct observation. However, their presence can be inferred through the effects on nearby stars and the bending of light, known as gravitational lensing. Recent advancements in technology, such as the Event Horizon Telescope, have allowed scientists to capture the first-ev\n",
      "902\n",
      "The history of ancient Egypt is a fascinating journey through one of the most advanced civilizations of the ancient world. From the construction of the colossal pyramids to the complex religious beliefs centered around the gods and the afterlife, Egypt's contributions to art, architecture, and governance were monumental. The pharaohs, regarded as both divine rulers and political leaders, played a crucial role in maintaining the kingdom's stability and prosperity. Hieroglyphics, the ancient writing system, not only recorded historical events but also provided insights into the daily lives, culture, and spirituality of the Egyptians. The Nile River was the lifeblood of the civilization, providing water, fertile land, and a means of transport that enabled trade and communication. The discovery of the Rosetta Stone in 1799 was pivotal in deciphering Egyptian scripts, opening a window into understanding this ancient civilization more profoundly. The phenomenon of black holes continues to intrigue scientists and astronomers around the world. These mysterious regions in space, where gravity is so intense that nothing, not even light, can escape, challenge our understanding of physics. Black holes are formed when massive stars collapse under their own gravity, creating a singularity—a point of infinite density. The event horizon marks the boundary beyond which nothing can return, making black holes invisible to direct observation. However, their presence can be inferred through the effects on nearby stars and the bending of light, known as gravitational lensing. Recent advancements in technology, such as the Event Horizon Telescope, have allowed scientists to capture the first-ever image of a black hole, further deepening our understanding of these cosmic phenomena. Despite the\n",
      "942\n",
      "1024\n"
     ]
    },
    {
     "name": "stderr",
     "output_type": "stream",
     "text": [
      "Computing Segment Scores:  100% |███████████████████| (12/12, 635 it/s)\n",
      "Finding Exact Changepoints:  100% |██████████████| (238/238, 3024 it/s)        \n",
      "                                                                               \r"
     ]
    }
   ],
   "source": [
    "taille_echantillon = 100\n",
    "\n",
    "\n",
    "min_distance = 0.35\n",
    "process_count = 2\n",
    "\n",
    "estimates = PyChest.find_changepoints(gzip.compress(text.encode()), min_distance, process_count)\n",
    "print(estimates)\n",
    "\n",
    "a = len(text) // taille_echantillon\n",
    "\n",
    "print(a)\n",
    "for i in range(a):\n",
    "    text_test = text[0:i*taille_echantillon]\n",
    "    print(text_test)\n",
    "    text_test_octet = list(gzip.compress(text_test.encode()))\n",
    "    print(len(text_test_octet))\n",
    "    \n",
    "print(len(list(gzip.compress(text.encode()))))\n",
    "\n",
    "\n",
    "\n",
    "\n",
    "# for i in np.arange(0.1, 1, 0.05):\n",
    "#     print(f\"min_distance {i} : \", PyChest.find_changepoints(utile, i, process_count))\n",
    "\n",
    "\n",
    "\n",
    "# estimates = PyChest.find_changepoints(gzip.compress(text.encode()), min_distance, process_count)\n",
    "# print(estimates)"
   ]
  },
  {
   "cell_type": "code",
   "execution_count": 28,
   "id": "88ab558e-69fc-4a0f-8e34-2c3ef4d9fce1",
   "metadata": {},
   "outputs": [
    {
     "name": "stdout",
     "output_type": "stream",
     "text": [
      "1024\n"
     ]
    },
    {
     "name": "stderr",
     "output_type": "stream",
     "text": [
      "Computing Segment Scores:  100% |██████████████████| (54/54, 3411 it/s)\n",
      "Finding Exact Changepoints:  100% |██████████████| (374/374, 2095 it/s)        \n",
      "                                                                               \r"
     ]
    },
    {
     "name": "stdout",
     "output_type": "stream",
     "text": [
      "min_distance 0.1 :  [86, 943]\n"
     ]
    },
    {
     "name": "stderr",
     "output_type": "stream",
     "text": [
      "Computing Segment Scores:  100% |██████████████████| (34/34, 2191 it/s)\n",
      "Finding Exact Changepoints:  100% |██████████████| (408/408, 2236 it/s)        \n",
      "                                                                               \r"
     ]
    },
    {
     "name": "stdout",
     "output_type": "stream",
     "text": [
      "min_distance 0.15000000000000002 :  [76]\n",
      "min_distance 0.20000000000000004 :  [107]\n"
     ]
    },
    {
     "name": "stderr",
     "output_type": "stream",
     "text": [
      "Computing Segment Scores:  100% |██████████████████| (24/24, 2335 it/s)\n",
      "Finding Exact Changepoints:  100% |██████████████| (340/340, 3165 it/s)        \n",
      "Computing Segment Scores:  100% |██████████████████| (18/18, 1560 it/s)        \n",
      "Finding Exact Changepoints:  100% |██████████████| (425/425, 3429 it/s)        \n",
      "Computing Segment Scores:  100% |██████████████████| (14/14, 1363 it/s)        \n",
      "Finding Exact Changepoints:   54% |███████       | (168/309, 2569 it/s) [0s:0s]"
     ]
    },
    {
     "name": "stdout",
     "output_type": "stream",
     "text": [
      "min_distance 0.25000000000000006 :  [316]\n",
      "min_distance 0.30000000000000004 :  [752]\n"
     ]
    },
    {
     "name": "stderr",
     "output_type": "stream",
     "text": [
      "Finding Exact Changepoints:  100% |██████████████| (309/309, 3023 it/s)        \n",
      "Computing Segment Scores:  100% |███████████████████| (12/12, 713 it/s)        \n",
      "Finding Exact Changepoints:  100% |██████████████| (238/238, 2610 it/s)        \n",
      "Computing Segment Scores:  100% |█████████████████████| (9/9, 646 it/s)        \n"
     ]
    },
    {
     "name": "stdout",
     "output_type": "stream",
     "text": [
      "min_distance 0.3500000000000001 :  [514]\n",
      "min_distance 0.40000000000000013 :  [316]\n"
     ]
    },
    {
     "name": "stderr",
     "output_type": "stream",
     "text": [
      "Finding Exact Changepoints:  100% |██████████████| (272/272, 2823 it/s)        \n",
      "Computing Segment Scores:  100% |█████████████████████| (8/8, 586 it/s)        \n",
      "Finding Exact Changepoints:  100% |██████████████| (308/308, 2671 it/s)        \n",
      "                                                                               \r"
     ]
    },
    {
     "name": "stdout",
     "output_type": "stream",
     "text": [
      "min_distance 0.45000000000000007 :  [813]\n",
      "min_distance 0.5000000000000001 :  [229]\n"
     ]
    },
    {
     "name": "stderr",
     "output_type": "stream",
     "text": [
      "Computing Segment Scores:  100% |█████████████████████| (6/6, 573 it/s)\n",
      "Finding Exact Changepoints:  100% |██████████████| (342/342, 3007 it/s)        \n",
      "Computing Segment Scores:  100% |█████████████████████| (5/5, 188 it/s)        \n"
     ]
    },
    {
     "name": "stdout",
     "output_type": "stream",
     "text": [
      "min_distance 0.5500000000000002 :  [752]\n"
     ]
    },
    {
     "name": "stderr",
     "output_type": "stream",
     "text": [
      "Finding Exact Changepoints:  100% |██████████████| (188/188, 2722 it/s)        \n",
      "                                                                               \r"
     ]
    }
   ],
   "source": [
    "taille_echantillon = 10\n",
    "\n",
    "\n",
    "\n",
    "a = len(text) // taille_echantillon\n",
    "\n",
    "# print(a)\n",
    "# for i in range(a):\n",
    "#     text_test = text[0:i*taille_echantillon]\n",
    "#     print(text_test)\n",
    "#     text_test_octet = list(gzip.compress(text_test.encode()))\n",
    "#     print(len(text_test_octet))\n",
    "    \n",
    "print(len(list(gzip.compress(text.encode()))))\n",
    "\n",
    "\n",
    "# min_distance = 0.3\n",
    "process_count = 2\n",
    "\n",
    "for i in np.arange(0.1, 0.6, 0.05):\n",
    "    print(f\"min_distance {i} : \", PyChest.find_changepoints(gzip.compress(text.encode()), i, process_count))\n",
    "\n",
    "\n",
    "\n",
    "# estimates = PyChest.find_changepoints(utile, i, process_count)\n",
    "# print(estimates)"
   ]
  }
 ],
 "metadata": {
  "kernelspec": {
   "display_name": "Python 3 (ipykernel)",
   "language": "python",
   "name": "python3"
  },
  "language_info": {
   "codemirror_mode": {
    "name": "ipython",
    "version": 3
   },
   "file_extension": ".py",
   "mimetype": "text/x-python",
   "name": "python",
   "nbconvert_exporter": "python",
   "pygments_lexer": "ipython3",
   "version": "3.12.3"
  }
 },
 "nbformat": 4,
 "nbformat_minor": 5
}
