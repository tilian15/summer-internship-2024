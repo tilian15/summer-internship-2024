{
 "cells": [
  {
   "cell_type": "code",
   "execution_count": 1,
   "id": "5b639fd4-df37-4047-b9c5-c7cd00855be3",
   "metadata": {},
   "outputs": [
    {
     "name": "stdout",
     "output_type": "stream",
     "text": [
      "hello\n"
     ]
    }
   ],
   "source": [
    "print(\"hello\")"
   ]
  },
  {
   "cell_type": "code",
   "execution_count": 27,
   "id": "eefc6eee-fde1-445e-92dc-bb3ecbd2c598",
   "metadata": {},
   "outputs": [
    {
     "name": "stderr",
     "output_type": "stream",
     "text": [
      "huggingface/tokenizers: The current process just got forked, after parallelism has already been used. Disabling parallelism to avoid deadlocks...\n",
      "To disable this warning, you can either:\n",
      "\t- Avoid using `tokenizers` before the fork if possible\n",
      "\t- Explicitly set the environment variable TOKENIZERS_PARALLELISM=(true | false)\n"
     ]
    },
    {
     "name": "stdout",
     "output_type": "stream",
     "text": [
      "Note: you may need to restart the kernel to use updated packages.\n",
      "end\n"
     ]
    }
   ],
   "source": [
    "%pip -q install --upgrade transformers\n",
    "from transformers import AutoTokenizer, AutoModelForCausalLM, pipeline, Phi3ForCausalLM\n",
    "\n",
    "print(\"end\")\n"
   ]
  },
  {
   "cell_type": "code",
   "execution_count": 3,
   "id": "7790aad3-02c5-4d05-bdb2-7dc547656b3e",
   "metadata": {},
   "outputs": [
    {
     "data": {
      "application/vnd.jupyter.widget-view+json": {
       "model_id": "b920416d4674412e931c5c832a24b0fc",
       "version_major": 2,
       "version_minor": 0
      },
      "text/plain": [
       "tokenizer_config.json:   0%|          | 0.00/3.17k [00:00<?, ?B/s]"
      ]
     },
     "metadata": {},
     "output_type": "display_data"
    },
    {
     "data": {
      "application/vnd.jupyter.widget-view+json": {
       "model_id": "d3157c33fc2f4ae19d99f56667482645",
       "version_major": 2,
       "version_minor": 0
      },
      "text/plain": [
       "tokenizer.model:   0%|          | 0.00/500k [00:00<?, ?B/s]"
      ]
     },
     "metadata": {},
     "output_type": "display_data"
    },
    {
     "data": {
      "application/vnd.jupyter.widget-view+json": {
       "model_id": "d905ace894a344f79c7de7596b9a6aee",
       "version_major": 2,
       "version_minor": 0
      },
      "text/plain": [
       "tokenizer.json:   0%|          | 0.00/1.84M [00:00<?, ?B/s]"
      ]
     },
     "metadata": {},
     "output_type": "display_data"
    },
    {
     "data": {
      "application/vnd.jupyter.widget-view+json": {
       "model_id": "205546b9072a43f08a36eac9116a7911",
       "version_major": 2,
       "version_minor": 0
      },
      "text/plain": [
       "added_tokens.json:   0%|          | 0.00/293 [00:00<?, ?B/s]"
      ]
     },
     "metadata": {},
     "output_type": "display_data"
    },
    {
     "data": {
      "application/vnd.jupyter.widget-view+json": {
       "model_id": "d597905a7ea14b3ba30ec10fbe923120",
       "version_major": 2,
       "version_minor": 0
      },
      "text/plain": [
       "special_tokens_map.json:   0%|          | 0.00/568 [00:00<?, ?B/s]"
      ]
     },
     "metadata": {},
     "output_type": "display_data"
    },
    {
     "name": "stderr",
     "output_type": "stream",
     "text": [
      "Special tokens have been added in the vocabulary, make sure the associated word embeddings are fine-tuned or trained.\n"
     ]
    },
    {
     "name": "stdout",
     "output_type": "stream",
     "text": [
      "end\n"
     ]
    }
   ],
   "source": [
    "hf_model = \"microsoft/Phi-3-mini-128k-instruct\"\n",
    "max_length=1000\n",
    "\n",
    "tokenizer= AutoTokenizer.from_pretrained(hf_model)\n",
    "\n",
    "print(\"end\")"
   ]
  },
  {
   "cell_type": "code",
   "execution_count": 7,
   "id": "0413b3ff-c966-4313-9394-c6fbe23d19ed",
   "metadata": {},
   "outputs": [
    {
     "data": {
      "application/vnd.jupyter.widget-view+json": {
       "model_id": "06a24875ba3f4da699ad5e9538a480e6",
       "version_major": 2,
       "version_minor": 0
      },
      "text/plain": [
       "config.json:   0%|          | 0.00/3.55k [00:00<?, ?B/s]"
      ]
     },
     "metadata": {},
     "output_type": "display_data"
    },
    {
     "data": {
      "application/vnd.jupyter.widget-view+json": {
       "model_id": "9a0a20bf84d5449085fcc314a4494911",
       "version_major": 2,
       "version_minor": 0
      },
      "text/plain": [
       "model.safetensors.index.json:   0%|          | 0.00/16.3k [00:00<?, ?B/s]"
      ]
     },
     "metadata": {},
     "output_type": "display_data"
    },
    {
     "data": {
      "application/vnd.jupyter.widget-view+json": {
       "model_id": "ccc2ad5bb6d947e4af24ddb0f6770c64",
       "version_major": 2,
       "version_minor": 0
      },
      "text/plain": [
       "Downloading shards:   0%|          | 0/2 [00:00<?, ?it/s]"
      ]
     },
     "metadata": {},
     "output_type": "display_data"
    },
    {
     "data": {
      "application/vnd.jupyter.widget-view+json": {
       "model_id": "86aa6d4832ab483c9bdc7ecfda268c79",
       "version_major": 2,
       "version_minor": 0
      },
      "text/plain": [
       "model-00001-of-00002.safetensors:   0%|          | 0.00/4.97G [00:00<?, ?B/s]"
      ]
     },
     "metadata": {},
     "output_type": "display_data"
    },
    {
     "data": {
      "application/vnd.jupyter.widget-view+json": {
       "model_id": "d5ddda14d2fc4148b4f65880aaf2330c",
       "version_major": 2,
       "version_minor": 0
      },
      "text/plain": [
       "model-00002-of-00002.safetensors:   0%|          | 0.00/2.67G [00:00<?, ?B/s]"
      ]
     },
     "metadata": {},
     "output_type": "display_data"
    },
    {
     "data": {
      "application/vnd.jupyter.widget-view+json": {
       "model_id": "4b07dda7437747fdb25c8bb1bf067546",
       "version_major": 2,
       "version_minor": 0
      },
      "text/plain": [
       "Loading checkpoint shards:   0%|          | 0/2 [00:00<?, ?it/s]"
      ]
     },
     "metadata": {},
     "output_type": "display_data"
    },
    {
     "data": {
      "application/vnd.jupyter.widget-view+json": {
       "model_id": "9099da7c66f641d2b5e416f15177ca11",
       "version_major": 2,
       "version_minor": 0
      },
      "text/plain": [
       "generation_config.json:   0%|          | 0.00/172 [00:00<?, ?B/s]"
      ]
     },
     "metadata": {},
     "output_type": "display_data"
    }
   ],
   "source": [
    "model = AutoModelForCausalLM.from_pretrained(hf_model)"
   ]
  },
  {
   "cell_type": "markdown",
   "id": "6a652ba7-2175-47d6-bb7b-67e05aebc803",
   "metadata": {},
   "source": [
    "## Insert your prompt"
   ]
  },
  {
   "cell_type": "code",
   "execution_count": 8,
   "id": "fe051042-f09a-454a-8819-752d7d72bb8f",
   "metadata": {},
   "outputs": [
    {
     "name": "stdout",
     "output_type": "stream",
     "text": [
      "If dinosaurs were alive today, would they possess a threat to people?\n"
     ]
    }
   ],
   "source": [
    "user_prompt_hf = \"If dinosaurs were alive today, would they possess a threat to people?\"\n",
    "print(user_prompt_hf)"
   ]
  },
  {
   "cell_type": "code",
   "execution_count": 13,
   "id": "033ef7f3-0a5d-4a6b-bae7-58d80c102c95",
   "metadata": {},
   "outputs": [
    {
     "name": "stdout",
     "output_type": "stream",
     "text": [
      "<|endoftext|>\n",
      "[1, 32000]\n",
      "tensor([[    1,   960,  4538,  3628,  1295,   892, 18758,  9826, 29892,   723,\n",
      "           896, 22592,   263, 28469,   304,  2305, 29973, 32000]])\n"
     ]
    }
   ],
   "source": [
    "print(tokenizer.eos_token)\n",
    "print(tokenizer.encode(tokenizer.eos_token))\n",
    "user_input_ids = tokenizer.encode(user_prompt_hf + tokenizer.eos_token, return_tensors='pt')\n",
    "\n",
    "print(user_input_ids)\n"
   ]
  },
  {
   "cell_type": "code",
   "execution_count": 36,
   "id": "34fbf2c6-3ab2-40ca-b62a-980ab07f0359",
   "metadata": {},
   "outputs": [
    {
     "name": "stdout",
     "output_type": "stream",
     "text": [
      "taille du vocabulaire : 32011\n",
      "kk\n",
      "ি\n",
      "ão\n",
      "▁Kno\n",
      "ldots\n",
      "▁Philosoph\n",
      "REF\n",
      "▁prod\n",
      "漢\n",
      "▁Independ\n"
     ]
    }
   ],
   "source": [
    "import random\n",
    "\n",
    "\n",
    "vocab = tokenizer.get_vocab()\n",
    "print(\"taille du vocabulaire : \" + str(len(vocab)))\n",
    "\n",
    "# pour afficher 10 éléments random du vocabulaire\n",
    "random_keys = random.sample(list(vocab.keys()), 10)\n",
    "for key in random_keys:\n",
    "    print(key)"
   ]
  },
  {
   "attachments": {
    "b6e0f0a2-7990-45e8-a48e-c8cedf2888c7.png": {
     "image/png": "[encoded data removed]"
    }
   },
   "cell_type": "markdown",
   "id": "a6a2faf7-9c26-4026-80b7-b65ec4f6d024",
   "metadata": {},
   "source": [
    "![image.png](attachment:b6e0f0a2-7990-45e8-a48e-c8cedf2888c7.png)"
   ]
  },
  {
   "cell_type": "markdown",
   "id": "b2831baf-2d7e-41f2-9420-5a95cf3e3cba",
   "metadata": {},
   "source": [
    "## Méthode 1"
   ]
  },
  {
   "cell_type": "code",
   "execution_count": 21,
   "id": "23ee8a13-c26c-4768-a720-f00f10ab9c28",
   "metadata": {},
   "outputs": [
    {
     "name": "stdout",
     "output_type": "stream",
     "text": [
      "32000\n"
     ]
    }
   ],
   "source": [
    "print(tokenizer.eos_token_id)\n"
   ]
  },
  {
   "cell_type": "code",
   "execution_count": 12,
   "id": "500f0d71-f204-44a7-98ff-c86535f8542f",
   "metadata": {},
   "outputs": [
    {
     "ename": "AttributeError",
     "evalue": "'Phi3Model' object has no attribute 'generate'",
     "output_type": "error",
     "traceback": [
      "\u001b[0;31m---------------------------------------------------------------------------\u001b[0m",
      "\u001b[0;31mAttributeError\u001b[0m                            Traceback (most recent call last)",
      "Cell \u001b[0;32mIn[12], line 1\u001b[0m\n\u001b[0;32m----> 1\u001b[0m response_hf_encoded \u001b[38;5;241m=\u001b[39m \u001b[43mmodel\u001b[49m\u001b[38;5;241;43m.\u001b[39;49m\u001b[43mgenerate\u001b[49m(user_input_ids,\n\u001b[1;32m      2\u001b[0m                              max_length\u001b[38;5;241m=\u001b[39mmax_length,\n\u001b[1;32m      3\u001b[0m                              pad_token_id\u001b[38;5;241m=\u001b[39mtokenizer\u001b[38;5;241m.\u001b[39meos_token_id)\n\u001b[1;32m      6\u001b[0m response_hf \u001b[38;5;241m=\u001b[39m tokenizer\u001b[38;5;241m.\u001b[39mdecode(response_hf_encoded[:, user_input_ids\u001b[38;5;241m.\u001b[39mshape[\u001b[38;5;241m-\u001b[39m\u001b[38;5;241m1\u001b[39m]:][\u001b[38;5;241m0\u001b[39m], skip_special_tokens\u001b[38;5;241m=\u001b[39m\u001b[38;5;28;01mTrue\u001b[39;00m)\n\u001b[1;32m      7\u001b[0m \u001b[38;5;28mprint\u001b[39m(\u001b[38;5;124mf\u001b[39m\u001b[38;5;124m\"\u001b[39m\u001b[38;5;130;01m\\n\u001b[39;00m\u001b[38;5;130;01m\\n\u001b[39;00m\u001b[38;5;124mPrompt: \u001b[39m\u001b[38;5;132;01m{\u001b[39;00muser_prompt_hf\u001b[38;5;132;01m}\u001b[39;00m\u001b[38;5;130;01m\\n\u001b[39;00m\u001b[38;5;130;01m\\n\u001b[39;00m\u001b[38;5;132;01m{\u001b[39;00mhf_model\u001b[38;5;132;01m}\u001b[39;00m\u001b[38;5;124m'\u001b[39m\u001b[38;5;124ms Response: \u001b[39m\u001b[38;5;130;01m\\n\u001b[39;00m\u001b[38;5;132;01m{\u001b[39;00mresponse_hf\u001b[38;5;132;01m}\u001b[39;00m\u001b[38;5;124m\"\u001b[39m)\n",
      "File \u001b[0;32m/opt/mamba/lib/python3.12/site-packages/torch/nn/modules/module.py:1709\u001b[0m, in \u001b[0;36mModule.__getattr__\u001b[0;34m(self, name)\u001b[0m\n\u001b[1;32m   1707\u001b[0m     \u001b[38;5;28;01mif\u001b[39;00m name \u001b[38;5;129;01min\u001b[39;00m modules:\n\u001b[1;32m   1708\u001b[0m         \u001b[38;5;28;01mreturn\u001b[39;00m modules[name]\n\u001b[0;32m-> 1709\u001b[0m \u001b[38;5;28;01mraise\u001b[39;00m \u001b[38;5;167;01mAttributeError\u001b[39;00m(\u001b[38;5;124mf\u001b[39m\u001b[38;5;124m\"\u001b[39m\u001b[38;5;124m'\u001b[39m\u001b[38;5;132;01m{\u001b[39;00m\u001b[38;5;28mtype\u001b[39m(\u001b[38;5;28mself\u001b[39m)\u001b[38;5;241m.\u001b[39m\u001b[38;5;18m__name__\u001b[39m\u001b[38;5;132;01m}\u001b[39;00m\u001b[38;5;124m'\u001b[39m\u001b[38;5;124m object has no attribute \u001b[39m\u001b[38;5;124m'\u001b[39m\u001b[38;5;132;01m{\u001b[39;00mname\u001b[38;5;132;01m}\u001b[39;00m\u001b[38;5;124m'\u001b[39m\u001b[38;5;124m\"\u001b[39m)\n",
      "\u001b[0;31mAttributeError\u001b[0m: 'Phi3Model' object has no attribute 'generate'"
     ]
    }
   ],
   "source": [
    "\n",
    "response_hf_encoded = model.generate(user_input_ids,\n",
    "                             max_length=max_length,\n",
    "                             pad_token_id=tokenizer.eos_token_id)\n",
    "\n",
    "\n",
    "response_hf = tokenizer.decode(response_hf_encoded[:, user_input_ids.shape[-1]:][0], skip_special_tokens=True)\n",
    "print(f\"\\n\\nPrompt: {user_prompt_hf}\\n\\n{hf_model}'s Response: \\n{response_hf}\")"
   ]
  },
  {
   "cell_type": "markdown",
   "id": "30e92d2f-a6f3-4e70-a479-a6d2284a3ead",
   "metadata": {},
   "source": [
    "## Méthode 2 : "
   ]
  },
  {
   "cell_type": "code",
   "execution_count": null,
   "id": "9edfe331-be76-4373-a6df-1b227a66c0ee",
   "metadata": {},
   "outputs": [],
   "source": []
  },
  {
   "cell_type": "code",
   "execution_count": 25,
   "id": "cfddb556-c263-4f55-a23c-955258e55f24",
   "metadata": {},
   "outputs": [],
   "source": [
    "pattern_question1 = \"Fill in the blank letter '_' in  the pattern 1,8,9,64,25,216,_. Only return the answer\" # Answer is 49\n",
    "pattern_question2 = \"If dinosaurs were alive today, would they possess a threat to people? respond briefly\""
   ]
  },
  {
   "cell_type": "code",
   "execution_count": 4,
   "id": "27f57d31-f05a-4860-964e-7fb0d96a87ef",
   "metadata": {},
   "outputs": [
    {
     "ename": "AttributeError",
     "evalue": "'Phi3Modelbiss' object has no attribute 'config'",
     "output_type": "error",
     "traceback": [
      "\u001b[0;31m---------------------------------------------------------------------------\u001b[0m",
      "\u001b[0;31mAttributeError\u001b[0m                            Traceback (most recent call last)",
      "Cell \u001b[0;32mIn[4], line 1\u001b[0m\n\u001b[0;32m----> 1\u001b[0m pipe_phi \u001b[38;5;241m=\u001b[39m \u001b[43mpipeline\u001b[49m\u001b[43m(\u001b[49m\u001b[43mmodel\u001b[49m\u001b[43m \u001b[49m\u001b[38;5;241;43m=\u001b[39;49m\u001b[43m \u001b[49m\u001b[43mmodel\u001b[49m\u001b[43m,\u001b[49m\u001b[43m \u001b[49m\u001b[43mtask\u001b[49m\u001b[43m \u001b[49m\u001b[38;5;241;43m=\u001b[39;49m\u001b[43m \u001b[49m\u001b[38;5;124;43m\"\u001b[39;49m\u001b[38;5;124;43mtext-generation\u001b[39;49m\u001b[38;5;124;43m\"\u001b[39;49m\u001b[43m,\u001b[49m\u001b[43m \u001b[49m\u001b[43mtokenizer\u001b[49m\u001b[38;5;241;43m=\u001b[39;49m\u001b[43mtokenizer\u001b[49m\u001b[43m,\u001b[49m\u001b[43m \u001b[49m\u001b[43mmax_new_tokens\u001b[49m\u001b[43m \u001b[49m\u001b[38;5;241;43m=\u001b[39;49m\u001b[43m \u001b[49m\u001b[38;5;241;43m256\u001b[39;49m\u001b[43m)\u001b[49m\n\u001b[1;32m      4\u001b[0m response_1_phi \u001b[38;5;241m=\u001b[39m pipe_phi(pattern_question1)\n\u001b[1;32m      7\u001b[0m \u001b[38;5;28mprint\u001b[39m(response_1_phi[\u001b[38;5;241m0\u001b[39m][\u001b[38;5;124m'\u001b[39m\u001b[38;5;124mgenerated_text\u001b[39m\u001b[38;5;124m'\u001b[39m])\n",
      "File \u001b[0;32m/opt/mamba/lib/python3.12/site-packages/transformers/pipelines/__init__.py:916\u001b[0m, in \u001b[0;36mpipeline\u001b[0;34m(task, model, config, tokenizer, feature_extractor, image_processor, framework, revision, use_fast, token, device, device_map, torch_dtype, trust_remote_code, model_kwargs, pipeline_class, **kwargs)\u001b[0m\n\u001b[1;32m    905\u001b[0m     model_classes \u001b[38;5;241m=\u001b[39m {\u001b[38;5;124m\"\u001b[39m\u001b[38;5;124mtf\u001b[39m\u001b[38;5;124m\"\u001b[39m: targeted_task[\u001b[38;5;124m\"\u001b[39m\u001b[38;5;124mtf\u001b[39m\u001b[38;5;124m\"\u001b[39m], \u001b[38;5;124m\"\u001b[39m\u001b[38;5;124mpt\u001b[39m\u001b[38;5;124m\"\u001b[39m: targeted_task[\u001b[38;5;124m\"\u001b[39m\u001b[38;5;124mpt\u001b[39m\u001b[38;5;124m\"\u001b[39m]}\n\u001b[1;32m    906\u001b[0m     framework, model \u001b[38;5;241m=\u001b[39m infer_framework_load_model(\n\u001b[1;32m    907\u001b[0m         model,\n\u001b[1;32m    908\u001b[0m         model_classes\u001b[38;5;241m=\u001b[39mmodel_classes,\n\u001b[0;32m   (...)\u001b[0m\n\u001b[1;32m    913\u001b[0m         \u001b[38;5;241m*\u001b[39m\u001b[38;5;241m*\u001b[39mmodel_kwargs,\n\u001b[1;32m    914\u001b[0m     )\n\u001b[0;32m--> 916\u001b[0m model_config \u001b[38;5;241m=\u001b[39m \u001b[43mmodel\u001b[49m\u001b[38;5;241;43m.\u001b[39;49m\u001b[43mconfig\u001b[49m\n\u001b[1;32m    917\u001b[0m hub_kwargs[\u001b[38;5;124m\"\u001b[39m\u001b[38;5;124m_commit_hash\u001b[39m\u001b[38;5;124m\"\u001b[39m] \u001b[38;5;241m=\u001b[39m model\u001b[38;5;241m.\u001b[39mconfig\u001b[38;5;241m.\u001b[39m_commit_hash\n\u001b[1;32m    918\u001b[0m load_tokenizer \u001b[38;5;241m=\u001b[39m \u001b[38;5;28mtype\u001b[39m(model_config) \u001b[38;5;129;01min\u001b[39;00m TOKENIZER_MAPPING \u001b[38;5;129;01mor\u001b[39;00m model_config\u001b[38;5;241m.\u001b[39mtokenizer_class \u001b[38;5;129;01mis\u001b[39;00m \u001b[38;5;129;01mnot\u001b[39;00m \u001b[38;5;28;01mNone\u001b[39;00m\n",
      "File \u001b[0;32m/opt/mamba/lib/python3.12/site-packages/torch/nn/modules/module.py:1709\u001b[0m, in \u001b[0;36mModule.__getattr__\u001b[0;34m(self, name)\u001b[0m\n\u001b[1;32m   1707\u001b[0m     \u001b[38;5;28;01mif\u001b[39;00m name \u001b[38;5;129;01min\u001b[39;00m modules:\n\u001b[1;32m   1708\u001b[0m         \u001b[38;5;28;01mreturn\u001b[39;00m modules[name]\n\u001b[0;32m-> 1709\u001b[0m \u001b[38;5;28;01mraise\u001b[39;00m \u001b[38;5;167;01mAttributeError\u001b[39;00m(\u001b[38;5;124mf\u001b[39m\u001b[38;5;124m\"\u001b[39m\u001b[38;5;124m'\u001b[39m\u001b[38;5;132;01m{\u001b[39;00m\u001b[38;5;28mtype\u001b[39m(\u001b[38;5;28mself\u001b[39m)\u001b[38;5;241m.\u001b[39m\u001b[38;5;18m__name__\u001b[39m\u001b[38;5;132;01m}\u001b[39;00m\u001b[38;5;124m'\u001b[39m\u001b[38;5;124m object has no attribute \u001b[39m\u001b[38;5;124m'\u001b[39m\u001b[38;5;132;01m{\u001b[39;00mname\u001b[38;5;132;01m}\u001b[39;00m\u001b[38;5;124m'\u001b[39m\u001b[38;5;124m\"\u001b[39m)\n",
      "\u001b[0;31mAttributeError\u001b[0m: 'Phi3Modelbiss' object has no attribute 'config'"
     ]
    }
   ],
   "source": [
    "pipe_phi = pipeline(model = model, task = \"text-generation\", tokenizer=tokenizer, max_new_tokens = 256)\n",
    "\n",
    "\n",
    "response_1_phi = pipe_phi(pattern_question1)\n",
    "\n",
    "\n",
    "print(response_1_phi[0]['generated_text'])"
   ]
  },
  {
   "cell_type": "code",
   "execution_count": 26,
   "id": "137bedf1-7753-4798-9e6c-3b861d8d61ab",
   "metadata": {},
   "outputs": [
    {
     "name": "stdout",
     "output_type": "stream",
     "text": [
      "If dinosaurs were alive today, would they possess a threat to people? respond briefly.\n",
      "\n",
      "\n",
      "### Response: Yes, if dinosaurs were alive today, they would likely pose a significant threat to people due to their size, strength, and predatory nature.\n"
     ]
    }
   ],
   "source": [
    "pipe_phi = pipeline(model = model, task = \"text-generation\", tokenizer=tokenizer, max_new_tokens = 50)\n",
    "\n",
    "\n",
    "response_2_phi = pipe_phi(pattern_question2)\n",
    "\n",
    "\n",
    "print(response_2_phi[0]['generated_text'])"
   ]
  },
  {
   "cell_type": "markdown",
   "id": "ca786245-6835-4a88-97e7-1c033500123e",
   "metadata": {},
   "source": [
    "## Focus on Tokenizer according to LLama-2-setup : https://github.com/TrelisResearch/llama-2-setup/blob/main/Llama_2_Prompt_and_Tokenizer_Format.ipynb\n"
   ]
  },
  {
   "cell_type": "code",
   "execution_count": 24,
   "id": "e897c6d5-6fd9-49d1-a678-68aa9ddc849e",
   "metadata": {},
   "outputs": [
    {
     "name": "stderr",
     "output_type": "stream",
     "text": [
      "Special tokens have been added in the vocabulary, make sure the associated word embeddings are fine-tuned or trained.\n"
     ]
    }
   ],
   "source": [
    "model_id = \"microsoft/Phi-3-mini-128k-instruct\"\n",
    "max_length=1000\n",
    "\n",
    "tokenizer = AutoTokenizer.from_pretrained(model_id, use_fast=True)"
   ]
  },
  {
   "cell_type": "code",
   "execution_count": 25,
   "id": "5f7d4198-cc71-41a4-9287-e67f0617d706",
   "metadata": {},
   "outputs": [
    {
     "name": "stdout",
     "output_type": "stream",
     "text": [
      "BOS Token: <s>\n",
      "EOS Token: <|endoftext|>\n"
     ]
    }
   ],
   "source": [
    "\n",
    "# Let's check and print the bos (beginning of sequence) and end of sequence tokens\n",
    "\n",
    "# Print the BOS and EOS tokens\n",
    "print(\"BOS Token:\", tokenizer.bos_token)\n",
    "print(\"EOS Token:\", tokenizer.eos_token)"
   ]
  },
  {
   "cell_type": "markdown",
   "id": "6402e457-76ea-4540-97de-def5484de8fd",
   "metadata": {},
   "source": [
    "Next, let's see how these tokens are applied when we tokenize:\n",
    "\n"
   ]
  },
  {
   "cell_type": "code",
   "execution_count": 26,
   "id": "36b6b8c7-5d1d-4ab2-945f-fb33246edb60",
   "metadata": {},
   "outputs": [
    {
     "name": "stdout",
     "output_type": "stream",
     "text": [
      "Without special tokens:\n",
      "Tokenized Text: ['Hello', ',', 'world', '!']\n",
      "Token IDs: [15043, 29892, 3186, 29991]\n"
     ]
    }
   ],
   "source": [
    "# Sample sentence\n",
    "sample_sentence = \"Hello, world!\"\n",
    "\n",
    "# Tokenize without special tokens\n",
    "tokenized_output_no_special = tokenizer(sample_sentence, add_special_tokens=False)\n",
    "print(\"Without special tokens:\")\n",
    "print(\"Tokenized Text:\", [tokenizer.decode([x]) for x in tokenized_output_no_special[\"input_ids\"]])\n",
    "print(\"Token IDs:\", tokenized_output_no_special[\"input_ids\"])\n",
    "     "
   ]
  },
  {
   "cell_type": "markdown",
   "id": "5f98a5fe-3820-4571-8e8c-c591291424fc",
   "metadata": {},
   "source": [
    "You can see that in the above, we have set 'add_special_tokens=False'. Notice what happens when we set this to true (which is often managed by the Trainer)."
   ]
  },
  {
   "cell_type": "code",
   "execution_count": 27,
   "id": "d315df45-f9d4-4f99-afb9-43f064b4c068",
   "metadata": {},
   "outputs": [
    {
     "name": "stdout",
     "output_type": "stream",
     "text": [
      "\n",
      "With special tokens:\n",
      "Tokenized Text: ['<s>', 'Hello', ',', 'world', '!']\n",
      "Token IDs: [1, 15043, 29892, 3186, 29991]\n"
     ]
    }
   ],
   "source": [
    "# Tokenize with special tokens\n",
    "tokenized_output_with_special = tokenizer(sample_sentence, add_special_tokens=True)\n",
    "print(\"\\nWith special tokens:\")\n",
    "print(\"Tokenized Text:\", [tokenizer.decode([x]) for x in tokenized_output_with_special[\"input_ids\"]])\n",
    "print(\"Token IDs:\", tokenized_output_with_special[\"input_ids\"])"
   ]
  },
  {
   "cell_type": "markdown",
   "id": "5977eb02-3609-43db-b716-2fef8c784454",
   "metadata": {},
   "source": [
    "Notice how there is a BOS (beginning of sequence) token added to the start of the tokenized text.\n",
    "\n"
   ]
  },
  {
   "cell_type": "markdown",
   "id": "58b6b02e-b446-4dad-b8ef-6f952161ce9e",
   "metadata": {},
   "source": [
    "\n",
    "Pad Token (and Mask and Unknown Tokens): \n",
    "\n",
    "-Padding token (used during training to pad sequences to a certain length)\n",
    "\n",
    "-Mask token (used to ignore certain tokens, either ignore them for attention or for loss calculations)\n",
    "\n",
    "-Unknown tokens, unk, which are not in the vocabulary."
   ]
  },
  {
   "cell_type": "code",
   "execution_count": 29,
   "id": "ed8fb649-fd6f-48e0-b8a5-9daff61c844b",
   "metadata": {},
   "outputs": [
    {
     "name": "stdout",
     "output_type": "stream",
     "text": [
      "Mask Token: None\n",
      "Pad Token: <|endoftext|>\n",
      "Unknown Token: <unk>\n"
     ]
    }
   ],
   "source": [
    "# Print additional special tokens\n",
    "print(\"Mask Token:\", tokenizer.mask_token)\n",
    "print(\"Pad Token:\", tokenizer.pad_token)\n",
    "print(\"Unknown Token:\", tokenizer.unk_token)\n",
    "     "
   ]
  },
  {
   "cell_type": "markdown",
   "id": "733f8eb2-3bb4-43d3-8006-167244bb2413",
   "metadata": {},
   "source": [
    "# Test tokens and embedding\n"
   ]
  },
  {
   "cell_type": "code",
   "execution_count": 2,
   "id": "f6d4d8bb-5c3e-4460-9c9b-9674047e2048",
   "metadata": {},
   "outputs": [
    {
     "name": "stdout",
     "output_type": "stream",
     "text": [
      "Note: you may need to restart the kernel to use updated packages.\n"
     ]
    },
    {
     "name": "stderr",
     "output_type": "stream",
     "text": [
      "Special tokens have been added in the vocabulary, make sure the associated word embeddings are fine-tuned or trained.\n"
     ]
    },
    {
     "name": "stdout",
     "output_type": "stream",
     "text": [
      "end\n"
     ]
    }
   ],
   "source": [
    "\n",
    "%pip -q install --upgrade transformers\n",
    "from transformers import AutoTokenizer, AutoModelForCausalLM, pipeline\n",
    "\n",
    "\n",
    "hf_model = \"microsoft/Phi-3-mini-128k-instruct\"\n",
    "max_length=1000\n",
    "\n",
    "tokenizer= AutoTokenizer.from_pretrained(hf_model)\n",
    "\n",
    "print(\"end\")"
   ]
  },
  {
   "cell_type": "code",
   "execution_count": 32,
   "id": "337d1d6f-be5c-4367-953d-4da02f2c869a",
   "metadata": {},
   "outputs": [
    {
     "name": "stdout",
     "output_type": "stream",
     "text": [
      "tensor([[    1,   960,  4538,  3628,  1295,   892, 18758,  9826, 29892,   723,\n",
      "           896, 22592,   263, 28469,   304,  2305, 29973]])\n",
      "\n",
      "The size of the inputs sentence is : 17\n",
      "The dimension of each vector is : 768\n",
      "\n",
      "The sentence with each tokens represented with his ids :  [1, 960, 4538, 3628, 1295, 892, 18758, 9826, 29892, 723, 896, 22592, 263, 28469, 304, 2305, 29973]\n",
      "The sentence represented as vectors : tensor([[[ 0.3444, -3.1016, -1.4587,  ...,  0.2200,  0.3249,  1.3190],\n",
      "         [ 1.1815,  0.9857,  0.1791,  ..., -2.5218, -0.8953, -0.3788],\n",
      "         [-0.1824, -0.7934,  0.3156,  ..., -0.0760,  0.6200,  1.1632],\n",
      "         ...,\n",
      "         [-0.4955, -0.9854, -1.0602,  ...,  0.3052, -0.8702, -0.9580],\n",
      "         [-1.5081, -0.4913, -0.8173,  ...,  0.0485,  1.0110,  0.0561],\n",
      "         [ 1.1551, -2.2644, -0.4633,  ...,  0.5362,  0.8374, -3.4020]]],\n",
      "       grad_fn=<EmbeddingBackward0>)\n",
      "\n",
      "The size of the inputs sentence is : 17\n",
      "The dimension of each vector is : 768\n"
     ]
    }
   ],
   "source": [
    "import torch\n",
    "from torch import nn\n",
    "\n",
    "\n",
    "\n",
    "seed=42\n",
    "torch.manual_seed(seed)\n",
    "\n",
    "\n",
    "# Define a simple configuration class\n",
    "class Config:\n",
    "    def __init__(self, vocab_size, hidden_size, pad_token_id):\n",
    "        self.vocab_size = vocab_size\n",
    "        self.hidden_size = hidden_size\n",
    "        self.pad_token_id = pad_token_id\n",
    "\n",
    "# Define the Phi3Model class\n",
    "class Phi3PreTrainedModel(nn.Module):\n",
    "    def __init__(self):\n",
    "        super().__init__()\n",
    "\n",
    "class Phi3Modelbiss(Phi3PreTrainedModel):\n",
    "    def __init__(self, config):\n",
    "        super().__init__()\n",
    "        self.embed_tokens = nn.Embedding(config.vocab_size, config.hidden_size, padding_idx=config.pad_token_id)\n",
    "\n",
    "    def forward(self, input_ids=None, inputs_embeds=None):\n",
    "        if input_ids is not None and inputs_embeds is None:\n",
    "            inputs_embeds = self.embed_tokens(input_ids)\n",
    "        return inputs_embeds\n",
    "\n",
    "# Initialize configuration\n",
    "config = Config(vocab_size=30522, hidden_size=768, pad_token_id=0)\n",
    "\n",
    "# Initialize the model\n",
    "modelbiss = Phi3Modelbiss(config)\n",
    "\n",
    "# Create dummy input tokens (batch_size=2, sequence_length=5)\n",
    "#input_ids = torch.tensor([[101, 2054, 2003, 102, 0], [101, 2129, 2024, 102, 0]])\n",
    "\n",
    "# Get embeddings\n",
    "\n",
    "\n",
    "sentence='If dinosaurs were alive today, would they possess a threat to people?'\n",
    "input_ids = torch.tensor([tokenizer.encode(sentence)])\n",
    "\n",
    "print(input_ids)\n",
    "\n",
    "embeddings = modelbiss(input_ids=input_ids)\n",
    "\n",
    "tensor_size = embeddings.size()\n",
    "print(\"\\nThe size of the inputs sentence is :\", tensor_size[1])\n",
    "print(\"The dimension of each vector is :\", tensor_size[2])\n",
    "\n",
    "\n",
    "\n",
    "# Print embeddings\n",
    "print(\"\\nThe sentence with each tokens represented with his ids : \" ,tokenizer.encode(sentence))\n",
    "\n",
    "\n",
    "print(\"The sentence represented as vectors :\",embeddings)\n",
    "\n",
    "tensor_size = embeddings.size()\n",
    "print(\"\\nThe size of the inputs sentence is :\", tensor_size[1])\n",
    "print(\"The dimension of each vector is :\", tensor_size[2])\n",
    "\n"
   ]
  },
  {
   "cell_type": "code",
   "execution_count": null,
   "id": "beab02cf-56a6-48a0-a156-513f276e9aba",
   "metadata": {},
   "outputs": [],
   "source": [
    "pipe_phi = pipeline(model = model, task = \"text-generation\", tokenizer=tokenizer, max_new_tokens = 50)\n",
    "\n",
    "\n",
    "response_2_phi = pipe_phi(pattern_question2)\n",
    "\n",
    "\n",
    "print(response_2_phi[0]['generated_text'])"
   ]
  },
  {
   "cell_type": "markdown",
   "id": "4e4b0dc7-f458-4022-bb59-0ac0249a0c03",
   "metadata": {},
   "source": [
    "# New test for outputs"
   ]
  },
  {
   "cell_type": "code",
   "execution_count": 3,
   "id": "436ec72a-76b8-4e21-b47e-f502d0cdf626",
   "metadata": {},
   "outputs": [
    {
     "name": "stderr",
     "output_type": "stream",
     "text": [
      "huggingface/tokenizers: The current process just got forked, after parallelism has already been used. Disabling parallelism to avoid deadlocks...\n",
      "To disable this warning, you can either:\n",
      "\t- Avoid using `tokenizers` before the fork if possible\n",
      "\t- Explicitly set the environment variable TOKENIZERS_PARALLELISM=(true | false)\n"
     ]
    },
    {
     "name": "stdout",
     "output_type": "stream",
     "text": [
      "Note: you may need to restart the kernel to use updated packages.\n"
     ]
    },
    {
     "name": "stderr",
     "output_type": "stream",
     "text": [
      "Special tokens have been added in the vocabulary, make sure the associated word embeddings are fine-tuned or trained.\n"
     ]
    },
    {
     "data": {
      "application/vnd.jupyter.widget-view+json": {
       "model_id": "45bf052e8bcd45d09944df8f1fb7a4bc",
       "version_major": 2,
       "version_minor": 0
      },
      "text/plain": [
       "Loading checkpoint shards:   0%|          | 0/2 [00:00<?, ?it/s]"
      ]
     },
     "metadata": {},
     "output_type": "display_data"
    },
    {
     "name": "stderr",
     "output_type": "stream",
     "text": [
      "Hardware accelerator e.g. GPU is available in the environment, but no `device` argument is passed to the `Pipeline` object. Model will be on CPU.\n"
     ]
    },
    {
     "name": "stdout",
     "output_type": "stream",
     "text": [
      "If dinosaurs were alive today, would they possess a threat to people? respond briefly.\n",
      "\n",
      "\n",
      "### Response: Yes, if dinosaurs were alive today, they would likely pose a significant threat to people due to their size, strength, and predatory nature.\n",
      "ok\n"
     ]
    }
   ],
   "source": [
    "%pip -q install --upgrade transformers\n",
    "import torch\n",
    "from torch import nn\n",
    "from transformers import AutoTokenizer, AutoModelForCausalLM, pipeline, Phi3ForCausalLM, Phi3Model\n",
    "\n",
    "seed=42\n",
    "torch.manual_seed(seed)\n",
    "hf_model = \"microsoft/Phi-3-mini-128k-instruct\"\n",
    "tokenizer= AutoTokenizer.from_pretrained(hf_model)\n",
    "#model = AutoModelForCausalLM.from_pretrained(hf_model)\n",
    "model = Phi3ForCausalLM.from_pretrained(hf_model)\n",
    "\n",
    "pattern_question=\"If dinosaurs were alive today, would they possess a threat to people? respond briefly\"\n",
    "# input_ids = torch.tensor([tokenizer.encode(pattern_question)])\n",
    "\n",
    "\n",
    "# # embeddings = model(input_ids=input_ids)\n",
    "pipe_phi = pipeline(model = model, task = \"text-generation\", tokenizer=tokenizer, max_new_tokens = 50)\n",
    "response_phi = pipe_phi(pattern_question)\n",
    "\n",
    "\n",
    "\n",
    "\n",
    "print(response_phi[0]['generated_text'])\n",
    "####\n",
    "print(\"ok\")\n",
    "\n",
    "#config = Config(vocab_size=30522, hidden_size=768, pad_token_id=0)\n",
    "\n",
    "# Initialize the model\n",
    "#modelbiss = Phi3Model(config)\n",
    "\n",
    "\n",
    "####\n",
    "\n",
    "\n",
    "\n"
   ]
  },
  {
   "cell_type": "code",
   "execution_count": 4,
   "id": "2cc010b8-7086-4094-b91c-fd4933968ca4",
   "metadata": {},
   "outputs": [
    {
     "name": "stdout",
     "output_type": "stream",
     "text": [
      "respons_phi :  [{'generated_text': 'If dinosaurs were alive today, would they possess a threat to people? respond briefly.\\n\\n\\n### Response: Yes, if dinosaurs were alive today, they would likely pose a significant threat to people due to their size, strength, and predatory nature.'}]\n",
      "If dinosaurs were alive today, would they possess a threat to people? respond briefly.\n",
      "\n",
      "\n",
      "### Response: Yes, if dinosaurs were alive today, they would likely pose a significant threat to people due to their size, strength, and predatory nature.\n"
     ]
    }
   ],
   "source": [
    "\n",
    "\n",
    "\n",
    "pipe_phi = pipeline(model = model, task = \"text-generation\", tokenizer=tokenizer, max_new_tokens = 50)\n",
    "response_phi = pipe_phi(pattern_question)\n",
    "\n",
    "\n",
    "\n",
    "\n",
    "print(response_phi[0]['generated_text'])"
   ]
  },
  {
   "cell_type": "code",
   "execution_count": 2,
   "id": "2c2354c9-db14-430f-bb60-e9baf06034ec",
   "metadata": {},
   "outputs": [
    {
     "name": "stderr",
     "output_type": "stream",
     "text": [
      "huggingface/tokenizers: The current process just got forked, after parallelism has already been used. Disabling parallelism to avoid deadlocks...\n",
      "To disable this warning, you can either:\n",
      "\t- Avoid using `tokenizers` before the fork if possible\n",
      "\t- Explicitly set the environment variable TOKENIZERS_PARALLELISM=(true | false)\n"
     ]
    },
    {
     "name": "stdout",
     "output_type": "stream",
     "text": [
      "Note: you may need to restart the kernel to use updated packages.\n"
     ]
    },
    {
     "name": "stderr",
     "output_type": "stream",
     "text": [
      "Special tokens have been added in the vocabulary, make sure the associated word embeddings are fine-tuned or trained.\n"
     ]
    },
    {
     "data": {
      "application/vnd.jupyter.widget-view+json": {
       "model_id": "3a9b615d0d4a436c8fd5ff74919794ec",
       "version_major": 2,
       "version_minor": 0
      },
      "text/plain": [
       "Loading checkpoint shards:   0%|          | 0/2 [00:00<?, ?it/s]"
      ]
     },
     "metadata": {},
     "output_type": "display_data"
    },
    {
     "name": "stdout",
     "output_type": "stream",
     "text": [
      "Input IDs: tensor([[    1,   960,  4538,  3628,  1295,   892, 18758,  9826, 29892,   723,\n",
      "           896, 22592,   263, 28469,   304,  2305, 29973, 10049, 23359]])\n",
      "['__annotations__', '__class__', '__class_getitem__', '__contains__', '__dataclass_fields__', '__dataclass_params__', '__delattr__', '__delitem__', '__dict__', '__dir__', '__doc__', '__eq__', '__format__', '__ge__', '__getattribute__', '__getitem__', '__getstate__', '__gt__', '__hash__', '__init__', '__init_subclass__', '__ior__', '__iter__', '__le__', '__len__', '__lt__', '__match_args__', '__module__', '__ne__', '__new__', '__or__', '__post_init__', '__reduce__', '__reduce_ex__', '__repr__', '__reversed__', '__ror__', '__setattr__', '__setitem__', '__sizeof__', '__str__', '__subclasshook__', 'attentions', 'clear', 'copy', 'fromkeys', 'get', 'hidden_states', 'items', 'keys', 'logits', 'loss', 'move_to_end', 'past_key_values', 'pop', 'popitem', 'setdefault', 'to_tuple', 'update', 'values']\n",
      "Input Embeddings: None\n",
      "Generated IDs: tensor([[    1,   960,  4538,  3628,  1295,   892, 18758,  9826, 29892,   723,\n",
      "           896, 22592,   263, 28469,   304,  2305, 29973, 10049, 23359, 32007]])\n",
      "Output Embeddings: None\n",
      "Generated Text: If dinosaurs were alive today, would they possess a threat to people? respond briefly\n"
     ]
    }
   ],
   "source": [
    "# Installation des bibliothèques nécessaires\n",
    "%pip -q install --upgrade transformers\n",
    "import torch\n",
    "from transformers import AutoTokenizer, pipeline, Phi3ForCausalLM\n",
    "\n",
    "# Initialisation\n",
    "seed = 42\n",
    "torch.manual_seed(seed)\n",
    "hf_model = \"microsoft/Phi-3-mini-128k-instruct\"\n",
    "tokenizer = AutoTokenizer.from_pretrained(hf_model)\n",
    "model = Phi3ForCausalLM.from_pretrained(hf_model)\n",
    "\n",
    "# Tokenisation de la question\n",
    "pattern_question = \"If dinosaurs were alive today, would they possess a threat to people? respond briefly\"\n",
    "input_ids = tokenizer.encode(pattern_question, return_tensors='pt')\n",
    "print(\"Input IDs:\", input_ids)\n",
    "\n",
    "# Passage des tokens à travers le modèle pour obtenir les embeddings\n",
    "outputs = model(input_ids)\n",
    "print(dir(outputs))\n",
    "input_embeddings = outputs.hidden_states\n",
    "print(\"Input Embeddings:\", input_embeddings)\n",
    "\n",
    "# Génération de texte\n",
    "generated_ids = model.generate(input_ids, max_new_tokens=50)\n",
    "print(\"Generated IDs:\", generated_ids)\n",
    "\n",
    "# Passage des tokens générés à travers le modèle pour obtenir les embeddings\n",
    "outputs_generated = model(generated_ids)\n",
    "output_embeddings = outputs_generated.hidden_states\n",
    "print(\"Output Embeddings:\", output_embeddings)\n",
    "\n",
    "# Déconvertion des tokens générés en texte\n",
    "generated_text = tokenizer.decode(generated_ids[0], skip_special_tokens=True)\n",
    "print(\"Generated Text:\", generated_text)"
   ]
  },
  {
   "cell_type": "code",
   "execution_count": null,
   "id": "88ad0b06-4dd4-4e4c-88f4-f5d94697e61d",
   "metadata": {},
   "outputs": [
    {
     "name": "stderr",
     "output_type": "stream",
     "text": [
      "huggingface/tokenizers: The current process just got forked, after parallelism has already been used. Disabling parallelism to avoid deadlocks...\n",
      "To disable this warning, you can either:\n",
      "\t- Avoid using `tokenizers` before the fork if possible\n",
      "\t- Explicitly set the environment variable TOKENIZERS_PARALLELISM=(true | false)\n"
     ]
    },
    {
     "name": "stdout",
     "output_type": "stream",
     "text": [
      "Note: you may need to restart the kernel to use updated packages.\n"
     ]
    },
    {
     "name": "stderr",
     "output_type": "stream",
     "text": [
      "Special tokens have been added in the vocabulary, make sure the associated word embeddings are fine-tuned or trained.\n"
     ]
    },
    {
     "data": {
      "application/vnd.jupyter.widget-view+json": {
       "model_id": "71eac8d13c684f12906ab9ba6f351546",
       "version_major": 2,
       "version_minor": 0
      },
      "text/plain": [
       "Loading checkpoint shards:   0%|          | 0/2 [00:00<?, ?it/s]"
      ]
     },
     "metadata": {},
     "output_type": "display_data"
    }
   ],
   "source": [
    "# Installation des bibliothèques nécessaires\n",
    "%pip -q install --upgrade transformers\n",
    "import torch\n",
    "from torch import nn\n",
    "from transformers import AutoTokenizer, AutoModelForCausalLM, pipeline, Phi3ForCausalLM, Phi3Model\n",
    "\n",
    "# Configuration\n",
    "seed = 42\n",
    "torch.manual_seed(seed)\n",
    "hf_model = \"microsoft/Phi-3-mini-128k-instruct\"\n",
    "tokenizer = AutoTokenizer.from_pretrained(hf_model)\n",
    "model = Phi3ForCausalLM.from_pretrained(hf_model)\n",
    "\n",
    "# Question d'entrée\n",
    "pattern_question = \"If dinosaurs were alive today, would they possess a threat to people? respond briefly\"\n",
    "\n",
    "# Utilisation du pipeline pour générer une réponse\n",
    "pipe_phi = pipeline(model=model, task=\"text-generation\", tokenizer=tokenizer, max_new_tokens=50)\n",
    "response_phi = pipe_phi(pattern_question)\n",
    "generated_text = response_phi[0]['generated_text']\n",
    "\n",
    "print(\"Generated Text:\", generated_text)\n",
    "\n",
    "# Conversion de la réponse générée en identifiants de tokens\n",
    "generated_ids = tokenizer.encode(generated_text, return_tensors='pt')\n",
    "print(\"Generated Token IDs:\", generated_ids)\n",
    "\n",
    "# Classe de configuration simple\n",
    "class Config:\n",
    "    def __init__(self, vocab_size, hidden_size, pad_token_id):\n",
    "        self.vocab_size = vocab_size\n",
    "        self.hidden_size = hidden_size\n",
    "        self.pad_token_id = pad_token_id\n",
    "\n",
    "# Définition de la classe Phi3Model\n",
    "class Phi3PreTrainedModel(nn.Module):\n",
    "    def __init__(self):\n",
    "        super().__init__()\n",
    "\n",
    "class Phi3Modelbiss(Phi3PreTrainedModel):\n",
    "    def __init__(self, config):\n",
    "        super().__init__()\n",
    "        self.embed_tokens = nn.Embedding(config.vocab_size, config.hidden_size, padding_idx=config.pad_token_id)\n",
    "\n",
    "    def forward(self, input_ids=None, inputs_embeds=None):\n",
    "        if input_ids is not None and inputs_embeds is None:\n",
    "            inputs_embeds = self.embed_tokens(input_ids)\n",
    "        return inputs_embeds\n",
    "\n",
    "# Initialisation de la configuration\n",
    "config = Config(vocab_size=tokenizer.vocab_size, hidden_size=768, pad_token_id=tokenizer.pad_token_id)\n",
    "\n",
    "# Initialisation du modèle d'embedding\n",
    "modelbiss = Phi3Modelbiss(config)\n",
    "\n",
    "# Obtention des embeddings pour les tokens générés\n",
    "embeddings = modelbiss(input_ids=generated_ids)\n",
    "\n",
    "# Affichage des dimensions des embeddings\n",
    "tensor_size = embeddings.size()\n",
    "print(\"\\nThe size of the generated sentence is:\", tensor_size[1])\n",
    "print(\"The dimension of each vector is:\", tensor_size[2])\n",
    "\n",
    "# Affichage des embeddings\n",
    "print(\"\\nThe sentence represented as vectors:\", embeddings)\n",
    "\n",
    "# Impression des identifiants de tokens générés\n",
    "print(\"The generated sentence with each token represented by its ID:\", generated_ids)\n",
    "\n",
    "# Affichage des embeddings\n",
    "print(\"The generated sentence represented as vectors:\", embeddings)\n"
   ]
  }
 ],
 "metadata": {
  "kernelspec": {
   "display_name": "Python 3 (ipykernel)",
   "language": "python",
   "name": "python3"
  },
  "language_info": {
   "codemirror_mode": {
    "name": "ipython",
    "version": 3
   },
   "file_extension": ".py",
   "mimetype": "text/x-python",
   "name": "python",
   "nbconvert_exporter": "python",
   "pygments_lexer": "ipython3",
   "version": "3.12.3"
  }
 },
 "nbformat": 4,
 "nbformat_minor": 5
}
